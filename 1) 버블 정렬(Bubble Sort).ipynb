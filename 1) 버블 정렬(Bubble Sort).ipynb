{
  "cells": [
    {
      "cell_type": "markdown",
      "metadata": {
        "id": "view-in-github",
        "colab_type": "text"
      },
      "source": [
        "<a href=\"https://colab.research.google.com/github/dscoool/datastructure/blob/main/1)%20%EB%B2%84%EB%B8%94%20%EC%A0%95%EB%A0%AC(Bubble%20Sort).ipynb\" target=\"_parent\"><img src=\"https://colab.research.google.com/assets/colab-badge.svg\" alt=\"Open In Colab\"/></a>"
      ]
    },
    {
      "cell_type": "markdown",
      "metadata": {
        "id": "5AXNaHxgFAzV"
      },
      "source": [
        "## 대표적인 정렬1: 버블 정렬 (bubble sort)"
      ]
    },
    {
      "cell_type": "markdown",
      "metadata": {
        "id": "ralONA9WFAzY"
      },
      "source": [
        "### 1. 정렬 (sorting) 이란?\n",
        "- 정렬 (sorting): 어떤 데이터들이 주어졌을 때 이를 정해진 순서대로 나열하는 것\n",
        "- 정렬은 프로그램 작성시 빈번하게 필요로 함\n",
        "- 다양한 알고리즘이 고안되었으며, 알고리즘 학습의 필수\n",
        "\n",
        "> 다양한 정렬 알고리즘 이해를 통해, 동일한 문제에 대해 다양한 알고리즘이 고안될 수 있음을 이해하고,\n",
        "> 각 알고리즘간 성능 비교를 통해, 알고리즘 성능 분석에 대해서도 이해할 수 있음"
      ]
    },
    {
      "cell_type": "markdown",
      "metadata": {
        "id": "_an6fD8AFAzZ"
      },
      "source": [
        "### 2. 버블 정렬 (bubble sort) 란?\n",
        "* 두 인접한 데이터를 비교해서, 앞에 있는 데이터가 뒤에 있는 데이터보다 크면, 자리를 바꾸는 정렬 알고리즘\n",
        "\n",
        "#### 직접 눈으로 보면 더 이해가 쉽다: https://visualgo.net/en/sorting\n",
        "\n",
        "<img src=\"https://upload.wikimedia.org/wikipedia/commons/c/c8/Bubble-sort-example-300px.gif\" width=\"600\" />\n",
        "\n",
        "> 출처: https://en.wikipedia.org/wiki/Bubble_sort"
      ]
    },
    {
      "cell_type": "markdown",
      "metadata": {
        "collapsed": true,
        "id": "VBB-1sGsFAzZ"
      },
      "source": [
        "### 3. 알고리즘 구현\n",
        "* **특이점 찾아보기**\n",
        "  - n개의 리스트가 있는 경우 최대 n-1번의 로직을 적용한다.\n",
        "  - 로직을 1번 적용할 때마다 가장 큰 숫자가 뒤에서부터 1개씩 결정된다.\n",
        "  - 로직이 경우에 따라 일찍 끝날 수도 있다. 따라서 로직을 적용할 때 한 번도 데이터가 교환된 적이 없다면 이미 정렬된 상태이므로 더 이상 로직을 반복 적용할 필요가 없다.\n",
        "\n",
        "<img src=\"https://www.fun-coding.org/00_Images/bubblealgo.png\" width=\"700\" />"
      ]
    },
    {
      "cell_type": "markdown",
      "metadata": {
        "collapsed": true,
        "id": "kKHXw6CbFAza"
      },
      "source": [
        "1. for num in range(len(data_list)) 반복\n",
        "2. swap = 0 (교환이 되었는지를 확인하는 변수를 두자)\n",
        "2. 반복문 안에서, for index in range(len(data_list) - num - 1) n - 1번 반복해야 하므로\n",
        "3. 반복문안의 반복문 안에서, if data_list[index] > data_list[index + 1] 이면\n",
        "4.                data_list[index], data_list[index + 1] = data_list[index + 1], data_list[index]\n",
        "5.                swap += 1\n",
        "6. 반복문 안에서, if swap == 0 이면, break 끝"
      ]
    },
    {
      "cell_type": "code",
      "execution_count": null,
      "metadata": {
        "id": "htgEmPqrFAza"
      },
      "outputs": [],
      "source": [
        "def bubblesort(data):\n",
        "    for index in range(len(data) - 1):\n",
        "        swap = False\n",
        "        for index2 in range(len(data) - index - 1):\n",
        "            if data[index2] > data[index2 + 1]:\n",
        "                data[index2], data[index2 + 1] = data[index2 + 1], data[index2]\n",
        "                swap = True\n",
        "\n",
        "        if swap == False:\n",
        "            break\n",
        "    return data"
      ]
    },
    {
      "cell_type": "code",
      "execution_count": null,
      "metadata": {
        "id": "0niOI75gFAzc",
        "outputId": "5896e7ad-ca68-4e53-c051-e2ee801a8793"
      },
      "outputs": [
        {
          "name": "stdout",
          "output_type": "stream",
          "text": [
            "[1, 4, 5, 7, 8, 11, 14, 15, 17, 20, 26, 28, 31, 33, 35, 36, 42, 43, 44, 50, 51, 52, 53, 54, 57, 59, 62, 65, 66, 67, 68, 69, 70, 72, 73, 75, 77, 79, 81, 83, 84, 85, 87, 89, 90, 91, 92, 94, 97, 98]\n"
          ]
        }
      ],
      "source": [
        "import random\n",
        "\n",
        "data_list = random.sample(range(100), 50)\n",
        "print (bubblesort(data_list))"
      ]
    },
    {
      "cell_type": "markdown",
      "metadata": {
        "id": "ufswrkH2FAzd"
      },
      "source": [
        "### 4. 알고리즘 분석\n",
        "* 반복문이 두 개 O($n^2$)\n",
        "  - 최악의 경우, <font size=5em>$\\frac { n * (n - 1)}{ 2 }$</font>\n",
        "* 완전 정렬이 되어 있는 상태라면 최선은 O(n)"
      ]
    }
  ],
  "metadata": {
    "kernelspec": {
      "display_name": "Python 3",
      "language": "python",
      "name": "python3"
    },
    "language_info": {
      "codemirror_mode": {
        "name": "ipython",
        "version": 3
      },
      "file_extension": ".py",
      "mimetype": "text/x-python",
      "name": "python",
      "nbconvert_exporter": "python",
      "pygments_lexer": "ipython3",
      "version": "3.6.9"
    },
    "nbTranslate": {
      "displayLangs": [
        "*"
      ],
      "hotkey": "alt-t",
      "langInMainMenu": true,
      "sourceLang": "en",
      "targetLang": "fr",
      "useGoogleTranslate": true
    },
    "colab": {
      "provenance": [],
      "include_colab_link": true
    }
  },
  "nbformat": 4,
  "nbformat_minor": 0
}