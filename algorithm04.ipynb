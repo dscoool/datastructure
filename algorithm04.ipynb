{
  "cells": [
    {
      "cell_type": "markdown",
      "metadata": {
        "id": "view-in-github",
        "colab_type": "text"
      },
      "source": [
        "<a href=\"https://colab.research.google.com/github/dscoool/datastructure/blob/main/algorithm04.ipynb\" target=\"_parent\"><img src=\"https://colab.research.google.com/assets/colab-badge.svg\" alt=\"Open In Colab\"/></a>"
      ]
    },
    {
      "cell_type": "markdown",
      "metadata": {
        "id": "htN9AW_YwtF4"
      },
      "source": [
        "# 영영사전(English Dictionary) 만들기!!"
      ]
    },
    {
      "cell_type": "markdown",
      "metadata": {
        "id": "I2VU2wdNwtF6"
      },
      "source": [
        "### 필요한 모듈 설치\n",
        "### ! --> 느낌표는 콘솔 바깥으로 나가서 명령어를 실행한다는 뜻\n",
        "### pip install --> 모듈 설치"
      ]
    },
    {
      "cell_type": "code",
      "execution_count": null,
      "metadata": {
        "id": "esn59DodwtF7",
        "outputId": "1f08f3a1-213b-47ab-bfa1-c7efe7909963"
      },
      "outputs": [
        {
          "name": "stderr",
          "output_type": "stream",
          "text": [
            "ERROR: Could not find a version that satisfies the requirement tkinter (from versions: none)\n",
            "ERROR: No matching distribution found for tkinter\n"
          ]
        },
        {
          "name": "stdout",
          "output_type": "stream",
          "text": [
            "Requirement already satisfied: PyMultiDictionary in c:\\python311\\lib\\site-packages (1.2.3)\n",
            "Requirement already satisfied: bs4 in c:\\python311\\lib\\site-packages (from PyMultiDictionary) (0.0.1)\n",
            "Requirement already satisfied: iso639-lang in c:\\python311\\lib\\site-packages (from PyMultiDictionary) (2.1.0)\n",
            "Requirement already satisfied: requests in c:\\python311\\lib\\site-packages (from PyMultiDictionary) (2.31.0)\n",
            "Requirement already satisfied: beautifulsoup4 in c:\\python311\\lib\\site-packages (from bs4->PyMultiDictionary) (4.12.2)\n",
            "Requirement already satisfied: charset-normalizer<4,>=2 in c:\\python311\\lib\\site-packages (from requests->PyMultiDictionary) (3.2.0)\n",
            "Requirement already satisfied: idna<4,>=2.5 in c:\\python311\\lib\\site-packages (from requests->PyMultiDictionary) (3.4)\n",
            "Requirement already satisfied: urllib3<3,>=1.21.1 in c:\\python311\\lib\\site-packages (from requests->PyMultiDictionary) (2.0.4)\n",
            "Requirement already satisfied: certifi>=2017.4.17 in c:\\python311\\lib\\site-packages (from requests->PyMultiDictionary) (2023.7.22)\n",
            "Requirement already satisfied: soupsieve>1.2 in c:\\python311\\lib\\site-packages (from beautifulsoup4->bs4->PyMultiDictionary) (2.4.1)\n"
          ]
        }
      ],
      "source": [
        "!pip install tkinter\n",
        "!pip install PyMultiDictionary"
      ]
    },
    {
      "cell_type": "code",
      "execution_count": null,
      "metadata": {
        "id": "aXKJOWsEwtF9",
        "outputId": "40b83219-ca4d-45f8-dcf3-31904c642396"
      },
      "outputs": [
        {
          "data": {
            "text/plain": [
              "''"
            ]
          },
          "execution_count": 21,
          "metadata": {},
          "output_type": "execute_result"
        }
      ],
      "source": [
        "from tkinter import *\n",
        "from PyMultiDictionary import MultiDictionary\n",
        "\n",
        "dictionary = MultiDictionary()\n",
        "root = Tk()\n",
        "root.title(\"Word Dictionary Using Python\")\n",
        "root.geometry(\"1250x750\")"
      ]
    },
    {
      "cell_type": "code",
      "execution_count": null,
      "metadata": {
        "id": "bVu8Xn9gwtF9"
      },
      "outputs": [],
      "source": [
        "def dict():\n",
        "    meaning.config(text=dictionary.meaning('en', word.get())[1])\n",
        "    synonym.config(text=dictionary.synonym('en', word.get()))\n",
        "    antonym.config(text=dictionary.antonym('en', word.get()))"
      ]
    },
    {
      "cell_type": "code",
      "execution_count": null,
      "metadata": {
        "id": "A0U_rRPQwtF-"
      },
      "outputs": [],
      "source": [
        "Label(root, text=\"Word Dictionary Using Python\", font=(\"Arial 36 bold\"),\n",
        " fg=\"Purple\").pack(pady=10)\n",
        "\n",
        "frame = Frame(root)\n",
        "Label(frame, text=\"Type Word:\", font=(\"Arial 28 bold\")).pack(side=LEFT)\n",
        "word = Entry(frame, font=(\"Arial 23 bold\"))\n",
        "word.pack()\n",
        "frame.pack(pady=10)"
      ]
    },
    {
      "cell_type": "code",
      "execution_count": null,
      "metadata": {
        "id": "7JjPTcp1wtF-"
      },
      "outputs": [],
      "source": [
        "frame1 = Frame(root)\n",
        "Label(frame1, text=\"Meaning: \", font=(\"Arial 18 bold\")).pack(side=LEFT)\n",
        "meaning = Label(frame1, text=\"\", font=(\"Arial 18\"),wraplength=1000)\n",
        "meaning.pack()\n",
        "frame1.pack(pady=15)"
      ]
    },
    {
      "cell_type": "code",
      "execution_count": null,
      "metadata": {
        "id": "krmoX1aBwtF-"
      },
      "outputs": [],
      "source": [
        "frame2 = Frame(root)\n",
        "Label(frame2, text=\"Synonym: \", font=(\"Arial 18 bold\")).pack(side=LEFT)\n",
        "synonym = Label(frame2, text=\"\", font=(\"Arial 18\"), wraplength=1000)\n",
        "synonym.pack()\n",
        "frame2.pack(pady=15)\n",
        "\n",
        "frame3 = Frame(root)\n",
        "Label(frame3, text=\"Antonym: \", font=(\"Arial 18 bold\")).pack(side=LEFT)\n",
        "antonym = Label(frame3, text=\"\", font=(\"Arial 18\"), wraplength=1000)\n",
        "antonym.pack(side=LEFT)\n",
        "frame3.pack(pady=20)"
      ]
    },
    {
      "cell_type": "code",
      "execution_count": null,
      "metadata": {
        "id": "Xwr8Vrk0wtF_"
      },
      "outputs": [],
      "source": [
        "Button(root, text=\"Submit\", font=(\"Arial 18 bold\"), command=dict).pack()\n",
        "root.mainloop()"
      ]
    }
  ],
  "metadata": {
    "kernelspec": {
      "display_name": "Python 3",
      "language": "python",
      "name": "python3"
    },
    "language_info": {
      "codemirror_mode": {
        "name": "ipython",
        "version": 3
      },
      "file_extension": ".py",
      "mimetype": "text/x-python",
      "name": "python",
      "nbconvert_exporter": "python",
      "pygments_lexer": "ipython3",
      "version": "3.11.5"
    },
    "orig_nbformat": 4,
    "colab": {
      "provenance": [],
      "include_colab_link": true
    }
  },
  "nbformat": 4,
  "nbformat_minor": 0
}