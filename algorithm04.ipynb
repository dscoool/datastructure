{
 "cells": [
  {
   "cell_type": "code",
   "execution_count": 9,
   "metadata": {},
   "outputs": [
    {
     "name": "stderr",
     "output_type": "stream",
     "text": [
      "ERROR: Could not find a version that satisfies the requirement tkinter (from versions: none)\n",
      "ERROR: No matching distribution found for tkinter\n"
     ]
    },
    {
     "name": "stdout",
     "output_type": "stream",
     "text": [
      "Collecting PyMultiDictionary\n",
      "  Obtaining dependency information for PyMultiDictionary from https://files.pythonhosted.org/packages/ae/d2/a4244da15be437cb605485687ee17109b91d8ea223af8b529a5020f2f5a0/PyMultiDictionary-1.2.3-py3-none-any.whl.metadata\n",
      "  Downloading PyMultiDictionary-1.2.3-py3-none-any.whl.metadata (7.8 kB)\n",
      "Requirement already satisfied: bs4 in c:\\python311\\lib\\site-packages (from PyMultiDictionary) (0.0.1)\n",
      "Collecting iso639-lang (from PyMultiDictionary)\n",
      "  Downloading iso639_lang-2.1.0-py3-none-any.whl (280 kB)\n",
      "     ---------------------------------------- 0.0/281.0 kB ? eta -:--:--\n",
      "     ---------------------- --------------- 163.8/281.0 kB 3.3 MB/s eta 0:00:01\n",
      "     -------------------------------------- 281.0/281.0 kB 3.5 MB/s eta 0:00:00\n",
      "Requirement already satisfied: requests in c:\\python311\\lib\\site-packages (from PyMultiDictionary) (2.31.0)\n",
      "Requirement already satisfied: beautifulsoup4 in c:\\python311\\lib\\site-packages (from bs4->PyMultiDictionary) (4.12.2)\n",
      "Requirement already satisfied: charset-normalizer<4,>=2 in c:\\python311\\lib\\site-packages (from requests->PyMultiDictionary) (3.2.0)\n",
      "Requirement already satisfied: idna<4,>=2.5 in c:\\python311\\lib\\site-packages (from requests->PyMultiDictionary) (3.4)\n",
      "Requirement already satisfied: urllib3<3,>=1.21.1 in c:\\python311\\lib\\site-packages (from requests->PyMultiDictionary) (2.0.4)\n",
      "Requirement already satisfied: certifi>=2017.4.17 in c:\\python311\\lib\\site-packages (from requests->PyMultiDictionary) (2023.7.22)\n",
      "Requirement already satisfied: soupsieve>1.2 in c:\\python311\\lib\\site-packages (from beautifulsoup4->bs4->PyMultiDictionary) (2.4.1)\n",
      "Downloading PyMultiDictionary-1.2.3-py3-none-any.whl (22 kB)\n",
      "Installing collected packages: iso639-lang, PyMultiDictionary\n",
      "Successfully installed PyMultiDictionary-1.2.3 iso639-lang-2.1.0\n"
     ]
    }
   ],
   "source": [
    "!pip install tkinter\n",
    "!pip install PyMultiDictionary\n"
   ]
  },
  {
   "cell_type": "code",
   "execution_count": 10,
   "metadata": {},
   "outputs": [
    {
     "data": {
      "text/plain": [
       "''"
      ]
     },
     "execution_count": 10,
     "metadata": {},
     "output_type": "execute_result"
    }
   ],
   "source": [
    "from tkinter import *\n",
    "from PyMultiDictionary import MultiDictionary\n",
    "\n",
    "dictionary = MultiDictionary()\n",
    "root = Tk()\n",
    "root.title(\"Word Dictionary Using Python\")\n",
    "root.geometry(\"1250x750\")"
   ]
  },
  {
   "cell_type": "code",
   "execution_count": null,
   "metadata": {},
   "outputs": [],
   "source": [
    "def dict():\n",
    "    meaning.config(text=dictionary.meaning('en', word.get())[1])\n",
    "    synonym.config(text=dictionary.synonym('en', word.get()))\n",
    "    antonym.config(text=dictionary.antonym('en', word.get()))"
   ]
  },
  {
   "cell_type": "code",
   "execution_count": 3,
   "metadata": {},
   "outputs": [
    {
     "ename": "NameError",
     "evalue": "name 'root' is not defined",
     "output_type": "error",
     "traceback": [
      "\u001b[1;31m---------------------------------------------------------------------------\u001b[0m",
      "\u001b[1;31mNameError\u001b[0m                                 Traceback (most recent call last)",
      "Cell \u001b[1;32mIn[3], line 1\u001b[0m\n\u001b[1;32m----> 1\u001b[0m Label(root, text\u001b[39m=\u001b[39m\u001b[39m\"\u001b[39m\u001b[39mWord Dictionary Using Python\u001b[39m\u001b[39m\"\u001b[39m, font\u001b[39m=\u001b[39m(\u001b[39m\"\u001b[39m\u001b[39mArial 36 bold\u001b[39m\u001b[39m\"\u001b[39m),\n\u001b[0;32m      2\u001b[0m  fg\u001b[39m=\u001b[39m\u001b[39m\"\u001b[39m\u001b[39mPurple\u001b[39m\u001b[39m\"\u001b[39m)\u001b[39m.\u001b[39mpack(pady\u001b[39m=\u001b[39m\u001b[39m10\u001b[39m)\n\u001b[0;32m      4\u001b[0m frame \u001b[39m=\u001b[39m Frame(root)\n\u001b[0;32m      5\u001b[0m Label(frame, text\u001b[39m=\u001b[39m\u001b[39m\"\u001b[39m\u001b[39mType Word:\u001b[39m\u001b[39m\"\u001b[39m, font\u001b[39m=\u001b[39m(\u001b[39m\"\u001b[39m\u001b[39mArial 28 bold\u001b[39m\u001b[39m\"\u001b[39m))\u001b[39m.\u001b[39mpack(side\u001b[39m=\u001b[39mLEFT)\n",
      "\u001b[1;31mNameError\u001b[0m: name 'root' is not defined"
     ]
    }
   ],
   "source": [
    "Label(root, text=\"Word Dictionary Using Python\", font=(\"Arial 36 bold\"),\n",
    " fg=\"Purple\").pack(pady=10)\n",
    "\n",
    "frame = Frame(root)\n",
    "Label(frame, text=\"Type Word:\", font=(\"Arial 28 bold\")).pack(side=LEFT)\n",
    "word = Entry(frame, font=(\"Arial 23 bold\"))\n",
    "word.pack()\n",
    "frame.pack(pady=10)"
   ]
  },
  {
   "cell_type": "code",
   "execution_count": 4,
   "metadata": {},
   "outputs": [
    {
     "ename": "NameError",
     "evalue": "name 'root' is not defined",
     "output_type": "error",
     "traceback": [
      "\u001b[1;31m---------------------------------------------------------------------------\u001b[0m",
      "\u001b[1;31mNameError\u001b[0m                                 Traceback (most recent call last)",
      "Cell \u001b[1;32mIn[4], line 1\u001b[0m\n\u001b[1;32m----> 1\u001b[0m frame1 \u001b[39m=\u001b[39m Frame(root)\n\u001b[0;32m      2\u001b[0m Label(frame1, text\u001b[39m=\u001b[39m\u001b[39m\"\u001b[39m\u001b[39mMeaning: \u001b[39m\u001b[39m\"\u001b[39m, font\u001b[39m=\u001b[39m(\u001b[39m\"\u001b[39m\u001b[39mArial 18 bold\u001b[39m\u001b[39m\"\u001b[39m))\u001b[39m.\u001b[39mpack(side\u001b[39m=\u001b[39mLEFT)\n\u001b[0;32m      3\u001b[0m meaning \u001b[39m=\u001b[39m Label(frame1, text\u001b[39m=\u001b[39m\u001b[39m\"\u001b[39m\u001b[39m\"\u001b[39m, font\u001b[39m=\u001b[39m(\u001b[39m\"\u001b[39m\u001b[39mArial 18\u001b[39m\u001b[39m\"\u001b[39m),wraplength\u001b[39m=\u001b[39m\u001b[39m1000\u001b[39m)\n",
      "\u001b[1;31mNameError\u001b[0m: name 'root' is not defined"
     ]
    }
   ],
   "source": [
    "frame1 = Frame(root)\n",
    "Label(frame1, text=\"Meaning: \", font=(\"Arial 18 bold\")).pack(side=LEFT)\n",
    "meaning = Label(frame1, text=\"\", font=(\"Arial 18\"),wraplength=1000)\n",
    "meaning.pack()\n",
    "frame1.pack(pady=15)"
   ]
  },
  {
   "cell_type": "code",
   "execution_count": 5,
   "metadata": {},
   "outputs": [
    {
     "ename": "NameError",
     "evalue": "name 'root' is not defined",
     "output_type": "error",
     "traceback": [
      "\u001b[1;31m---------------------------------------------------------------------------\u001b[0m",
      "\u001b[1;31mNameError\u001b[0m                                 Traceback (most recent call last)",
      "Cell \u001b[1;32mIn[5], line 1\u001b[0m\n\u001b[1;32m----> 1\u001b[0m frame2 \u001b[39m=\u001b[39m Frame(root)\n\u001b[0;32m      2\u001b[0m Label(frame2, text\u001b[39m=\u001b[39m\u001b[39m\"\u001b[39m\u001b[39mSynonym: \u001b[39m\u001b[39m\"\u001b[39m, font\u001b[39m=\u001b[39m(\u001b[39m\"\u001b[39m\u001b[39mArial 18 bold\u001b[39m\u001b[39m\"\u001b[39m))\u001b[39m.\u001b[39mpack(side\u001b[39m=\u001b[39mLEFT)\n\u001b[0;32m      3\u001b[0m synonym \u001b[39m=\u001b[39m Label(frame2, text\u001b[39m=\u001b[39m\u001b[39m\"\u001b[39m\u001b[39m\"\u001b[39m, font\u001b[39m=\u001b[39m(\u001b[39m\"\u001b[39m\u001b[39mArial 18\u001b[39m\u001b[39m\"\u001b[39m), wraplength\u001b[39m=\u001b[39m\u001b[39m1000\u001b[39m)\n",
      "\u001b[1;31mNameError\u001b[0m: name 'root' is not defined"
     ]
    }
   ],
   "source": [
    "frame2 = Frame(root)\n",
    "Label(frame2, text=\"Synonym: \", font=(\"Arial 18 bold\")).pack(side=LEFT)\n",
    "synonym = Label(frame2, text=\"\", font=(\"Arial 18\"), wraplength=1000)\n",
    "synonym.pack()\n",
    "frame2.pack(pady=15)\n",
    "\n",
    "frame3 = Frame(root)\n",
    "Label(frame3, text=\"Antonym: \", font=(\"Arial 18 bold\")).pack(side=LEFT)\n",
    "antonym = Label(frame3, text=\"\", font=(\"Arial 18\"), wraplength=1000)\n",
    "antonym.pack(side=LEFT)\n",
    "frame3.pack(pady=20)"
   ]
  },
  {
   "cell_type": "code",
   "execution_count": 6,
   "metadata": {},
   "outputs": [
    {
     "ename": "NameError",
     "evalue": "name 'root' is not defined",
     "output_type": "error",
     "traceback": [
      "\u001b[1;31m---------------------------------------------------------------------------\u001b[0m",
      "\u001b[1;31mNameError\u001b[0m                                 Traceback (most recent call last)",
      "Cell \u001b[1;32mIn[6], line 1\u001b[0m\n\u001b[1;32m----> 1\u001b[0m Button(root, text\u001b[39m=\u001b[39m\u001b[39m\"\u001b[39m\u001b[39mSubmit\u001b[39m\u001b[39m\"\u001b[39m, font\u001b[39m=\u001b[39m(\u001b[39m\"\u001b[39m\u001b[39mArial 18 bold\u001b[39m\u001b[39m\"\u001b[39m), command\u001b[39m=\u001b[39m\u001b[39mdict\u001b[39m)\u001b[39m.\u001b[39mpack()\n\u001b[0;32m      2\u001b[0m root\u001b[39m.\u001b[39mmainloop()\n",
      "\u001b[1;31mNameError\u001b[0m: name 'root' is not defined"
     ]
    }
   ],
   "source": [
    "Button(root, text=\"Submit\", font=(\"Arial 18 bold\"), command=dict).pack()\n",
    "root.mainloop()"
   ]
  }
 ],
 "metadata": {
  "kernelspec": {
   "display_name": "Python 3",
   "language": "python",
   "name": "python3"
  },
  "language_info": {
   "codemirror_mode": {
    "name": "ipython",
    "version": 3
   },
   "file_extension": ".py",
   "mimetype": "text/x-python",
   "name": "python",
   "nbconvert_exporter": "python",
   "pygments_lexer": "ipython3",
   "version": "3.11.5"
  },
  "orig_nbformat": 4
 },
 "nbformat": 4,
 "nbformat_minor": 2
}
