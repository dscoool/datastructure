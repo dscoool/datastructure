{
  "cells": [
    {
      "cell_type": "markdown",
      "metadata": {
        "id": "view-in-github",
        "colab_type": "text"
      },
      "source": [
        "<a href=\"https://colab.research.google.com/github/dscoool/datastructure/blob/main/4)%20%ED%80%B5%20%EC%A0%95%EB%A0%AC(Quick%20Sort).ipynb\" target=\"_parent\"><img src=\"https://colab.research.google.com/assets/colab-badge.svg\" alt=\"Open In Colab\"/></a>"
      ]
    },
    {
      "cell_type": "markdown",
      "metadata": {
        "id": "_wnrtoQuFq11"
      },
      "source": [
        "## 대표적인 정렬5: 퀵 정렬 (quick sort)"
      ]
    },
    {
      "cell_type": "markdown",
      "metadata": {
        "id": "Ca3wJkZYFq16"
      },
      "source": [
        "### 1. 퀵 정렬 (quick sort) 이란?\n",
        "* <font color='#BF360C'>정렬 알고리즘의 꽃</font>\n",
        "* 기준점(pivot 이라고 부름)을 정해서, 기준점보다 작은 데이터는 왼쪽(left), 큰 데이터는 오른쪽(right) 으로 모으는 함수를 작성함\n",
        "* 각 왼쪽(left), 오른쪽(right)은 재귀용법을 사용해서 다시 동일 함수를 호출하여 위 작업을 반복함\n",
        "* 함수는 왼쪽(left) + 기준점(pivot) + 오른쪽(right) 을 리턴함"
      ]
    },
    {
      "cell_type": "markdown",
      "metadata": {
        "id": "sJOIengQFq17"
      },
      "source": [
        "### 2. 알고리즘 구현\n",
        "* quicksort 함수 만들기\n",
        "  - 만약 리스트 갯수가 한개이면 해당 리스트 리턴\n",
        "  - 그렇지 않으면, 리스트 맨 앞의 데이터를 기준점(pivot)으로 놓기\n",
        "  - left, right 리스트 변수를 만들고,\n",
        "  - 맨 앞의 데이터를 뺀 나머지 데이터를 기준점과 비교(pivot)\n",
        "    - 기준점보다 작으면 left.append(해당 데이터)\n",
        "    - 기준점보다 크면 right.append(해당 데이터)\n",
        "  - return quicksort(left) + pivot + quicksort(right) 로 재귀 호출\n",
        "  \n",
        "> 리스트로 만들어서 리턴하기: return quick_sort(left) + [pivot] + quick_sort(right)"
      ]
    },
    {
      "cell_type": "code",
      "execution_count": null,
      "metadata": {
        "id": "LA5fFBKaFq18"
      },
      "outputs": [],
      "source": [
        "def qsort(data):\n",
        "    if len(data) <= 1:\n",
        "        return data\n",
        "\n",
        "    left, right = list(), list()\n",
        "    pivot = data[0]\n",
        "\n",
        "    for index in range(1, len(data)):\n",
        "        if pivot > data[index]:\n",
        "            left.append(data[index])\n",
        "        else:\n",
        "            right.append(data[index])\n",
        "\n",
        "    return qsort(left) + [pivot] + qsort(right)"
      ]
    },
    {
      "cell_type": "code",
      "execution_count": null,
      "metadata": {
        "id": "iii9-WFkFq1-",
        "outputId": "9d3a080f-f57d-4f5d-a3d0-840e68eff4fb"
      },
      "outputs": [
        {
          "data": {
            "text/plain": [
              "[2, 20, 35, 39, 49, 51, 57, 74, 82, 94]"
            ]
          },
          "execution_count": 2,
          "metadata": {},
          "output_type": "execute_result"
        }
      ],
      "source": [
        "import random\n",
        "\n",
        "data_list = random.sample(range(100), 10)\n",
        "\n",
        "qsort(data_list)"
      ]
    },
    {
      "cell_type": "markdown",
      "metadata": {
        "solution2": "hidden",
        "solution2_first": true,
        "id": "WfBHFyo4Fq2B"
      },
      "source": [
        "<div class=\"alert alert-block alert-warning\">\n",
        "<strong><font color=\"blue\" size=\"4em\">프로그래밍 연습</font></strong><br>\n",
        "위 퀵정렬 코드를 파이썬 list comprehension을 사용해서 더 깔끔하게 작성해보기<br>\n",
        "</div>"
      ]
    },
    {
      "cell_type": "code",
      "execution_count": null,
      "metadata": {
        "id": "H_L1ypCaFq2C"
      },
      "outputs": [],
      "source": [
        "def qsort(data):\n",
        "    if len(data) <= 1:\n",
        "        return data\n",
        "\n",
        "    pivot = data[0]\n",
        "\n",
        "    left = [ item for item in data[1:] if pivot > item ]\n",
        "    right = [ item for item in data[1:] if pivot <= item ]\n",
        "\n",
        "    return qsort(left) + [pivot] + qsort(right)"
      ]
    },
    {
      "cell_type": "code",
      "execution_count": null,
      "metadata": {
        "id": "YUJBYrckFq2C",
        "outputId": "0995b5a8-cd4d-484d-cafc-e7fb157b3426"
      },
      "outputs": [
        {
          "data": {
            "text/plain": [
              "[5, 10, 37, 43, 61, 71, 77, 78, 82, 84]"
            ]
          },
          "execution_count": 4,
          "metadata": {},
          "output_type": "execute_result"
        }
      ],
      "source": [
        "import random\n",
        "\n",
        "data_list = random.sample(range(100), 10)\n",
        "\n",
        "qsort(data_list)"
      ]
    },
    {
      "cell_type": "markdown",
      "metadata": {
        "collapsed": true,
        "id": "9-SZpZvpFq2D"
      },
      "source": [
        "### 4. 알고리즘 분석\n",
        "* <font color='#BF360C'>병합정렬과 유사, 시간복잡도는 O(n log n)</font>\n",
        "  - 단, 최악의 경우\n",
        "    - 맨 처음 pivot이 가장 크거나, 가장 작으면\n",
        "    - 모든 데이터를 비교하는 상황이 나옴\n",
        "    - O($n^2$)\n",
        "<img src=\"https://www.fun-coding.org/00_Images/quicksortworks.jpg\" />\n"
      ]
    }
  ],
  "metadata": {
    "kernelspec": {
      "display_name": "Python 3",
      "language": "python",
      "name": "python3"
    },
    "language_info": {
      "codemirror_mode": {
        "name": "ipython",
        "version": 3
      },
      "file_extension": ".py",
      "mimetype": "text/x-python",
      "name": "python",
      "nbconvert_exporter": "python",
      "pygments_lexer": "ipython3",
      "version": "3.6.9"
    },
    "nbTranslate": {
      "displayLangs": [
        "*"
      ],
      "hotkey": "alt-t",
      "langInMainMenu": true,
      "sourceLang": "en",
      "targetLang": "fr",
      "useGoogleTranslate": true
    },
    "colab": {
      "provenance": [],
      "include_colab_link": true
    }
  },
  "nbformat": 4,
  "nbformat_minor": 0
}