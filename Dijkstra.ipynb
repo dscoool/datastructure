{
  "nbformat": 4,
  "nbformat_minor": 0,
  "metadata": {
    "colab": {
      "provenance": [],
      "authorship_tag": "ABX9TyOBc9R7Shp5jZ2E9ahbKs7g",
      "include_colab_link": true
    },
    "kernelspec": {
      "name": "python3",
      "display_name": "Python 3"
    },
    "language_info": {
      "name": "python"
    }
  },
  "cells": [
    {
      "cell_type": "markdown",
      "metadata": {
        "id": "view-in-github",
        "colab_type": "text"
      },
      "source": [
        "<a href=\"https://colab.research.google.com/github/dscoool/datastructure/blob/main/Dijkstra.ipynb\" target=\"_parent\"><img src=\"https://colab.research.google.com/assets/colab-badge.svg\" alt=\"Open In Colab\"/></a>"
      ]
    },
    {
      "cell_type": "markdown",
      "source": [
        "#다익스트라\n",
        "### Dijkstra - 최단 경로 알고리즘"
      ],
      "metadata": {
        "id": "dxBvJXvHzBp6"
      }
    },
    {
      "cell_type": "markdown",
      "source": [
        "최단 경로 알고리즘은 지하철 노선도, 네비게이션 등 다방면에 사용되는 알고리즘입니다. 이번 시간에는 Python을 이용해 하나의 시작 정점으로 부터 모든 다른 정점까지의 최단 경로를 찾는 최단 경로 알고리즘인 다익스트라(dijkstra) 알고리즘에 대해서 알아 보려고 합니다.\n"
      ],
      "metadata": {
        "id": "r3VyKaKKyfb0"
      }
    },
    {
      "cell_type": "markdown",
      "source": [
        "\n",
        "## 목차\n",
        "\n",
        "1.   최단 경로 알고리즘의 아이디어\n",
        "2.   사전 배경 지식\n",
        "3.   코드 구현\n",
        "\n",
        "\n"
      ],
      "metadata": {
        "id": "-vl90xf9zM96"
      }
    },
    {
      "cell_type": "markdown",
      "source": [
        "## 1. 최단 경로 알고리즘의 아이디어\n",
        "최단 경로 알고리즘의 아이디어는 다음과 같습니다. 자료 구조로는 graph 를 사용하며, 노드와 가중치를 가진 간선 을 이용하여 실제 거리를 표현합니다. 알고리즘을 간단하게 설명 하자면, 다음과 같습니다.\n",
        "\n",
        "출발 노드와, 도착 노드를 설정\n",
        "알고 있는 모든 거리 값을 부여\n",
        "출발 노드부터 시작하여, 방문하지 않은 인접 노드를 방문, 거리를 계산한 다음, 현재 알고있는 거리보다 짧으면 해당 값으로 갱신한다.\n",
        "현재 노드에 인접한 모든 미방문 노드까지의 거리를 계산했다면, 현재 노드는 방문한 것이므로, 미방문 집합에서 제거한다.\n",
        "도착 노드가 미방문 노드 집합에서 벗어나면, 알고리즘을 종료한다."
      ],
      "metadata": {
        "id": "z5P0AN53zjhg"
      }
    },
    {
      "cell_type": "markdown",
      "source": [
        "## 2. 사전 배경 지식\n",
        "다익스트라 알고리즘을 실행 하는 중에는 방문하지 않은 인접 노드를 방문하는 부분이 있습니다. 이 부분에서 우선순위 큐를 사용 하면, 지금까지 발견된 가장 짧은 거리의 노드에 대해서 먼저 계산할 수 있으며, 더 긴 거리로 계산 되었을 시 스킵 또한 가능합니다.\n",
        "\n",
        "우선순위 큐는 heapq 모듈을 이용해 구현 할 수 있습니다.\n",
        "\n",
        "https://justkode.kr/python/pygorithm-2 (heapq 부분 참조)"
      ],
      "metadata": {
        "id": "9NDDREiXzpvB"
      }
    },
    {
      "cell_type": "markdown",
      "source": [
        "## 3. 코드 구현\n",
        "\n",
        "출발 노드와, 도착 노드를 설정 (전체 거리를 알고 싶을 때는, 출발 노드만 설정 하여도 무방)\n",
        "알고 있는 모든 거리 값을 부여 (Python에서는 dictionary 객체를 이용하여 graph를 표현 할 수 있다.)"
      ],
      "metadata": {
        "id": "DUX7KB1vzaak"
      }
    },
    {
      "cell_type": "code",
      "source": [
        "graph = {\n",
        "    'A': {'B': 8, 'C': 1, 'D': 2},\n",
        "    'B': {},\n",
        "    'C': {'B': 5, 'D': 2},\n",
        "    'D': {'E': 3, 'F': 5},\n",
        "    'E': {'F': 1},\n",
        "    'F': {'A': 5}\n",
        "}"
      ],
      "metadata": {
        "id": "Nxnjftt3ygu_"
      },
      "execution_count": 1,
      "outputs": []
    },
    {
      "cell_type": "markdown",
      "source": [
        "출발 노드부터 시작하여, 방문하지 않은 인접 노드를 방문, 거리를 계산한 다음, 현재 알고있는 거리보다 짧으면 해당 값으로 갱신한다.\n",
        "현재 노드에 인접한 모든 미방문 노드까지의 거리를 계산했다면, 현재 노드는 방문한 것이므로, 미방문 집합에서 제거한다."
      ],
      "metadata": {
        "id": "A63Bh-uAyntJ"
      }
    },
    {
      "cell_type": "code",
      "source": [
        "import heapq  # 우선순위 큐 구현을 위함\n",
        "\n",
        "def dijkstra(graph, start):\n",
        "  distances = {node: float('inf') for node in graph}  # start로 부터의 거리 값을 저장하기 위함\n",
        "  distances[start] = 0  # 시작 값은 0이어야 함\n",
        "  queue = []\n",
        "  heapq.heappush(queue, [distances[start], start])  # 시작 노드부터 탐색 시작 하기 위함.\n",
        "\n",
        "  while queue:  # queue에 남아 있는 노드가 없으면 끝\n",
        "    current_distance, current_destination = heapq.heappop(queue)  # 탐색 할 노드, 거리를 가져옴.\n",
        "\n",
        "    if distances[current_destination] < current_distance:  # 기존에 있는 거리보다 길다면, 볼 필요도 없음\n",
        "      continue\n",
        "\n",
        "    for new_destination, new_distance in graph[current_destination].items():\n",
        "      distance = current_distance + new_distance  # 해당 노드를 거쳐 갈 때 거리\n",
        "      if distance < distances[new_destination]:  # 알고 있는 거리 보다 작으면 갱신\n",
        "        distances[new_destination] = distance\n",
        "        heapq.heappush(queue, [distance, new_destination])  # 다음 인접 거리를 계산 하기 위해 큐에 삽입\n",
        "\n",
        "  return distances"
      ],
      "metadata": {
        "id": "T_TQUp2Cyl0V"
      },
      "execution_count": 2,
      "outputs": []
    },
    {
      "cell_type": "markdown",
      "source": [
        "## 실행 결과"
      ],
      "metadata": {
        "id": "vPgSyGXtyt6S"
      }
    },
    {
      "cell_type": "code",
      "source": [
        "print(dijkstra(graph, 'A'))\n"
      ],
      "metadata": {
        "colab": {
          "base_uri": "https://localhost:8080/"
        },
        "id": "79UNny-WyunH",
        "outputId": "b294f0c3-d5f5-4b87-895b-10926d0abeec"
      },
      "execution_count": 3,
      "outputs": [
        {
          "output_type": "stream",
          "name": "stdout",
          "text": [
            "{'A': 0, 'B': 6, 'C': 1, 'D': 2, 'E': 5, 'F': 6}\n"
          ]
        }
      ]
    },
    {
      "cell_type": "markdown",
      "source": [
        "######  Reference: https://justkode.kr/algorithm/python-dijkstra/\n"
      ],
      "metadata": {
        "id": "wW7NT3C3yzro"
      }
    }
  ]
}