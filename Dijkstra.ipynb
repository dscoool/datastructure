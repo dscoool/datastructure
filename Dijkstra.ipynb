{
  "nbformat": 4,
  "nbformat_minor": 0,
  "metadata": {
    "colab": {
      "provenance": [],
      "authorship_tag": "ABX9TyOBoFkwORU4/0f459iliiRF",
      "include_colab_link": true
    },
    "kernelspec": {
      "name": "python3",
      "display_name": "Python 3"
    },
    "language_info": {
      "name": "python"
    }
  },
  "cells": [
    {
      "cell_type": "markdown",
      "metadata": {
        "id": "view-in-github",
        "colab_type": "text"
      },
      "source": [
        "<a href=\"https://colab.research.google.com/github/dscoool/datastructure/blob/main/Dijkstra.ipynb\" target=\"_parent\"><img src=\"https://colab.research.google.com/assets/colab-badge.svg\" alt=\"Open In Colab\"/></a>"
      ]
    },
    {
      "cell_type": "markdown",
      "source": [
        "#다익스트라\n",
        "### Dijkstra - 최단 경로 알고리즘"
      ],
      "metadata": {
        "id": "dxBvJXvHzBp6"
      }
    },
    {
      "cell_type": "markdown",
      "source": [
        "최단 경로 알고리즘은 지하철 노선도, 네비게이션 등 다방면에 사용되는 알고리즘입니다. 이번 시간에는 Python을 이용해 하나의 시작 정점으로 부터 모든 다른 정점까지의 최단 경로를 찾는 최단 경로 알고리즘인 다익스트라(dijkstra) 알고리즘에 대해서 알아 보려고 합니다.\n"
      ],
      "metadata": {
        "id": "r3VyKaKKyfb0"
      }
    },
    {
      "cell_type": "markdown",
      "source": [
        "\n",
        "## 목차\n",
        "\n",
        "1.   최단 경로 알고리즘의 아이디어\n",
        "2.   사전 배경 지식\n",
        "3.   코드 구현\n",
        "\n",
        "\n"
      ],
      "metadata": {
        "id": "-vl90xf9zM96"
      }
    },
    {
      "cell_type": "markdown",
      "source": [
        "## 1. 최단 경로 알고리즘의 아이디어\n",
        "최단 경로 알고리즘의 아이디어는 다음과 같습니다. 자료 구조로는 graph 를 사용하며, 노드와 가중치를 가진 간선 을 이용하여 실제 거리를 표현합니다. 알고리즘을 간단하게 설명 하자면, 다음과 같습니다.\n",
        "\n",
        "출발 노드와, 도착 노드를 설정\n",
        "알고 있는 모든 거리 값을 부여\n",
        "출발 노드부터 시작하여, 방문하지 않은 인접 노드를 방문, 거리를 계산한 다음, 현재 알고있는 거리보다 짧으면 해당 값으로 갱신한다.\n",
        "현재 노드에 인접한 모든 미방문 노드까지의 거리를 계산했다면, 현재 노드는 방문한 것이므로, 미방문 집합에서 제거한다.\n",
        "도착 노드가 미방문 노드 집합에서 벗어나면, 알고리즘을 종료한다.\n",
        "\n",
        "\n",
        "\n",
        "\n",
        "![Dijkstra_Animation.gif](data:image/gif;base64,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)"
      ],
      "metadata": {
        "id": "z5P0AN53zjhg"
      }
    },
    {
      "cell_type": "markdown",
      "source": [
        "## 2. 사전 배경 지식\n",
        "다익스트라 알고리즘을 실행 하는 중에는 방문하지 않은 인접 노드를 방문하는 부분이 있습니다. 이 부분에서 우선순위 큐를 사용 하면, 지금까지 발견된 가장 짧은 거리의 노드에 대해서 먼저 계산할 수 있으며, 더 긴 거리로 계산 되었을 시 스킵 또한 가능합니다.\n",
        "\n",
        "우선순위 큐는 heapq 모듈을 이용해 구현 할 수 있습니다.\n",
        "\n",
        "https://justkode.kr/python/pygorithm-2 (heapq 부분 참조)"
      ],
      "metadata": {
        "id": "9NDDREiXzpvB"
      }
    },
    {
      "cell_type": "markdown",
      "source": [
        "## 3. 코드 구현\n",
        "\n",
        "출발 노드와, 도착 노드를 설정 (전체 거리를 알고 싶을 때는, 출발 노드만 설정 하여도 무방)\n",
        "알고 있는 모든 거리 값을 부여 (Python에서는 dictionary 객체를 이용하여 graph를 표현 할 수 있다.)"
      ],
      "metadata": {
        "id": "DUX7KB1vzaak"
      }
    },
    {
      "cell_type": "code",
      "source": [
        "graph = {\n",
        "    'A': {'B': 8, 'C': 1, 'D': 2},\n",
        "    'B': {},\n",
        "    'C': {'B': 5, 'D': 2},\n",
        "    'D': {'E': 3, 'F': 5},\n",
        "    'E': {'F': 1},\n",
        "    'F': {'A': 5}\n",
        "}"
      ],
      "metadata": {
        "id": "Nxnjftt3ygu_"
      },
      "execution_count": 4,
      "outputs": []
    },
    {
      "cell_type": "markdown",
      "source": [
        "출발 노드부터 시작하여, 방문하지 않은 인접 노드를 방문, 거리를 계산한 다음, 현재 알고있는 거리보다 짧으면 해당 값으로 갱신한다.\n",
        "현재 노드에 인접한 모든 미방문 노드까지의 거리를 계산했다면, 현재 노드는 방문한 것이므로, 미방문 집합에서 제거한다."
      ],
      "metadata": {
        "id": "A63Bh-uAyntJ"
      }
    },
    {
      "cell_type": "code",
      "source": [
        "import heapq  # 우선순위 큐 구현을 위함\n",
        "\n",
        "def dijkstra(graph, start): # start = 'A', 'B', 'C', .... start점으로부터의 거리를 출력\n",
        "  distances = {node: float('inf') for node in graph}  # start로 부터의 거리 값을 저장하기 위함\n",
        "  distances[start] = 0  # 시작 값은 0이어야 함\n",
        "  queue = []\n",
        "  heapq.heappush(queue, [distances[start], start])  # 시작 노드부터 탐색 시작 하기 위함.\n",
        "  while queue:  # queue에 남아 있는 노드가 없으면 끝\n",
        "    current_distance, current_destination = heapq.heappop(queue)  # 탐색 할 노드, 거리를 가져옴.\n",
        "\n",
        "    if distances[current_destination] < current_distance:  # 기존에 있는 거리보다 길다면, 볼 필요도 없음\n",
        "      continue\n",
        "\n",
        "    for new_destination, new_distance in graph[current_destination].items():\n",
        "      distance = current_distance + new_distance  # 해당 노드를 거쳐 갈 때 거리\n",
        "      if distance < distances[new_destination]:  # 알고 있는 거리 보다 작으면 갱신\n",
        "        distances[new_destination] = distance\n",
        "        heapq.heappush(queue, [distance, new_destination])  # 다음 인접 거리를 계산 하기 위해 큐에 삽입\n",
        "    print(queue)\n",
        "\n",
        "  return distances"
      ],
      "metadata": {
        "id": "T_TQUp2Cyl0V"
      },
      "execution_count": 7,
      "outputs": []
    },
    {
      "cell_type": "markdown",
      "source": [
        "## 실행 결과"
      ],
      "metadata": {
        "id": "vPgSyGXtyt6S"
      }
    },
    {
      "cell_type": "code",
      "source": [
        "print(dijkstra(graph, 'A'))\n"
      ],
      "metadata": {
        "colab": {
          "base_uri": "https://localhost:8080/"
        },
        "id": "79UNny-WyunH",
        "outputId": "abc4f3b9-6c62-4b3f-be52-cdf8b978ed7e"
      },
      "execution_count": 8,
      "outputs": [
        {
          "output_type": "stream",
          "name": "stdout",
          "text": [
            "[[1, 'C'], [8, 'B'], [2, 'D']]\n",
            "[[2, 'D'], [8, 'B'], [6, 'B']]\n",
            "[[5, 'E'], [7, 'F'], [6, 'B'], [8, 'B']]\n",
            "[[6, 'B'], [6, 'F'], [8, 'B'], [7, 'F']]\n",
            "[[6, 'F'], [7, 'F'], [8, 'B']]\n",
            "[[7, 'F'], [8, 'B']]\n",
            "{'A': 0, 'B': 6, 'C': 1, 'D': 2, 'E': 5, 'F': 6}\n"
          ]
        }
      ]
    },
    {
      "cell_type": "markdown",
      "source": [
        "######  Reference: https://justkode.kr/algorithm/python-dijkstra/\n"
      ],
      "metadata": {
        "id": "wW7NT3C3yzro"
      }
    }
  ]
}