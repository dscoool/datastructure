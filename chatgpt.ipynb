{
  "nbformat": 4,
  "nbformat_minor": 0,
  "metadata": {
    "colab": {
      "provenance": [],
      "authorship_tag": "ABX9TyOEQmpGSo896oKCL+ZSxqBv",
      "include_colab_link": true
    },
    "kernelspec": {
      "name": "python3",
      "display_name": "Python 3"
    },
    "language_info": {
      "name": "python"
    }
  },
  "cells": [
    {
      "cell_type": "markdown",
      "metadata": {
        "id": "view-in-github",
        "colab_type": "text"
      },
      "source": [
        "<a href=\"https://colab.research.google.com/github/dscoool/datastructure/blob/main/chatgpt.ipynb\" target=\"_parent\"><img src=\"https://colab.research.google.com/assets/colab-badge.svg\" alt=\"Open In Colab\"/></a>"
      ]
    },
    {
      "cell_type": "markdown",
      "source": [
        "\"1부터 1000까지 더하는 파이썬 프로그램을 작성하시오\""
      ],
      "metadata": {
        "id": "-tm6RYNcMydp"
      }
    },
    {
      "cell_type": "code",
      "execution_count": null,
      "metadata": {
        "colab": {
          "base_uri": "https://localhost:8080/"
        },
        "id": "AFMV8gcYMuGe",
        "outputId": "dfa1d358-fadc-4d71-e6be-bf416b2ca30d"
      },
      "outputs": [
        {
          "output_type": "stream",
          "name": "stdout",
          "text": [
            "1부터 1000까지의 합은: 500500\n"
          ]
        }
      ],
      "source": [
        "total = 0\n",
        "\n",
        "for number in range(1, 1001):\n",
        "    total += number\n",
        "\n",
        "print(\"1부터 1000까지의 합은:\", total)"
      ]
    },
    {
      "cell_type": "markdown",
      "source": [
        "위의 코드에서는 total이라는 변수를 0으로 초기화하고, for 루프를 사용하여 1부터 1001까지의 숫자 범위에서 반복합니다. 각 숫자를 total 변수에 더하여 누적합니다. 마지막으로, 1부터 1000까지의 숫자의 합을 출력합니다.\n",
        "\n",
        "프로그램을 실행하면 다음과 같은 출력이 나타납니다:"
      ],
      "metadata": {
        "id": "qnHSEkVWM5d0"
      }
    },
    {
      "cell_type": "markdown",
      "source": [
        "따라서, 1부터 1000까지의 숫자를 더한 결과는 500,500입니다."
      ],
      "metadata": {
        "id": "W7YqNZYDM9mN"
      }
    },
    {
      "cell_type": "code",
      "source": [],
      "metadata": {
        "id": "ou_fq1Y2M6WF"
      },
      "execution_count": null,
      "outputs": []
    }
  ]
}