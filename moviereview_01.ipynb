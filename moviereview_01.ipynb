{
  "cells": [
    {
      "cell_type": "markdown",
      "metadata": {
        "id": "view-in-github",
        "colab_type": "text"
      },
      "source": [
        "<a href=\"https://colab.research.google.com/github/dscoool/datastructure/blob/main/moviereview_01.ipynb\" target=\"_parent\"><img src=\"https://colab.research.google.com/assets/colab-badge.svg\" alt=\"Open In Colab\"/></a>"
      ]
    },
    {
      "cell_type": "markdown",
      "metadata": {
        "id": "HXWPhofKZoX3"
      },
      "source": [
        "안녕하세요 수강생 여러분? 😊\n",
        "\n",
        "이번 시간에는 영화 포탈 사이트(네이버 영화)에서\n",
        "\n",
        "사용자들의 댓글을 크롤링(crawling, 수집)하고 분석하는 실습을 해 보도록 하겠습니다!!\n",
        "\n",
        "우선 아래 사이트에 접속하면:\n",
        "\n",
        "https://movie.naver.com/movie/bi/mi/basic.nhn?code=70254\n",
        "\n",
        "'아이언맨3' 영화에 대한 정보를 볼 수 있어요.\n",
        "\n",
        "이 사이트에서 필요한 정보만을 추출해 보는 실습을 하도록 하겠습니다. 😊\n",
        "\n"
      ]
    },
    {
      "cell_type": "markdown",
      "metadata": {
        "id": "q4arKc1eZoX7"
      },
      "source": [
        "## 영화 리뷰 정보 크롤링하기"
      ]
    },
    {
      "cell_type": "markdown",
      "metadata": {
        "id": "2KlK3_UqZoX8"
      },
      "source": [
        "필요한 모듈 import.\n",
        "BeautifulSoup 이라는 웹 수집 모듈을 이용합니다."
      ]
    },
    {
      "cell_type": "code",
      "execution_count": null,
      "metadata": {
        "id": "BtJkAsKAZoX9"
      },
      "outputs": [],
      "source": [
        "import urllib.request\n",
        "from bs4 import BeautifulSoup"
      ]
    },
    {
      "cell_type": "markdown",
      "metadata": {
        "id": "1m4iXzcgZoX_"
      },
      "source": [
        "Review 클래스를 정의합니다. </br>\n",
        "클래스 안에는 comment, date, star, good, bad 요소(attribute)가 있습니다. </br>\n",
        "분석요소에는 사용자한줄평, 날짜, 별점, 좋아요(👍🏻), 싫어요(👎🏻)가 있습니다. </br>"
      ]
    },
    {
      "cell_type": "code",
      "execution_count": null,
      "metadata": {
        "id": "N1AkXDLlZoX_"
      },
      "outputs": [],
      "source": [
        "class Review:\n",
        "  def __init__(self, comment, date, star, good, bad):\n",
        "    self.comment = comment\n",
        "    self.date = date\n",
        "    self.star = star\n",
        "    self.good = good\n",
        "    self.bad = bad\n",
        "\n",
        "  def show(self):\n",
        "    print(\"내용: \" + self.comment +\n",
        "          \"\\n날짜: \" + self.date +\n",
        "          \"\\n별점: \" + self.star +\n",
        "          \"\\n좋아요: \" + self.good +\n",
        "          \"\\n싫어요: \" + self.bad)"
      ]
    },
    {
      "cell_type": "markdown",
      "metadata": {
        "id": "_ESxgNuEZoYA"
      },
      "source": [
        "이제 url에서 정보를 크롤링해볼까요? 😊"
      ]
    },
    {
      "cell_type": "code",
      "execution_count": null,
      "metadata": {
        "id": "XLW9RIx9kZU8"
      },
      "outputs": [],
      "source": [
        "def crawl(url):\n",
        "  # 웹에 접속해서 url로부터 HTML을 다운받습니다.\n",
        "  page = urllib.request.urlopen(url)\n",
        "  #다운받은 HTML을 parse하기 위해, 'BeautifulSoup' 모듈을 사용하여\n",
        "  # 'soup'이라는 변수에 저장합니다. \"html.parser\"는 이 문서가 HTML 형태임을 나타냅니다.\n",
        "  soup = BeautifulSoup(page.read(), \"html.parser\")\n",
        "  #댓글을 분석하기 위해 review_list 리스트를 정의하여 빈 채로 둡니다.\n",
        "  # 여기에 review를 저장할 거예요.\n",
        "  review_list = []\n",
        "\n",
        "  # HTML이 저장된 soup변수에서 soup.find 명령어를 이용하여,\n",
        "  # <H3 class = 'h_movie'> --> <a> --> text를 추출합니다.\n",
        "  # 웹브라우저 --> 개발자 모드 --> 'h_movie' 검색!!\n",
        "\n",
        "  title = soup.find('h3', class_='h_movie').find('a').text\n",
        "\n",
        "  # 마찬가지로\n",
        "  # 웹브라우저 --> 개발자 모드 --> 'score_result' 검색!!\n",
        "  # 먼저 <div class = \"score_result\">를 찾은 후,\n",
        "  # 하위 요소 중에 <ul> --> <li>를 찾아 data_list에 저장합니다.\n",
        "  div = soup.find(\"div\", class_=\"score_result\")\n",
        "  data_list = div.select(\"ul > li\")\n",
        "\n",
        "  # review 요소에서 세부적으로\n",
        "  # 정보를 담고 있는 별점(star), 한줄평(comment),\n",
        "  # 날짜(date), 좋아요(good), 싫어요(bad)를\n",
        "  # 수집합니다.\n",
        "\n",
        "  for review in data_list:\n",
        "    star = review.find(\"div\", class_=\"star_score\").text.strip()\n",
        "    reply = review.find(\"div\", class_=\"score_reple\")\n",
        "    comment = reply.find(\"p\").text\n",
        "    date = reply.select(\"dt > em\")[1].text.strip()\n",
        "    button = review.find(\"div\", class_=\"btn_area\")\n",
        "    sympathy = button.select(\"a > strong\")\n",
        "    good = sympathy[0].text\n",
        "    bad = sympathy[1].text\n",
        "    review_list.append(Review(comment, date, star, good, bad))\n",
        "\n",
        "  return title, review_list"
      ]
    },
    {
      "cell_type": "markdown",
      "metadata": {
        "id": "V_B1MTi8ZoYB"
      },
      "source": [
        "이제 실행해볼까요? </br>\n",
        "아래 코드를 실행해보세요!! </br>\n",
        "\n",
        "* url의 마지막 basic.nhn?code=00000 에서</br>\n",
        "00000은 영화코드를 나타냅니다!!</br>\n",
        "여러분도 영화를 검색해서 url을 수정한 후 접속해 보세요!!</br>"
      ]
    },
    {
      "cell_type": "code",
      "execution_count": null,
      "metadata": {
        "colab": {
          "base_uri": "https://localhost:8080/",
          "height": 474
        },
        "id": "HYBdejwgk5Hg",
        "outputId": "8c75bb48-88c4-4846-9667-9e9c2f046408"
      },
      "outputs": [
        {
          "name": "stdout",
          "output_type": "stream",
          "text": [
            "제목: 올드보이\n",
            "내용: \n",
            "\n",
            "\t\t\t\t\t\t\t\t\t\t\t\t\t\t\n",
            "\t\t\t\t\t\t\t\t\t\t\t\t\t\t\n",
            "\t\t\t\t\t\t\t\t\t\t\t\t\t\t\n",
            "\t\t\t\t\t\t\t\t\t\t\t\t\t\t\n",
            "\t\t\t\t\t\t\t\t\t\t\t\t\t\t\t\n",
            "\t\t\t\t\t\t\t\t\t\t\t\t\t\t\t\n",
            "\t\t\t\t\t\t\t\t\t\t\t\t\t\t\t\t이 영화는 필요 이상으로 너무 잘만들었다. 인간이 만든 작품이 아니다. \n",
            "\t\t\t\t\t\t\t\t\t\t\t\t\t\t\t\n",
            "\t\t\t\t\t\t\t\t\t\t\t\t\t\t\n",
            "\t\t\t\t\t\t\t\t\t\t\t\t\t\t\n",
            "\t\t\t\t\t\t\t\t\t\t\t\t\t\n",
            "날짜: 2013.06.09 17:59\n",
            "별점: 10\n",
            "좋아요: 3769\n",
            "싫어요: 225\n",
            "내용: \n",
            "\n",
            "\t\t\t\t\t\t\t\t\t\t\t\t\t\t\n",
            "\t\t\t\t\t\t\t\t\t\t\t\t\t\t\n",
            "\t\t\t\t\t\t\t\t\t\t\t\t\t\t\n",
            "\t\t\t\t\t\t\t\t\t\t\t\t\t\t\n",
            "\t\t\t\t\t\t\t\t\t\t\t\t\t\t\t\n",
            "\t\t\t\t\t\t\t\t\t\t\t\t\t\t\t\n",
            "\t\t\t\t\t\t\t\t\t\t\t\t\t\t\t\t충격적인 영화 촬영 기법, 스토리, 눈물샘을 자극시키는 사운드트랙. 대중영화 예술에 큰 기여를 한 혁명적인 영화. \n",
            "\t\t\t\t\t\t\t\t\t\t\t\t\t\t\t\n",
            "\t\t\t\t\t\t\t\t\t\t\t\t\t\t\n",
            "\t\t\t\t\t\t\t\t\t\t\t\t\t\t\n",
            "\t\t\t\t\t\t\t\t\t\t\t\t\t\n",
            "날짜: 2013.06.09 01:08\n",
            "별점: 10\n",
            "좋아요: 2420\n",
            "싫어요: 91\n",
            "내용: \n",
            "\n",
            "\t\t\t\t\t\t\t\t\t\t\t\t\t\t\n",
            "\t\t\t\t\t\t\t\t\t\t\t\t\t\t\n",
            "\t\t\t\t\t\t\t\t\t\t\t\t\t\t\n",
            "\t\t\t\t\t\t\t\t\t\t\t\t\t\t\n",
            "\t\t\t\t\t\t\t\t\t\t\t\t\t\t\t\n",
            "\t\t\t\t\t\t\t\t\t\t\t\t\t\t\t\n",
            "\t\t\t\t\t\t\t\t\t\t\t\t\t\t\t\t사람은 상상력이 있어서 비겁해 지는거래... \n",
            "\t\t\t\t\t\t\t\t\t\t\t\t\t\t\t\n",
            "\t\t\t\t\t\t\t\t\t\t\t\t\t\t\n",
            "\t\t\t\t\t\t\t\t\t\t\t\t\t\t\n",
            "\t\t\t\t\t\t\t\t\t\t\t\t\t\n",
            "날짜: 2013.07.17 14:26\n",
            "별점: 10\n",
            "좋아요: 2156\n",
            "싫어요: 74\n",
            "내용: \n",
            "\n",
            "\t\t\t\t\t\t\t\t\t\t\t\t\t\t\n",
            "\t\t\t\t\t\t\t\t\t\t\t\t\t\t\n",
            "\t\t\t\t\t\t\t\t\t\t\t\t\t\t\n",
            "\t\t\t\t\t\t\t\t\t\t\t\t\t\t\n",
            "\t\t\t\t\t\t\t\t\t\t\t\t\t\t\t\n",
            "\t\t\t\t\t\t\t\t\t\t\t\t\t\t\t\n",
            "\t\t\t\t\t\t\t\t\t\t\t\t\t\t\t\t10년만에 다시 본 올드보이. 역시 최고였다. \n",
            "\t\t\t\t\t\t\t\t\t\t\t\t\t\t\t\n",
            "\t\t\t\t\t\t\t\t\t\t\t\t\t\t\n",
            "\t\t\t\t\t\t\t\t\t\t\t\t\t\t\n",
            "\t\t\t\t\t\t\t\t\t\t\t\t\t\n",
            "날짜: 2013.07.28 01:53\n",
            "별점: 10\n",
            "좋아요: 1637\n",
            "싫어요: 75\n",
            "내용: \n",
            "\n",
            "\t\t\t\t\t\t\t\t\t\t\t\t\t\t\n",
            "\t\t\t\t\t\t\t\t\t\t\t\t\t\t\n",
            "\t\t\t\t\t\t\t\t\t\t\t\t\t\t\n",
            "\t\t\t\t\t\t\t\t\t\t\t\t\t\t\n",
            "\t\t\t\t\t\t\t\t\t\t\t\t\t\t\t\n",
            "\t\t\t\t\t\t\t\t\t\t\t\t\t\t\t\n",
            "\t\t\t\t\t\t\t\t\t\t\t\t\t\t\t\t개인적으로는 레옹보다 명작이라고 생각한다. 한국에서 다시 나오기 힘든 작품 \n",
            "\t\t\t\t\t\t\t\t\t\t\t\t\t\t\t\n",
            "\t\t\t\t\t\t\t\t\t\t\t\t\t\t\n",
            "\t\t\t\t\t\t\t\t\t\t\t\t\t\t\n",
            "\t\t\t\t\t\t\t\t\t\t\t\t\t\n",
            "날짜: 2013.07.15 11:15\n",
            "별점: 10\n",
            "좋아요: 1612\n",
            "싫어요: 136\n"
          ]
        }
      ],
      "source": [
        "title, review_list = crawl(\"https://movie.naver.com/movie/bi/mi/basic.nhn?code=36944\")\n",
        "print('제목: ' + title)\n",
        "for review in review_list:\n",
        "  review.show()"
      ]
    },
    {
      "cell_type": "markdown",
      "metadata": {
        "id": "SChy8FnGZoYF"
      },
      "source": [
        "올드보이와 아이언맨3의 별점(star), 한줄평(comment),\n",
        "날짜(date), 좋아요(good), 싫어요(bad)를 수집했습니다."
      ]
    },
    {
      "cell_type": "code",
      "execution_count": null,
      "metadata": {
        "id": "7rH8E4hnZoYF",
        "outputId": "9e4f1bf2-a106-40b1-b0d2-a981a93c8213"
      },
      "outputs": [
        {
          "name": "stdout",
          "output_type": "stream",
          "text": [
            "제목: 아이언맨 3\n",
            "내용: \n",
            "\n",
            "\t\t\t\t\t\t\t\t\t\t\t\t\t\t\n",
            "\t\t\t\t\t\t\t\t\t\t\t\t\t\t\n",
            "\t\t\t\t\t\t\t\t\t\t\t\t\t\t\n",
            "\t\t\t\t\t\t\t\t\t\t\t\t\t\t\n",
            "\t\t\t\t\t\t\t\t\t\t\t\t\t\t\t\n",
            "\t\t\t\t\t\t\t\t\t\t\t\t\t\t\t\n",
            "\t\t\t\t\t\t\t\t\t\t\t\t\t\t\t\t최고다. 후속작은 재미없을 거라는 편견을 깨준영화. \n",
            "\t\t\t\t\t\t\t\t\t\t\t\t\t\t\t\n",
            "\t\t\t\t\t\t\t\t\t\t\t\t\t\t\n",
            "\t\t\t\t\t\t\t\t\t\t\t\t\t\t\n",
            "\t\t\t\t\t\t\t\t\t\t\t\t\t\n",
            "날짜: 2013.07.10 11:03\n",
            "별점: 10\n",
            "좋아요: 1419\n",
            "싫어요: 95\n",
            "내용: \n",
            "\n",
            "\t\t\t\t\t\t\t\t\t\t\t\t\t\t\n",
            "\t\t\t\t\t\t\t\t\t\t\t\t\t\t\n",
            "\t\t\t\t\t\t\t\t\t\t\t\t\t\t\n",
            "\t\t\t\t\t\t\t\t\t\t\t\t\t\t\n",
            "\t\t\t\t\t\t\t\t\t\t\t\t\t\t\t\n",
            "\t\t\t\t\t\t\t\t\t\t\t\t\t\t\t\n",
            "\t\t\t\t\t\t\t\t\t\t\t\t\t\t\t\t자, 이제 어벤져스2가 기대된다. \n",
            "\t\t\t\t\t\t\t\t\t\t\t\t\t\t\t\n",
            "\t\t\t\t\t\t\t\t\t\t\t\t\t\t\n",
            "\t\t\t\t\t\t\t\t\t\t\t\t\t\t\n",
            "\t\t\t\t\t\t\t\t\t\t\t\t\t\n",
            "날짜: 2013.06.06 12:05\n",
            "별점: 10\n",
            "좋아요: 817\n",
            "싫어요: 80\n",
            "내용: \n",
            "\n",
            "\t\t\t\t\t\t\t\t\t\t\t\t\t\t\n",
            "\t\t\t\t\t\t\t\t\t\t\t\t\t\t\n",
            "\t\t\t\t\t\t\t\t\t\t\t\t\t\t\n",
            "\t\t\t\t\t\t\t\t\t\t\t\t\t\t\n",
            "\t\t\t\t\t\t\t\t\t\t\t\t\t\t\t\n",
            "\t\t\t\t\t\t\t\t\t\t\t\t\t\t\t\n",
            "\t\t\t\t\t\t\t\t\t\t\t\t\t\t\t\t아이언맨 기대를 저버리지 않는군 \n",
            "\t\t\t\t\t\t\t\t\t\t\t\t\t\t\t\n",
            "\t\t\t\t\t\t\t\t\t\t\t\t\t\t\n",
            "\t\t\t\t\t\t\t\t\t\t\t\t\t\t\n",
            "\t\t\t\t\t\t\t\t\t\t\t\t\t\n",
            "날짜: 2013.06.23 17:44\n",
            "별점: 10\n",
            "좋아요: 665\n",
            "싫어요: 55\n",
            "내용: \n",
            "\n",
            "\t\t\t\t\t\t\t\t\t\t\t\t\t\t\n",
            "\t\t\t\t\t\t\t\t\t\t\t\t\t\t\n",
            "\t\t\t\t\t\t\t\t\t\t\t\t\t\t\n",
            "\t\t\t\t\t\t\t\t\t\t\t\t\t\t\n",
            "\t\t\t\t\t\t\t\t\t\t\t\t\t\t\t\n",
            "\t\t\t\t\t\t\t\t\t\t\t\t\t\t\t\n",
            "\t\t\t\t\t\t\t\t\t\t\t\t\t\t\t\t재미있음 코믹과 스토리를 잘 섞었는 영화 \n",
            "\t\t\t\t\t\t\t\t\t\t\t\t\t\t\t\n",
            "\t\t\t\t\t\t\t\t\t\t\t\t\t\t\n",
            "\t\t\t\t\t\t\t\t\t\t\t\t\t\t\n",
            "\t\t\t\t\t\t\t\t\t\t\t\t\t\n",
            "날짜: 2013.06.19 18:37\n",
            "별점: 10\n",
            "좋아요: 559\n",
            "싫어요: 43\n",
            "내용: \n",
            "\n",
            "\t\t\t\t\t\t\t\t\t\t\t\t\t\t\n",
            "\t\t\t\t\t\t\t\t\t\t\t\t\t\t\n",
            "\t\t\t\t\t\t\t\t\t\t\t\t\t\t\n",
            "\t\t\t\t\t\t\t\t\t\t\t\t\t\t\n",
            "\t\t\t\t\t\t\t\t\t\t\t\t\t\t\t\n",
            "\t\t\t\t\t\t\t\t\t\t\t\t\t\t\t\n",
            "\t\t\t\t\t\t\t\t\t\t\t\t\t\t\t\t1편,2편은 3편을위해태어났다 \n",
            "\t\t\t\t\t\t\t\t\t\t\t\t\t\t\t\n",
            "\t\t\t\t\t\t\t\t\t\t\t\t\t\t\n",
            "\t\t\t\t\t\t\t\t\t\t\t\t\t\t\n",
            "\t\t\t\t\t\t\t\t\t\t\t\t\t\n",
            "날짜: 2013.06.11 20:22\n",
            "별점: 10\n",
            "좋아요: 441\n",
            "싫어요: 22\n"
          ]
        }
      ],
      "source": [
        "title, review_list = crawl(\"https://movie.naver.com/movie/bi/mi/basic.nhn?code=70254\")\n",
        "print('제목: ' + title)\n",
        "for review in review_list:\n",
        "  review.show()"
      ]
    }
  ],
  "metadata": {
    "colab": {
      "provenance": [],
      "include_colab_link": true
    },
    "kernelspec": {
      "display_name": "Python 3.10.7 ('Python310')",
      "language": "python",
      "name": "python3"
    },
    "language_info": {
      "codemirror_mode": {
        "name": "ipython",
        "version": 3
      },
      "file_extension": ".py",
      "mimetype": "text/x-python",
      "name": "python",
      "nbconvert_exporter": "python",
      "pygments_lexer": "ipython3",
      "version": "3.10.7"
    },
    "vscode": {
      "interpreter": {
        "hash": "ffc30bce146115a487e88e13620efc04159c97195effb2b786c92c140869cf1c"
      }
    }
  },
  "nbformat": 4,
  "nbformat_minor": 0
}