{
  "cells": [
    {
      "cell_type": "markdown",
      "metadata": {
        "id": "view-in-github",
        "colab_type": "text"
      },
      "source": [
        "<a href=\"https://colab.research.google.com/github/dscoool/datastructure/blob/main/CNN_webcrawling.ipynb\" target=\"_parent\"><img src=\"https://colab.research.google.com/assets/colab-badge.svg\" alt=\"Open In Colab\"/></a>"
      ]
    },
    {
      "cell_type": "code",
      "execution_count": null,
      "metadata": {
        "id": "mHIvDMHB-bjl"
      },
      "outputs": [],
      "source": [
        "\n",
        "\n",
        "# CNN.com의 URL\n",
        "url = 'https://edition.cnn.com/'\n",
        "\n",
        "# HTTP GET 요청을 보내고 응답을 받아옴\n",
        "response = requests.get(url)\n",
        "\n",
        "# 응답의 내용을 파싱하여 BeautifulSoup 객체 생성\n",
        "soup = BeautifulSoup(response.content, 'html.parser')\n",
        "\n",
        "# 헤드라인 뉴스를 추출\n",
        "headlines = soup.find_all('h3', class_='cd__headline')\n",
        "\n",
        "# 결과 출력\n",
        "for headline in headlines:\n",
        "    print(headline.text.strip())\n"
      ]
    },
    {
      "cell_type": "code",
      "execution_count": null,
      "metadata": {
        "id": "b4-m3xXR-y5c"
      },
      "outputs": [],
      "source": [
        "import requests\n",
        "from bs4 import BeautifulSoup"
      ]
    },
    {
      "cell_type": "code",
      "execution_count": null,
      "metadata": {
        "id": "VnC3cXP_-wGK"
      },
      "outputs": [],
      "source": [
        "\n",
        "# CNN.com의 URL\n",
        "url = 'https://edition.cnn.com/'"
      ]
    },
    {
      "cell_type": "code",
      "execution_count": null,
      "metadata": {
        "colab": {
          "base_uri": "https://localhost:8080/",
          "height": 35
        },
        "id": "Wz7VJc1L-42X",
        "outputId": "5abc91fa-e371-4ecf-ca30-fcfe7db87607"
      },
      "outputs": [
        {
          "data": {
            "application/vnd.google.colaboratory.intrinsic+json": {
              "type": "string"
            },
            "text/plain": [
              "'https://edition.cnn.com/'"
            ]
          },
          "execution_count": 7,
          "metadata": {},
          "output_type": "execute_result"
        }
      ],
      "source": [
        "url"
      ]
    },
    {
      "cell_type": "code",
      "execution_count": null,
      "metadata": {
        "id": "0-_YNgbY-4KJ"
      },
      "outputs": [],
      "source": [
        "\n",
        "# HTTP GET 요청을 보내고 응답을 받아옴\n",
        "response = requests.get(url)\n",
        "response"
      ]
    },
    {
      "cell_type": "code",
      "execution_count": null,
      "metadata": {
        "colab": {
          "base_uri": "https://localhost:8080/"
        },
        "id": "9WsId4I_-7Ex",
        "outputId": "c8a89bdd-2f43-4f2e-fde0-7886a23e5c3d"
      },
      "outputs": [
        {
          "data": {
            "text/plain": [
              "<Response [200]>"
            ]
          },
          "execution_count": 8,
          "metadata": {},
          "output_type": "execute_result"
        }
      ],
      "source": []
    },
    {
      "cell_type": "code",
      "execution_count": null,
      "metadata": {
        "colab": {
          "background_save": true
        },
        "id": "t-hy-TMg-9rV"
      },
      "outputs": [],
      "source": [
        "soup = BeautifulSoup(response.content, 'html.parser')\n"
      ]
    },
    {
      "cell_type": "code",
      "execution_count": null,
      "metadata": {
        "id": "ue2G0uBj--Vo"
      },
      "outputs": [],
      "source": []
    },
    {
      "cell_type": "code",
      "execution_count": null,
      "metadata": {
        "id": "lTxkyG2J--QL"
      },
      "outputs": [],
      "source": []
    }
  ],
  "metadata": {
    "colab": {
      "provenance": [],
      "authorship_tag": "ABX9TyM7EZ4lihd29SlpTAVTaHOg",
      "include_colab_link": true
    },
    "kernelspec": {
      "display_name": "Python 3",
      "name": "python3"
    },
    "language_info": {
      "name": "python"
    }
  },
  "nbformat": 4,
  "nbformat_minor": 0
}