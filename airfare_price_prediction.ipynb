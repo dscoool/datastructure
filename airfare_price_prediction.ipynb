{
  "cells": [
    {
      "cell_type": "markdown",
      "metadata": {
        "id": "view-in-github",
        "colab_type": "text"
      },
      "source": [
        "<a href=\"https://colab.research.google.com/github/dscoool/datastructure/blob/main/airfare_price_prediction.ipynb\" target=\"_parent\"><img src=\"https://colab.research.google.com/assets/colab-badge.svg\" alt=\"Open In Colab\"/></a>"
      ]
    },
    {
      "metadata": {
        "id": "QK3dtaW2X1wx"
      },
      "cell_type": "markdown",
      "source": [
        "https://www.kaggle.com/code/vinayshaw/airfare-price-prediction"
      ]
    },
    {
      "metadata": {
        "id": "-aipgfCHX1w8"
      },
      "cell_type": "markdown",
      "source": [
        "# Flight Price prediction\n",
        "![](https://wonderfulengineering.com/wp-content/uploads/2014/05/airplane-wallpaper-2.jpg)"
      ]
    },
    {
      "metadata": {
        "id": "eSE6B2l3X1w9"
      },
      "cell_type": "markdown",
      "source": [
        "## Problem Statement\n",
        "\n",
        "Flight ticket prices can be something hard to guess, today we might see a price, check out the price of the same flight tomorrow, it will be a different story. We might have often heard travelers saying that flight ticket prices are so unpredictable. As data scientists, we are gonna prove that given the right data anything can be predicted. Here you will be provided with prices of flight tickets for various airlines between the months of March and June of 2019 and between various cities.\n",
        "Size of training set: 10683 records\n",
        "\n",
        "Size of test set: 2671 records\n",
        "\n",
        "FEATURES: Airline: The name of the airline.\n",
        "\n",
        "Date_of_Journey: The date of the journey\n",
        "\n",
        "Source: The source from which the service begins.\n",
        "\n",
        "Destination: The destination where the service ends.\n",
        "\n",
        "Route: The route taken by the flight to reach the destination.\n",
        "\n",
        "Dep_Time: The time when the journey starts from the source.\n",
        "\n",
        "Arrival_Time: Time of arrival at the destination.\n",
        "\n",
        "Duration: Total duration of the flight.\n",
        "\n",
        "Total_Stops: Total stops between the source and destination.\n",
        "\n",
        "Additional_Info: Additional information about the flight\n",
        "\n",
        "Price: The price of the ticket"
      ]
    },
    {
      "metadata": {
        "id": "WgDZVqYmX1w-"
      },
      "cell_type": "markdown",
      "source": [
        "## Importing Libraries"
      ]
    },
    {
      "metadata": {
        "_uuid": "8f2839f25d086af736a60e9eeb907d3b93b6e0e5",
        "_cell_guid": "b1076dfc-b9ad-4769-8c92-a6c4dae69d19",
        "trusted": true,
        "id": "GHZlBM9hX1w_"
      },
      "cell_type": "code",
      "source": [
        "# This Python 3 environment comes with many helpful analytics libraries installed\n",
        "# It is defined by the kaggle/python Docker image: https://github.com/kaggle/docker-python\n",
        "# For example, here's several helpful packages to load\n",
        "\n",
        "import numpy as np # linear algebra\n",
        "import pandas as pd # data processing, CSV file I/O (e.g. pd.read_csv)\n",
        "import seaborn as sns\n",
        "import matplotlib.pyplot as plt\n",
        "# Input data files are available in the read-only \"../input/\" directory\n",
        "# For example, running this (by clicking run or pressing Shift+Enter) will list all files under the input directory\n",
        "\n",
        "import os\n",
        "for dirname, _, filenames in os.walk('/kaggle/input'):\n",
        "    for filename in filenames:\n",
        "        print(os.path.join(dirname, filename))\n",
        "\n",
        "# You can write up to 5GB to the current directory (/kaggle/working/) that gets preserved as output when you create a version using \"Save & Run All\"\n",
        "# You can also write temporary files to /kaggle/temp/, but they won't be saved outside of the current session"
      ],
      "execution_count": null,
      "outputs": []
    },
    {
      "metadata": {
        "_uuid": "d629ff2d2480ee46fbb7e2d37f6b5fab8052498a",
        "_cell_guid": "79c7e3d0-c299-4dcb-8224-4455121ee9b0",
        "trusted": true,
        "id": "Xe9xqTRxX1xC"
      },
      "cell_type": "code",
      "source": [
        "train_data=pd.read_excel('/kaggle/input/flight-fare-prediction-mh/Data_Train.xlsx')\n",
        "test_data=pd.read_excel('/kaggle/input/flight-fare-prediction-mh/Test_set.xlsx')"
      ],
      "execution_count": null,
      "outputs": []
    },
    {
      "metadata": {
        "id": "BId9p4aSX1xD"
      },
      "cell_type": "markdown",
      "source": [
        "* ## Explore dataset"
      ]
    },
    {
      "metadata": {
        "trusted": true,
        "id": "71wMhdlcX1xD"
      },
      "cell_type": "code",
      "source": [
        "train_data.shape,test_data.shape"
      ],
      "execution_count": null,
      "outputs": []
    },
    {
      "metadata": {
        "trusted": true,
        "id": "0ViPUS0dX1xE"
      },
      "cell_type": "code",
      "source": [
        "train_data.head()"
      ],
      "execution_count": null,
      "outputs": []
    },
    {
      "metadata": {
        "trusted": true,
        "id": "O8dbUa5QX1xF"
      },
      "cell_type": "code",
      "source": [
        "train_data.info()"
      ],
      "execution_count": null,
      "outputs": []
    },
    {
      "metadata": {
        "trusted": true,
        "id": "qZcnfxmmX1xF"
      },
      "cell_type": "code",
      "source": [
        "test_data.info()"
      ],
      "execution_count": null,
      "outputs": []
    },
    {
      "metadata": {
        "trusted": true,
        "id": "ypMmCkCnX1xF"
      },
      "cell_type": "code",
      "source": [
        "# Checking missing value in dataset\n",
        "train_data.isnull().values.any(),test_data.isnull().values.any()"
      ],
      "execution_count": null,
      "outputs": []
    },
    {
      "metadata": {
        "id": "J9DOwFrUX1xG"
      },
      "cell_type": "markdown",
      "source": [
        "train_data have missing value.Lets check it"
      ]
    },
    {
      "metadata": {
        "trusted": true,
        "id": "fxa8hIVWX1xG"
      },
      "cell_type": "code",
      "source": [
        "train_data.isnull().sum()"
      ],
      "execution_count": null,
      "outputs": []
    },
    {
      "metadata": {
        "trusted": true,
        "id": "BiFP9bUeX1xG"
      },
      "cell_type": "code",
      "source": [
        "train_data.dropna(inplace=True)"
      ],
      "execution_count": null,
      "outputs": []
    },
    {
      "metadata": {
        "id": "Y3BDTqIcX1xG"
      },
      "cell_type": "markdown",
      "source": [
        "* # Data Cleaning"
      ]
    },
    {
      "metadata": {
        "trusted": true,
        "id": "ju3TDpxuX1xG"
      },
      "cell_type": "code",
      "source": [
        "# Checking if there are any Duplicate values\n",
        "train_data[train_data.duplicated()]"
      ],
      "execution_count": null,
      "outputs": []
    },
    {
      "metadata": {
        "trusted": true,
        "id": "XftkaXZwX1xI"
      },
      "cell_type": "code",
      "source": [
        "# Drop duplicates value\n",
        "train_data.drop_duplicates(keep='first',inplace=True)"
      ],
      "execution_count": null,
      "outputs": []
    },
    {
      "metadata": {
        "trusted": true,
        "id": "htKj1c1eX1xI"
      },
      "cell_type": "code",
      "source": [
        "train_data[\"Additional_Info\"].value_counts()"
      ],
      "execution_count": null,
      "outputs": []
    },
    {
      "metadata": {
        "id": "dxlzgddDX1xJ"
      },
      "cell_type": "markdown",
      "source": [
        "Convert No Info in No info because both are same"
      ]
    },
    {
      "metadata": {
        "trusted": true,
        "id": "WgWFBiKcX1xJ"
      },
      "cell_type": "code",
      "source": [
        "train_data[\"Additional_Info\"] = train_data[\"Additional_Info\"].replace({'No Info': 'No info'})"
      ],
      "execution_count": null,
      "outputs": []
    },
    {
      "metadata": {
        "id": "_REDVdneX1xJ"
      },
      "cell_type": "markdown",
      "source": [
        "* # Feature Engineering ( Dividing data into features and labels)"
      ]
    },
    {
      "metadata": {
        "trusted": true,
        "id": "BD6Hg9TCX1xK"
      },
      "cell_type": "code",
      "source": [
        "# Duration convert hours in min.\n",
        "train_data['Duration']=  train_data['Duration'].str.replace(\"h\", '*60').str.replace(' ','+').str.replace('m','*1').apply(eval)\n",
        "test_data['Duration']=  test_data['Duration'].str.replace(\"h\", '*60').str.replace(' ','+').str.replace('m','*1').apply(eval)"
      ],
      "execution_count": null,
      "outputs": []
    },
    {
      "metadata": {
        "trusted": true,
        "id": "WTT1Di-xX1xL"
      },
      "cell_type": "code",
      "source": [
        "# Date_of_Journey\n",
        "train_data[\"Journey_day\"] = train_data['Date_of_Journey'].str.split('/').str[0].astype(int)\n",
        "train_data[\"Journey_month\"] = train_data['Date_of_Journey'].str.split('/').str[1].astype(int)\n",
        "train_data.drop([\"Date_of_Journey\"], axis = 1, inplace = True)\n",
        "\n",
        "# Dep_Time\n",
        "train_data[\"Dep_hour\"] = pd.to_datetime(train_data[\"Dep_Time\"]).dt.hour\n",
        "train_data[\"Dep_min\"] = pd.to_datetime(train_data[\"Dep_Time\"]).dt.minute\n",
        "train_data.drop([\"Dep_Time\"], axis = 1, inplace = True)\n",
        "\n",
        "# Arrival_Time\n",
        "train_data[\"Arrival_hour\"] = pd.to_datetime(train_data.Arrival_Time).dt.hour\n",
        "train_data[\"Arrival_min\"] = pd.to_datetime(train_data.Arrival_Time).dt.minute\n",
        "train_data.drop([\"Arrival_Time\"], axis = 1, inplace = True)"
      ],
      "execution_count": null,
      "outputs": []
    },
    {
      "metadata": {
        "trusted": true,
        "id": "4uOeZnbxX1xL"
      },
      "cell_type": "code",
      "source": [
        "# Date_of_Journey\n",
        "test_data[\"Journey_day\"] = test_data['Date_of_Journey'].str.split('/').str[0].astype(int)\n",
        "test_data[\"Journey_month\"] = test_data['Date_of_Journey'].str.split('/').str[1].astype(int)\n",
        "test_data.drop([\"Date_of_Journey\"], axis = 1, inplace = True)\n",
        "\n",
        "# Dep_Time\n",
        "test_data[\"Dep_hour\"] = pd.to_datetime(test_data[\"Dep_Time\"]).dt.hour\n",
        "test_data[\"Dep_min\"] = pd.to_datetime(test_data[\"Dep_Time\"]).dt.minute\n",
        "test_data.drop([\"Dep_Time\"], axis = 1, inplace = True)\n",
        "\n",
        "# Arrival_Time\n",
        "test_data[\"Arrival_hour\"] = pd.to_datetime(test_data.Arrival_Time).dt.hour\n",
        "test_data[\"Arrival_min\"] = pd.to_datetime(test_data.Arrival_Time).dt.minute\n",
        "test_data.drop([\"Arrival_Time\"], axis = 1, inplace = True)"
      ],
      "execution_count": null,
      "outputs": []
    },
    {
      "metadata": {
        "trusted": true,
        "id": "FEALdtlzX1xM"
      },
      "cell_type": "code",
      "source": [
        "plt.figure(figsize = (15, 10))\n",
        "plt.title('Count of flights month wise')\n",
        "ax=sns.countplot(x = 'Journey_month', data = train_data)\n",
        "plt.xlabel('Month')\n",
        "plt.ylabel('Count of flights')\n",
        "for p in ax.patches:\n",
        "    ax.annotate(int(p.get_height()), (p.get_x()+0.25, p.get_height()+1), va='bottom',\n",
        "                    color= 'black')"
      ],
      "execution_count": null,
      "outputs": []
    },
    {
      "metadata": {
        "trusted": true,
        "id": "Db2nh-w4X1xM"
      },
      "cell_type": "code",
      "source": [
        "# Total_Stops\n",
        "train_data['Total_Stops'].replace(['1 stop', 'non-stop', '2 stops', '3 stops', '4 stops'], [1, 0, 2, 3, 4], inplace=True)\n",
        "test_data['Total_Stops'].replace(['1 stop', 'non-stop', '2 stops', '3 stops', '4 stops'], [1, 0, 2, 3, 4], inplace=True)"
      ],
      "execution_count": null,
      "outputs": []
    },
    {
      "metadata": {
        "trusted": true,
        "id": "JuESkdgGX1xN"
      },
      "cell_type": "code",
      "source": [
        "train_data[\"Airline\"].value_counts()"
      ],
      "execution_count": null,
      "outputs": []
    },
    {
      "metadata": {
        "trusted": true,
        "id": "oFTb5h8hX1xN"
      },
      "cell_type": "code",
      "source": [
        "plt.figure(figsize = (15, 10))\n",
        "plt.title('Count of flights with different Airlines')\n",
        "ax=sns.countplot(x = 'Airline', data =train_data)\n",
        "plt.xlabel('Airline')\n",
        "plt.ylabel('Count of flights')\n",
        "plt.xticks(rotation = 90)\n",
        "for p in ax.patches:\n",
        "    ax.annotate(int(p.get_height()), (p.get_x()+0.25, p.get_height()+1), va='bottom',\n",
        "                    color= 'black')"
      ],
      "execution_count": null,
      "outputs": []
    },
    {
      "metadata": {
        "id": "h6hu0iQqX1xO"
      },
      "cell_type": "markdown",
      "source": [
        "There are more number of flights of Jet Airways.\n",
        "\n",
        " Jet Airways Business, Vistara Premium economy, Trujet have actually almost negligible flights."
      ]
    },
    {
      "metadata": {
        "trusted": true,
        "id": "OSmV3i5EX1xO"
      },
      "cell_type": "code",
      "source": [
        "plt.figure(figsize = (15, 10))\n",
        "plt.title('Price VS Airlines')\n",
        "plt.scatter(train_data['Airline'], train_data['Price'])\n",
        "plt.xticks(rotation = 90)\n",
        "plt.xlabel('Airline')\n",
        "plt.ylabel('Price of ticket')\n",
        "plt.xticks(rotation = 90)\n"
      ],
      "execution_count": null,
      "outputs": []
    },
    {
      "metadata": {
        "id": "mXC0CID0X1xO"
      },
      "cell_type": "markdown",
      "source": [
        "\n",
        "The ticket rate for Jet Airways Business airline is high."
      ]
    },
    {
      "metadata": {
        "trusted": true,
        "id": "137PpC8eX1xP"
      },
      "cell_type": "code",
      "source": [
        "# Airline\n",
        "train_data[\"Airline\"].replace({'Multiple carriers Premium economy':'Other',\n",
        "                                                        'Jet Airways Business':'Other',\n",
        "                                                        'Vistara Premium economy':'Other',\n",
        "                                                        'Trujet':'Other'\n",
        "                                                   },\n",
        "                                        inplace=True)\n",
        "\n",
        "test_data[\"Airline\"].replace({'Multiple carriers Premium economy':'Other',\n",
        "                                                        'Jet Airways Business':'Other',\n",
        "                                                        'Vistara Premium economy':'Other',\n",
        "                                                        'Trujet':'Other'\n",
        "                                                   },\n",
        "                                        inplace=True)"
      ],
      "execution_count": null,
      "outputs": []
    },
    {
      "metadata": {
        "trusted": true,
        "id": "OFL5CupeX1xP"
      },
      "cell_type": "code",
      "source": [
        "\n",
        "plt.figure(figsize = (15, 10))\n",
        "plt.title('Price VS Additional Information')\n",
        "sns.scatterplot(train_data['Additional_Info'], train_data['Price'],data=train_data)\n",
        "plt.xticks(rotation = 90)\n",
        "plt.xlabel('Information')\n",
        "plt.ylabel('Price of ticket')"
      ],
      "execution_count": null,
      "outputs": []
    },
    {
      "metadata": {
        "id": "g4lRM-UYX1xP"
      },
      "cell_type": "markdown",
      "source": [
        "\n",
        "#### From above scatter plot it is clear that the ticket prices for Business class is higher which is quite obivious."
      ]
    },
    {
      "metadata": {
        "trusted": true,
        "id": "LUL_YUALX1xP"
      },
      "cell_type": "code",
      "source": [
        "train_data[\"Additional_Info\"].value_counts()"
      ],
      "execution_count": null,
      "outputs": []
    },
    {
      "metadata": {
        "trusted": true,
        "id": "XFhsgtkJX1xP"
      },
      "cell_type": "code",
      "source": [
        "# Additional_Info\n",
        "train_data[\"Additional_Info\"].replace({'Change airports':'Other',\n",
        "                                                        'Business class':'Other',\n",
        "                                                        '1 Short layover':'Other',\n",
        "                                                        'Red-eye flight':'Other',\n",
        "                                                        '2 Long layover':'Other',\n",
        "                                                   },\n",
        "                                        inplace=True)\n",
        "test_data[\"Additional_Info\"].replace({'Change airports':'Other',\n",
        "                                                        'Business class':'Other',\n",
        "                                                        '1 Short layover':'Other',\n",
        "                                                        'Red-eye flight':'Other',\n",
        "                                                        '2 Long layover':'Other',\n",
        "                                                   },\n",
        "                                        inplace=True)"
      ],
      "execution_count": null,
      "outputs": []
    },
    {
      "metadata": {
        "trusted": true,
        "id": "8-F3z0nwX1xQ"
      },
      "cell_type": "code",
      "source": [
        "train_data.head()"
      ],
      "execution_count": null,
      "outputs": []
    },
    {
      "metadata": {
        "id": "9F5A76wNX1xQ"
      },
      "cell_type": "markdown",
      "source": [
        "### Convert categorical data into numerical"
      ]
    },
    {
      "metadata": {
        "trusted": true,
        "id": "HvpyHSHpX1xR"
      },
      "cell_type": "code",
      "source": [
        "data = train_data.drop([\"Price\"], axis=1)"
      ],
      "execution_count": null,
      "outputs": []
    },
    {
      "metadata": {
        "trusted": true,
        "id": "k7FG06mWX1xR"
      },
      "cell_type": "code",
      "source": [
        "train_categorical_data = data.select_dtypes(exclude=['int64', 'float','int32'])\n",
        "train_numerical_data = data.select_dtypes(include=['int64', 'float','int32'])\n",
        "\n",
        "test_categorical_data = test_data.select_dtypes(exclude=['int64', 'float','int32','int32'])\n",
        "test_numerical_data  = test_data.select_dtypes(include=['int64', 'float','int32'])"
      ],
      "execution_count": null,
      "outputs": []
    },
    {
      "metadata": {
        "trusted": true,
        "id": "pwH4tjElX1xR"
      },
      "cell_type": "code",
      "source": [
        "train_categorical_data.head()"
      ],
      "execution_count": null,
      "outputs": []
    },
    {
      "metadata": {
        "trusted": true,
        "id": "Lxc4VCURX1xS"
      },
      "cell_type": "code",
      "source": [
        "#Label encode and hot encode categorical columns\n",
        "from sklearn.preprocessing import LabelEncoder\n",
        "le = LabelEncoder()\n",
        "train_categorical_data = train_categorical_data.apply(LabelEncoder().fit_transform)\n",
        "test_categorical_data = test_categorical_data.apply(LabelEncoder().fit_transform)"
      ],
      "execution_count": null,
      "outputs": []
    },
    {
      "metadata": {
        "trusted": true,
        "id": "TVAydB4pX1xS"
      },
      "cell_type": "code",
      "source": [
        "train_categorical_data.head()"
      ],
      "execution_count": null,
      "outputs": []
    },
    {
      "metadata": {
        "id": "hEZn5ihiX1xS"
      },
      "cell_type": "markdown",
      "source": [
        "### **Concatenate both catagorical and numerical data**"
      ]
    },
    {
      "metadata": {
        "trusted": true,
        "id": "FNzxKYhIX1xS"
      },
      "cell_type": "code",
      "source": [
        "X = pd.concat([train_categorical_data, train_numerical_data], axis=1)\n",
        "y=train_data['Price']\n",
        "test_set = pd.concat([test_categorical_data, test_numerical_data], axis=1)"
      ],
      "execution_count": null,
      "outputs": []
    },
    {
      "metadata": {
        "trusted": true,
        "id": "3ckPS3TCX1xT"
      },
      "cell_type": "code",
      "source": [
        "X.head()"
      ],
      "execution_count": null,
      "outputs": []
    },
    {
      "metadata": {
        "trusted": true,
        "id": "sSKqogTqX1xT"
      },
      "cell_type": "code",
      "source": [
        "y.head()"
      ],
      "execution_count": null,
      "outputs": []
    },
    {
      "metadata": {
        "id": "emc0iAc_X1xT"
      },
      "cell_type": "markdown",
      "source": [
        "## Our dataset is ready now!"
      ]
    },
    {
      "metadata": {
        "id": "1gyXYzQkX1xT"
      },
      "cell_type": "markdown",
      "source": [
        "#  Building Machine Learning Models"
      ]
    },
    {
      "metadata": {
        "trusted": true,
        "id": "2TuGaIDYX1xT"
      },
      "cell_type": "code",
      "source": [
        "from sklearn.preprocessing import StandardScaler\n",
        "from sklearn.model_selection import train_test_split\n",
        "from sklearn.metrics import mean_squared_error as mse\n",
        "from sklearn.metrics import r2_score\n",
        "\n",
        "from math import sqrt\n",
        "\n",
        "from sklearn.model_selection import GridSearchCV\n",
        "from sklearn.model_selection import RandomizedSearchCV\n",
        "\n",
        "from sklearn.neighbors import KNeighborsRegressor\n",
        "from sklearn.linear_model import Ridge\n",
        "from sklearn.linear_model import Lasso\n",
        "from sklearn.tree import DecisionTreeRegressor\n",
        "from sklearn.ensemble import RandomForestRegressor\n",
        "from xgboost import XGBRegressor\n",
        "from sklearn.model_selection import KFold\n",
        "\n",
        "def mean_absolute_percentage_error(y_true, y_pred):\n",
        "    y_true, y_pred = np.array(y_true), np.array(y_pred)\n",
        "    return np.mean(np.abs((y_true - y_pred) / y_true)) * 100"
      ],
      "execution_count": null,
      "outputs": []
    },
    {
      "metadata": {
        "trusted": true,
        "id": "_rfb6Nr5X1xU"
      },
      "cell_type": "code",
      "source": [
        "# training testing and splitting the dataset\n",
        "from sklearn.model_selection import train_test_split\n",
        "X_train, X_test, y_train, y_test = train_test_split(X, y, test_size = 0.3, random_state = 42)"
      ],
      "execution_count": null,
      "outputs": []
    },
    {
      "metadata": {
        "trusted": true,
        "id": "NIUpSvagX1xU"
      },
      "cell_type": "code",
      "source": [
        "print(\"The size of training input is\", X_train.shape)\n",
        "print(\"The size of training output is\", y_train.shape)\n",
        "print(50 *'*')\n",
        "print(\"The size of testing input is\", X_test.shape)\n",
        "print(\"The size of testing output is\", y_test.shape)"
      ],
      "execution_count": null,
      "outputs": []
    },
    {
      "metadata": {
        "id": "wcSJjlL0X1xU"
      },
      "cell_type": "markdown",
      "source": [
        "* ## Ridge"
      ]
    },
    {
      "metadata": {
        "trusted": true,
        "id": "rMsDEyh3X1xU"
      },
      "cell_type": "code",
      "source": [
        "params ={'alpha' :[0.0001, 0.001, 0.01, 0.1, 1, 10, 100, 1000, 10000, 100000]}\n",
        "ridge_regressor =GridSearchCV(Ridge(), params ,cv =5,scoring = 'neg_mean_absolute_error', n_jobs =-1)\n",
        "ridge_regressor.fit(X_train ,y_train)"
      ],
      "execution_count": null,
      "outputs": []
    },
    {
      "metadata": {
        "trusted": true,
        "id": "1sQ9acIcX1xU"
      },
      "cell_type": "code",
      "source": [
        "y_train_pred =ridge_regressor.predict(X_train) ##Predict train result\n",
        "y_test_pred =ridge_regressor.predict(X_test) ##Predict test result"
      ],
      "execution_count": null,
      "outputs": []
    },
    {
      "metadata": {
        "trusted": true,
        "id": "yEQL05EBX1xV"
      },
      "cell_type": "code",
      "source": [
        "print(\"Train Results for Ridge Regressor Model:\")\n",
        "print(50 * '-')\n",
        "print(\"Root mean squared error: \", sqrt(mse(y_train.values, y_train_pred)))\n",
        "print(\"Mean absolute % error: \", round(mean_absolute_percentage_error(y_train.values, y_train_pred)))\n",
        "print(\"R-squared: \", r2_score(y_train.values, y_train_pred))"
      ],
      "execution_count": null,
      "outputs": []
    },
    {
      "metadata": {
        "trusted": true,
        "id": "EpslqgMnX1xV"
      },
      "cell_type": "code",
      "source": [
        "print(\"Test Results for Ridge Regressor Model:\")\n",
        "print(50 * '-')\n",
        "print(\"Root mean squared error: \", sqrt(mse(y_test, y_test_pred)))\n",
        "print(\"Mean absolute % error: \", round(mean_absolute_percentage_error(y_test, y_test_pred)))\n",
        "print(\"R-squared: \", r2_score(y_test, y_test_pred))\n"
      ],
      "execution_count": null,
      "outputs": []
    },
    {
      "metadata": {
        "id": "-nAA8_auX1xV"
      },
      "cell_type": "markdown",
      "source": [
        "* ## Lasso"
      ]
    },
    {
      "metadata": {
        "trusted": true,
        "id": "cdMDn9R5X1xV"
      },
      "cell_type": "code",
      "source": [
        "params ={'alpha' :[0.0001, 0.001, 0.01, 0.1, 1, 10, 100, 1000, 10000, 100000]}\n",
        "lasso_regressor =GridSearchCV(Lasso(), params ,cv =15,scoring = 'neg_mean_absolute_error', n_jobs =-1)\n",
        "lasso_regressor.fit(X_train ,y_train)"
      ],
      "execution_count": null,
      "outputs": []
    },
    {
      "metadata": {
        "trusted": true,
        "id": "0KSfbtIFX1xV"
      },
      "cell_type": "code",
      "source": [
        "y_train_pred =lasso_regressor.predict(X_train) ##Predict train result\n",
        "y_test_pred =lasso_regressor.predict(X_test) ##Predict test result"
      ],
      "execution_count": null,
      "outputs": []
    },
    {
      "metadata": {
        "trusted": true,
        "id": "PJF0UtwqX1xW"
      },
      "cell_type": "code",
      "source": [
        "print(\"Train Results for Lasso Regressor Model:\")\n",
        "print(50 * '-')\n",
        "print(\"Root mean squared error: \", sqrt(mse(y_train.values, y_train_pred)))\n",
        "print(\"Mean absolute % error: \", round(mean_absolute_percentage_error(y_train.values, y_train_pred)))\n",
        "print(\"R-squared: \", r2_score(y_train.values, y_train_pred))"
      ],
      "execution_count": null,
      "outputs": []
    },
    {
      "metadata": {
        "trusted": true,
        "id": "ojcekX85X1xW"
      },
      "cell_type": "code",
      "source": [
        "print(\"Test Results for Lasso Regressor Model:\")\n",
        "print(50 * '-')\n",
        "print(\"Root mean squared error: \", sqrt(mse(y_test, y_test_pred)))\n",
        "print(\"Mean absolute % error: \", round(mean_absolute_percentage_error(y_test, y_test_pred)))\n",
        "print(\"R-squared: \", r2_score(y_test, y_test_pred))"
      ],
      "execution_count": null,
      "outputs": []
    },
    {
      "metadata": {
        "id": "ssT56GHvX1xW"
      },
      "cell_type": "markdown",
      "source": [
        "* ## K Neighbors Regressor"
      ]
    },
    {
      "metadata": {
        "trusted": true,
        "id": "s-ue39CdX1xW"
      },
      "cell_type": "code",
      "source": [
        "k_range = list(range(1, 30))\n",
        "params = dict(n_neighbors = k_range)\n",
        "knn_regressor = GridSearchCV(KNeighborsRegressor(), params, cv =10, scoring = 'neg_mean_squared_error')\n",
        "knn_regressor.fit(X_train, y_train)\n"
      ],
      "execution_count": null,
      "outputs": []
    },
    {
      "metadata": {
        "trusted": true,
        "id": "XsSxOc_ZX1xW"
      },
      "cell_type": "code",
      "source": [
        "y_train_pred =knn_regressor.predict(X_train) ##Predict train result\n",
        "y_test_pred =knn_regressor.predict(X_test) ##Predict test result"
      ],
      "execution_count": null,
      "outputs": []
    },
    {
      "metadata": {
        "trusted": true,
        "id": "4yKVgsMAX1xW"
      },
      "cell_type": "code",
      "source": [
        "print(\"Train Results for KNN Regressor Model:\")\n",
        "print(50 * '-')\n",
        "print(\"Root mean squared error: \", sqrt(mse(y_train.values, y_train_pred)))\n",
        "print(\"Mean absolute % error: \", round(mean_absolute_percentage_error(y_train.values, y_train_pred)))\n",
        "print(\"R-squared: \", r2_score(y_train.values, y_train_pred))\n"
      ],
      "execution_count": null,
      "outputs": []
    },
    {
      "metadata": {
        "trusted": true,
        "id": "I1TubhDcX1xX"
      },
      "cell_type": "code",
      "source": [
        "\n",
        "print(\"Test Results for KNN Regressor Model:\")\n",
        "print(50 * '-')\n",
        "print(\"Root mean squared error: \", sqrt(mse(y_test, y_test_pred)))\n",
        "print(\"Mean absolute % errorr: \", round(mean_absolute_percentage_error(y_test, y_test_pred)))\n",
        "print(\"R-squared: \", r2_score(y_test, y_test_pred))"
      ],
      "execution_count": null,
      "outputs": []
    },
    {
      "metadata": {
        "id": "K5fvYedKX1xX"
      },
      "cell_type": "markdown",
      "source": [
        "* ## Decision Tree Regressor"
      ]
    },
    {
      "metadata": {
        "trusted": true,
        "id": "Z0NO-9yzX1xX"
      },
      "cell_type": "code",
      "source": [
        "depth  =list(range(3,30))\n",
        "param_grid =dict(max_depth =depth)\n",
        "tree =GridSearchCV(DecisionTreeRegressor(),param_grid,cv =10)\n",
        "tree.fit(X_train,y_train)"
      ],
      "execution_count": null,
      "outputs": []
    },
    {
      "metadata": {
        "trusted": true,
        "id": "hCYr4HSgX1xY"
      },
      "cell_type": "code",
      "source": [
        "y_train_pred =tree.predict(X_train) ##Predict train result\n",
        "y_test_pred =tree.predict(X_test) ##Predict test result"
      ],
      "execution_count": null,
      "outputs": []
    },
    {
      "metadata": {
        "trusted": true,
        "id": "ZR3GqmIwX1xY"
      },
      "cell_type": "code",
      "source": [
        "print(\"Train Results for Decision Tree Regressor Model:\")\n",
        "print(50 * '-')\n",
        "print(\"Root mean squared error: \", sqrt(mse(y_train.values, y_train_pred)))\n",
        "print(\"Mean absolute % error: \", round(mean_absolute_percentage_error(y_train.values, y_train_pred)))\n",
        "print(\"R-squared: \", r2_score(y_train.values, y_train_pred))"
      ],
      "execution_count": null,
      "outputs": []
    },
    {
      "metadata": {
        "trusted": true,
        "id": "pN8TJv2HX1xY"
      },
      "cell_type": "code",
      "source": [
        "print(\"Test Results for Decision Tree Regressor Model:\")\n",
        "print(50 * '-')\n",
        "print(\"Root mean squared error: \", sqrt(mse(y_test, y_test_pred)))\n",
        "print(\"Mean absolute % error: \", round(mean_absolute_percentage_error(y_test, y_test_pred)))\n",
        "print(\"R-squared: \", r2_score(y_test, y_test_pred))"
      ],
      "execution_count": null,
      "outputs": []
    },
    {
      "metadata": {
        "id": "kGXY89LEX1xZ"
      },
      "cell_type": "markdown",
      "source": [
        "* # Random Forest Regressor"
      ]
    },
    {
      "metadata": {
        "trusted": true,
        "id": "zDM0Xzt9X1xa"
      },
      "cell_type": "code",
      "source": [
        "tuned_params = {'n_estimators': [100, 200, 300, 400, 500], 'min_samples_split': [2, 5, 10], 'min_samples_leaf': [1, 2, 4]}\n",
        "random_regressor = RandomizedSearchCV(RandomForestRegressor(), tuned_params, n_iter = 20, scoring = 'neg_mean_absolute_error', cv = 5, n_jobs = -1)\n",
        "random_regressor.fit(X_train, y_train)\n"
      ],
      "execution_count": null,
      "outputs": []
    },
    {
      "metadata": {
        "trusted": true,
        "id": "EsUu7f2jX1xa"
      },
      "cell_type": "code",
      "source": [
        "y_train_pred = random_regressor.predict(X_train)\n",
        "y_test_pred = random_regressor.predict(X_test)"
      ],
      "execution_count": null,
      "outputs": []
    },
    {
      "metadata": {
        "trusted": true,
        "id": "AYrLFLCMX1xb"
      },
      "cell_type": "code",
      "source": [
        "print(\"Train Results for Random Forest Regressor Model:\")\n",
        "print(50 * '-')\n",
        "print(\"Root mean squared error: \", sqrt(mse(y_train.values, y_train_pred)))\n",
        "print(\"Mean absolute % error: \", round(mean_absolute_percentage_error(y_train.values, y_train_pred)))\n",
        "print(\"R-squared: \", r2_score(y_train.values, y_train_pred))"
      ],
      "execution_count": null,
      "outputs": []
    },
    {
      "metadata": {
        "trusted": true,
        "id": "ibIIwdjhX1xb"
      },
      "cell_type": "code",
      "source": [
        "print(\"Test Results for Random Forest Regressor Model:\")\n",
        "print(50 * '-')\n",
        "print(\"Root mean squared error: \", sqrt(mse(y_test, y_test_pred)))\n",
        "print(\"Mean absolute % error: \", round(mean_absolute_percentage_error(y_test, y_test_pred)))\n",
        "print(\"R-squared: \", r2_score(y_test, y_test_pred))"
      ],
      "execution_count": null,
      "outputs": []
    },
    {
      "metadata": {
        "id": "ooMjKJz8X1xb"
      },
      "cell_type": "markdown",
      "source": [
        "* ## XGB Regressor"
      ]
    },
    {
      "metadata": {
        "trusted": true,
        "id": "ctzeign4X1xc"
      },
      "cell_type": "code",
      "source": [
        "tuned_params = {'max_depth': [1, 2, 3, 4, 5], 'learning_rate': [0.01, 0.05, 0.1], 'n_estimators': [100, 200, 300, 400, 500], 'reg_lambda': [0.001, 0.1, 1.0, 10.0, 100.0]}\n",
        "model = RandomizedSearchCV(XGBRegressor(), tuned_params, n_iter=20, scoring = 'neg_mean_absolute_error', cv=5, n_jobs=-1)\n",
        "model.fit(X_train, y_train)"
      ],
      "execution_count": null,
      "outputs": []
    },
    {
      "metadata": {
        "trusted": true,
        "id": "E5G1XdiZX1xc"
      },
      "cell_type": "code",
      "source": [
        "y_train_pred = model.predict(X_train)\n",
        "y_test_pred = model.predict(X_test)"
      ],
      "execution_count": null,
      "outputs": []
    },
    {
      "metadata": {
        "trusted": true,
        "id": "zQAq1TDOX1xc"
      },
      "cell_type": "code",
      "source": [
        "print(\"Train Results for XGBoost Regressor Model:\")\n",
        "print(50 * '-')\n",
        "print(\"Root mean squared error: \", sqrt(mse(y_train.values, y_train_pred)))\n",
        "print(\"Mean absolute % error: \", round(mean_absolute_percentage_error(y_train.values, y_train_pred)))\n",
        "print(\"R-squared: \", r2_score(y_train.values, y_train_pred))"
      ],
      "execution_count": null,
      "outputs": []
    },
    {
      "metadata": {
        "trusted": true,
        "id": "bOSRVDn-X1xc"
      },
      "cell_type": "code",
      "source": [
        "print(\"Test Results for XGBoost Regressor Model:\")\n",
        "print(50 * '-')\n",
        "print(\"Root mean squared error: \", sqrt(mse(y_test, y_test_pred)))\n",
        "print(\"Mean absolute % error: \", round(mean_absolute_percentage_error(y_test, y_test_pred)))\n",
        "print(\"R-squared: \", r2_score(y_test, y_test_pred))"
      ],
      "execution_count": null,
      "outputs": []
    },
    {
      "metadata": {
        "id": "1W3nLQzNX1xd"
      },
      "cell_type": "markdown",
      "source": [
        "## **Random Forest Regressor & XGB Regressor are giving Maximum Accuracy as compare to other Regressor algorithm.**"
      ]
    },
    {
      "metadata": {
        "id": "T81BTTu5X1xd"
      },
      "cell_type": "markdown",
      "source": [
        "If you have reached till here, So i hope you liked my Analysis.\n",
        "\n",
        "Don't forget to **upvote** if you like it!.\n",
        "\n",
        "I'm a beginner and any suggestion in the comment box is highly appreciated.\n",
        "\n",
        "If you have any doubt reagrding any part of the notebook, feel free to comment your doubt in the comment box.\n",
        "\n",
        "Thank you!!"
      ]
    }
  ],
  "metadata": {
    "kernelspec": {
      "language": "python",
      "display_name": "Python 3",
      "name": "python3"
    },
    "language_info": {
      "pygments_lexer": "ipython3",
      "nbconvert_exporter": "python",
      "version": "3.6.4",
      "file_extension": ".py",
      "codemirror_mode": {
        "name": "ipython",
        "version": 3
      },
      "name": "python",
      "mimetype": "text/x-python"
    },
    "colab": {
      "provenance": [],
      "include_colab_link": true
    }
  },
  "nbformat": 4,
  "nbformat_minor": 0
}