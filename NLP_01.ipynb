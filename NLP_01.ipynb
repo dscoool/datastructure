{
  "cells": [
    {
      "cell_type": "markdown",
      "metadata": {
        "id": "view-in-github",
        "colab_type": "text"
      },
      "source": [
        "<a href=\"https://colab.research.google.com/github/dscoool/datastructure/blob/main/NLP_01.ipynb\" target=\"_parent\"><img src=\"https://colab.research.google.com/assets/colab-badge.svg\" alt=\"Open In Colab\"/></a>"
      ]
    },
    {
      "cell_type": "markdown",
      "metadata": {
        "id": "txg4k9_zKNkb"
      },
      "source": [
        "#### 자연어처리(NLP) - 형태소 분석"
      ]
    },
    {
      "cell_type": "markdown",
      "metadata": {
        "id": "Z85jnYFcKNkd"
      },
      "source": [
        "##### 형태소 분석 - 국어의 어간과 어미, 의미가 있는 최소의 단위를 분리하여 의미를 추출할 수 있도록 구문을 분석 (parsing)하는 작업\n",
        "형태소의 기본형 및 품사 정보를 추출합니다. </br>\n",
        "예시) 2022년 11월 4일 북한 핵실험 뉴스</br>\n",
        "\"북한이 도발 수위를 높이면서 조만간 7차 핵실험을 실시할 것이라는 전망이 대두되고 있습니다.\"</br>\n",
        "\"북한의 핵실험이 어떻게 진행돼 왔는지 7차 핵실험은 어떤 의미를 지니는지 정리했습니다.\"</br>\n",
        "</br>\n",
        "형태소 분석 결과:</br>\n",
        "[('북한', 'NNP'),\n",
        " ('이', 'JKS'),\n",
        " ('도발', 'NNG'),\n",
        " ('수위', 'NNG'),\n",
        " ('를', 'JKO'),\n",
        " ('높이', 'VV'),\n",
        " ('면서', 'EC'),\n",
        " ('조만간', 'MAG'),\n",
        " </br>\n",
        " ('7', 'SN'),\n",
        " ('차', 'NNB'),\n",
        " ('핵실험', 'NNP'),\n",
        " ('을', 'JKO'),\n",
        " ('실시', 'NNG'),\n",
        " ('하', 'XSV'),\n",
        " ('ㄹ', 'ETM'),\n",
        " ('것', 'NNB'),\n",
        " </br>\n",
        " ('이', 'VCP'),\n",
        " ('라는', 'ETM'),\n",
        " ('전망', 'NNG'),\n",
        " ('이', 'JKS'),\n",
        " ('대두', 'NNG'),\n",
        " ('되', 'XSV'),\n",
        " ('고', 'EC'),\n",
        " ('있', 'VX'),\n",
        " ('습니다', 'EF'),\n",
        " ...\n",
        " </br>\n",
        " ('ㄴ', 'JX'),\n",
        " ('않', 'VX'),\n",
        " ('았', 'EP'),\n",
        " ('죠', 'EF'),\n",
        " ('.', 'SF')]"
      ]
    },
    {
      "cell_type": "markdown",
      "metadata": {
        "id": "-H_6e_UGKNke"
      },
      "source": [
        "먼저 사용할 konlpy 모듈을 설치하겠습니다!!"
      ]
    },
    {
      "cell_type": "code",
      "execution_count": null,
      "metadata": {
        "id": "h4opvD9RKNke",
        "outputId": "928e2f5a-d9d7-463a-c6cb-6b53d442100f"
      },
      "outputs": [
        {
          "name": "stdout",
          "output_type": "stream",
          "text": [
            "Requirement already satisfied: konlpy in c:\\python310\\lib\\site-packages (0.6.0)\n",
            "Requirement already satisfied: JPype1>=0.7.0 in c:\\python310\\lib\\site-packages (from konlpy) (1.4.1)\n",
            "Requirement already satisfied: lxml>=4.1.0 in c:\\python310\\lib\\site-packages (from konlpy) (4.9.1)\n",
            "Requirement already satisfied: numpy>=1.6 in c:\\python310\\lib\\site-packages (from konlpy) (1.23.3)\n",
            "Requirement already satisfied: packaging in c:\\python310\\lib\\site-packages (from JPype1>=0.7.0->konlpy) (21.3)\n",
            "Requirement already satisfied: pyparsing!=3.0.5,>=2.0.2 in c:\\python310\\lib\\site-packages (from packaging->JPype1>=0.7.0->konlpy) (3.0.9)\n"
          ]
        }
      ],
      "source": [
        "# konlpy 모듈 설치\n",
        "!pip install konlpy"
      ]
    },
    {
      "cell_type": "markdown",
      "metadata": {
        "id": "AVzLnOtaKNkg"
      },
      "source": [
        "이 프로그램 예제는 JDK(자바)를 사용합니다. </br>\n",
        "먼저 platform.architecture()명령어를 사용하여 본인 Python의 사양</br>\n",
        "(Mac/Linux/Windows, 32bit/64bit)를 확인하세요.</br>\n",
        "JDK에서 오류 발생 시, 아래 링크에서 Java SE Development Kit을</br>\n",
        "다운받아 설치해 주세요!!"
      ]
    },
    {
      "cell_type": "code",
      "execution_count": null,
      "metadata": {
        "id": "0vc2yV__KNkg",
        "outputId": "6b80b7ed-d875-4e21-aad0-10fd2ce4b725"
      },
      "outputs": [
        {
          "name": "stdout",
          "output_type": "stream",
          "text": [
            "('64bit', 'WindowsPE')\n"
          ]
        }
      ],
      "source": [
        "# JDK 설치 에러 시, 아래 명령어로 운영체계(OS/32bit, 64 bit)를 확인한 후,\n",
        "# Java SE Development Kit을 다운받아 설치하세요!!\n",
        "# https://www.oracle.com/kr/java/technologies/javase/javase8-archive-downloads.html\n",
        "import platform\n",
        "print(platform.architecture())"
      ]
    },
    {
      "cell_type": "markdown",
      "metadata": {
        "id": "02vOVFi_KNkh"
      },
      "source": [
        "널리 쓰이는 한국어 자연어처리 분석 모듈인 </br>\n",
        "KonLPY 모듈을 사용하여, 형태소 분석을 해 봅시다!!"
      ]
    },
    {
      "cell_type": "code",
      "execution_count": null,
      "metadata": {
        "id": "k8Uyf0BgKNkh",
        "outputId": "5a8e8b61-a60c-4cb8-be73-78f84d8f1834"
      },
      "outputs": [
        {
          "name": "stdout",
          "output_type": "stream",
          "text": [
            "0.6.0\n"
          ]
        }
      ],
      "source": [
        "import konlpy\n",
        "from konlpy.tag import Kkma, Okt, Komoran\n",
        "from pprint import pprint\n",
        "\n",
        "print(konlpy.__version__)"
      ]
    },
    {
      "cell_type": "markdown",
      "metadata": {
        "id": "Zlna9pcJKNkh"
      },
      "source": [
        "뉴스 문장을 이용하여, </br>\n",
        "간단한 형태소 분석을 해 봅시다."
      ]
    },
    {
      "cell_type": "code",
      "execution_count": null,
      "metadata": {
        "id": "-q3yFFQBKNkh",
        "outputId": "9a8fc458-94af-4cbd-9bce-5fa189daa606"
      },
      "outputs": [
        {
          "name": "stdout",
          "output_type": "stream",
          "text": [
            "[('북한', 'NNG'), ('이', 'JKS'), ('도발', 'NNG'), ('수위', 'NNG'), ('를', 'JKO'), ('높이', 'VV'), ('면서', 'ECE'), ('조만간', 'MAG'), ('7', 'NR'), ('차', 'NNM'), ('핵', 'NNG'), ('실험', 'NNG'), ('을', 'JKO'), ('실시', 'NNG'), ('하', 'XSV'), ('ㄹ', 'ETD'), ('것', 'NNB'), ('이', 'VCP'), ('라는', 'ETD'), ('전망', 'NNG'), ('이', 'JKS'), ('대두', 'NNG'), ('되', 'XSV'), ('고', 'ECE'), ('있', 'VXV'), ('습니다', 'EFN'), ('.', 'SF'), ('북한', 'NNG'), ('의', 'JKG'), ('핵', 'NNG'), ('실험', 'NNG'), ('이', 'JKS'), ('어떻', 'VA'), ('게', 'ECD'), ('진행', 'NNG'), ('되', 'XSV'), ('어', 'ECS'), ('오', 'VX'), ('았', 'EPT'), ('는지', 'ECS'), ('7', 'NR'), ('차', 'NNM'), ('핵', 'NNG'), ('실험', 'NNG'), ('은', 'JX'), ('어떤', 'MDT'), ('의미', 'NNG'), ('를', 'JKO'), ('지니', 'VV'), ('는지', 'ECS'), (',', 'SP'), ('조', 'NNG'), ('현진', 'NNP'), ('해설', 'NNG'), ('위원', 'NNG'), ('과', 'JKM'), ('살펴보', 'VV'), ('겠', 'EPT'), ('습니다', 'EFN'), ('.', 'SF'), ('먼저', 'MAG'), ('북한', 'NNG'), ('이', 'JKS'), ('지금', 'NNG'), ('까지', 'JX'), ('핵', 'NNG'), ('실험', 'NNG'), ('을', 'JKO'), ('어떻', 'VA'), ('게', 'ECD'), ('진행하', 'VV'), ('어', 'ECS'), ('오', 'VX'), ('았', 'EPT'), ('는지', 'ECS'), (',', 'SP'), ('왜', 'MAG'), ('7', 'NR'), ('차', 'NNM'), ('핵', 'NNG'), ('실험', 'NNG'), ('을', 'JKO'), ('하', 'VV'), ('려는', 'ETD'), ('것', 'NNB'), ('이', 'VCP'), ('ㄴ지', 'ECS'), ('맥락', 'NNG'), ('을', 'JKO'), ('살펴보', 'VV'), ('죠', 'EFN'), ('.', 'SF'), ('그렇', 'VA'), ('다면', 'ECE'), ('6', 'NR'), ('차', 'NNM'), ('핵', 'NNG'), ('실험', 'NNG'), ('을', 'JKO'), ('통하', 'VV'), ('어서', 'ECD'), ('핵', 'NNG'), ('무력', 'NNG'), ('완성', 'NNG'), ('을', 'JKO'), ('선언', 'NNG'), ('하', 'XSV'), ('ㄴ', 'ETD'), ('북한', 'NNG'), ('이', 'JKS'), ('왜', 'MAG'), ('7', 'NR'), ('차', 'NNM'), ('핵', 'NNG'), ('실험', 'NNG'), ('을', 'JKO'), ('하', 'VV'), ('려고', 'ECD'), ('하', 'VV'), ('는', 'ETD'), ('것', 'NNB'), ('이', 'VCP'), ('ㄴ가요', 'EFQ'), ('?', 'SF'), ('7', 'NR'), ('차', 'NNM'), ('핵', 'NNG'), ('실험', 'NNG'), ('을', 'JKO'), ('통하', 'VV'), ('어서', 'ECD'), ('북한', 'NNG'), ('이', 'JKS'), ('전술', 'NNG'), ('핵', 'NNG'), ('능력', 'NNG'), ('을', 'JKO'), ('갖추', 'VV'), ('게', 'ECD'), ('되', 'VV'), ('면', 'ECE'), ('어떤', 'MDT'), ('문제', 'NNG'), ('가', 'JKS'), ('생기', 'VV'), ('나요', 'EFQ'), ('?', 'SF'), ('북한', 'NNG'), ('7', 'NR'), ('차', 'NNM'), ('핵', 'NNG'), ('실험', 'NNG'), ('의', 'JKG'), ('정치적', 'NNG'), ('의미', 'NNG'), ('는', 'JX'), ('어떻', 'VA'), ('게', 'ECD'), ('보', 'VV'), ('ㄹ', 'ETD'), ('수', 'NNB'), ('있', 'VV'), ('을까요', 'EFQ'), ('?', 'SF'), ('북한', 'NNG'), ('의', 'JKG'), ('핵', 'NNG'), ('실험', 'NNG'), ('을', 'JKO'), ('막', 'VV'), ('을', 'ETD'), ('방법', 'NNG'), ('은', 'JX'), ('현', 'NNG'), ('실적', 'NNG'), ('으로', 'JKM'), ('없', 'VA'), ('어', 'ECD'), ('보이', 'VV'), ('는데', 'ECD'), (',', 'SP'), ('이미', 'MAG'), ('4', 'NR'), ('월', 'NNM'), ('부터', 'JX'), ('계속', 'MAG'), ('하', 'VV'), ('ㄴ다', 'ECS'), ('하', 'VV'), ('ㄴ다', 'ECS'), ('하', 'VV'), ('었', 'EPT'), ('습니다만', 'ECE'), (',', 'SP'), ('지금', 'NNG'), ('까지', 'JX'), ('이루', 'VV'), ('어', 'ECS'), ('지진', 'NNG'), ('않', 'VV'), ('았', 'EPT'), ('죠', 'EFN'), ('.', 'SF')]\n",
            "[('북한', 'Noun'), ('이', 'Josa'), ('도발', 'Noun'), ('수위', 'Noun'), ('를', 'Josa'), ('높이면서', 'Verb'), ('조만간', 'Noun'), ('7', 'Number'), ('차', 'Noun'), ('핵실험', 'Noun'), ('을', 'Josa'), ('실시', 'Noun'), ('할', 'Verb'), ('것', 'Noun'), ('이라는', 'Josa'), ('전망', 'Noun'), ('이', 'Josa'), ('대두', 'Noun'), ('되고', 'Verb'), ('있습니다', 'Adjective'), ('.', 'Punctuation'), ('북한', 'Noun'), ('의', 'Josa'), ('핵실험', 'Noun'), ('이', 'Josa'), ('어떻게', 'Adjective'), ('진행', 'Noun'), ('돼', 'Verb'), ('왔는지', 'Verb'), ('7', 'Number'), ('차', 'Noun'), ('핵실험', 'Noun'), ('은', 'Josa'), ('어떤', 'Adjective'), ('의미', 'Noun'), ('를', 'Josa'), ('지니는지', 'Verb'), (',', 'Punctuation'), ('조', 'Modifier'), ('현', 'Modifier'), ('진', 'Noun'), ('해설위원', 'Noun'), ('과', 'Josa'), ('살펴보겠습니다', 'Verb'), ('.', 'Punctuation'), ('먼저', 'Noun'), ('북한', 'Noun'), ('이', 'Josa'), ('지금', 'Noun'), ('까지', 'Josa'), ('핵실험', 'Noun'), ('을', 'Josa'), ('어떻게', 'Adjective'), ('진행', 'Noun'), ('해', 'Verb'), ('왔는지', 'Verb'), (',', 'Punctuation'), ('왜', 'Noun'), ('7', 'Number'), ('차', 'Noun'), ('핵실험', 'Noun'), ('을', 'Josa'), ('하려는', 'Verb'), ('건지', 'Verb'), ('맥락', 'Noun'), ('을', 'Josa'), ('살펴보죠', 'Verb'), ('.', 'Punctuation'), ('그렇다면', 'Adjective'), ('6', 'Number'), ('차', 'Noun'), ('핵실험', 'Noun'), ('을', 'Josa'), ('통해', 'Noun'), ('서', 'Josa'), ('핵', 'Noun'), ('무력', 'Noun'), ('완성', 'Noun'), ('을', 'Josa'), ('선언', 'Noun'), ('한', 'Josa'), ('북한', 'Noun'), ('이', 'Josa'), ('왜', 'Noun'), ('7', 'Number'), ('차', 'Noun'), ('핵실험', 'Noun'), ('을', 'Josa'), ('하려고', 'Verb'), ('하는', 'Verb'), ('건가', 'Noun'), ('요', 'Josa'), ('?', 'Punctuation'), ('7', 'Number'), ('차', 'Noun'), ('핵실험', 'Noun'), ('을', 'Josa'), ('통해', 'Noun'), ('서', 'Josa'), ('북한', 'Noun'), ('이', 'Josa'), ('전술핵', 'Noun'), ('능력', 'Noun'), ('을', 'Josa'), ('갖추게', 'Verb'), ('되면', 'Verb'), ('어떤', 'Adjective'), ('문제', 'Noun'), ('가', 'Josa'), ('생기나요', 'Verb'), ('?', 'Punctuation'), ('북한', 'Noun'), ('7', 'Number'), ('차', 'Noun'), ('핵실험', 'Noun'), ('의', 'Josa'), ('정치', 'Noun'), ('적', 'Suffix'), ('의미', 'Noun'), ('는', 'Josa'), ('어떻게', 'Adjective'), ('볼', 'Noun'), ('수', 'Noun'), ('있을까요', 'Adjective'), ('?', 'Punctuation'), ('북한', 'Noun'), ('의', 'Josa'), ('핵실험', 'Noun'), ('을', 'Josa'), ('막', 'Noun'), ('을', 'Josa'), ('방법', 'Noun'), ('은', 'Josa'), ('현실', 'Noun'), ('적', 'Suffix'), ('으로', 'Josa'), ('없어', 'Adjective'), ('보이는데', 'Verb'), (',', 'Punctuation'), ('이미', 'Adverb'), ('4월', 'Number'), ('부터', 'Foreign'), ('계속', 'Noun'), ('한다', 'Verb'), ('한다', 'Verb'), ('했습니다만', 'Verb'), (',', 'Punctuation'), ('지금', 'Noun'), ('까지', 'Josa'), ('이뤄지진', 'Verb'), ('않았죠', 'Verb'), ('.', 'Punctuation')]\n",
            "[('북한', 'NNP'), ('이', 'JKS'), ('도발', 'NNG'), ('수위', 'NNG'), ('를', 'JKO'), ('높이', 'VV'), ('면서', 'EC'), ('조만간', 'MAG'), ('7', 'SN'), ('차', 'NNB'), ('핵실험', 'NNP'), ('을', 'JKO'), ('실시', 'NNG'), ('하', 'XSV'), ('ㄹ', 'ETM'), ('것', 'NNB'), ('이', 'VCP'), ('라는', 'ETM'), ('전망', 'NNG'), ('이', 'JKS'), ('대두', 'NNG'), ('되', 'XSV'), ('고', 'EC'), ('있', 'VX'), ('습니다', 'EF'), ('.', 'SF'), ('북한', 'NNP'), ('의', 'JKG'), ('핵실험', 'NNP'), ('이', 'JKS'), ('어떻', 'VA'), ('게', 'EC'), ('진행', 'NNG'), ('되', 'XSV'), ('어', 'EC'), ('오', 'VX'), ('았', 'EP'), ('는지', 'EC'), ('7', 'SN'), ('차', 'NNB'), ('핵실험', 'NNP'), ('은', 'JX'), ('어떤', 'MM'), ('의미', 'NNG'), ('를', 'JKO'), ('지니', 'VV'), ('는지', 'EC'), (',', 'SP'), ('조현', 'NNP'), ('진', 'NNP'), ('해설', 'NNG'), ('위원', 'NNP'), ('과', 'JC'), ('살펴보', 'VV'), ('겠', 'EP'), ('습니다', 'EF'), ('.', 'SF'), ('먼저', 'MAG'), ('북한', 'NNP'), ('이', 'JKS'), ('지금', 'NNG'), ('까지', 'JX'), ('핵실험', 'NNP'), ('을', 'JKO'), ('어떻', 'VA'), ('게', 'EC'), ('진행', 'NNG'), ('하', 'XSV'), ('아', 'EC'), ('오', 'VX'), ('았', 'EP'), ('는지', 'EC'), (',', 'SP'), ('왜', 'MAG'), ('7', 'SN'), ('차', 'NNB'), ('핵실험', 'NNP'), ('을', 'JKO'), ('하', 'VV'), ('려는', 'ETM'), ('걸', 'VV'), ('ㄴ지', 'EC'), ('맥락', 'NNG'), ('을', 'JKO'), ('살펴보', 'VV'), ('죠', 'EF'), ('.', 'SF'), ('그렇', 'VA'), ('다면', 'EC'), ('6', 'SN'), ('차', 'NNB'), ('핵실험', 'NNP'), ('을', 'JKO'), ('통하', 'VV'), ('아서', 'EC'), ('핵', 'NNG'), ('무력', 'NNG'), ('완성', 'NNG'), ('을', 'JKO'), ('선언', 'NNG'), ('하', 'XSV'), ('ㄴ', 'ETM'), ('북한', 'NNP'), ('이', 'JKS'), ('왜', 'MAG'), ('7', 'SN'), ('차', 'NNB'), ('핵실험', 'NNP'), ('을', 'JKO'), ('하', 'VV'), ('려고', 'EC'), ('하', 'VV'), ('는', 'ETM'), ('걸', 'VV'), ('ㄴ가요', 'EF'), ('?', 'SF'), ('7', 'SN'), ('차', 'NNB'), ('핵실험', 'NNP'), ('을', 'JKO'), ('통하', 'VV'), ('아서', 'EC'), ('북한', 'NNP'), ('이', 'JKS'), ('전술', 'NNP'), ('핵', 'NNG'), ('능력', 'NNG'), ('을', 'JKO'), ('갖추', 'VV'), ('게', 'EC'), ('되', 'VV'), ('면', 'EC'), ('어떤', 'MM'), ('문제', 'NNG'), ('가', 'JKS'), ('생기', 'VV'), ('나요', 'EF'), ('?', 'SF'), ('북한', 'NNP'), ('7', 'SN'), ('차', 'NNB'), ('핵실험', 'NNP'), ('의', 'JKG'), ('정치', 'NNG'), ('적', 'XSN'), ('의미', 'NNG'), ('는', 'JX'), ('어떻', 'VA'), ('게', 'EC'), ('보', 'VV'), ('ㄹ', 'ETM'), ('수', 'NNB'), ('있', 'VX'), ('을까요', 'EF'), ('?', 'SF'), ('북한', 'NNP'), ('의', 'JKG'), ('핵실험', 'NNP'), ('을', 'JKO'), ('막', 'VV'), ('을', 'ETM'), ('방법', 'NNG'), ('은', 'JX'), ('현실', 'NNG'), ('적', 'XSN'), ('으로', 'JKB'), ('없', 'VA'), ('어', 'EC'), ('보이', 'VV'), ('는데', 'EC'), (',', 'SP'), ('이미', 'MAG'), ('4월', 'NNP'), ('부터', 'JX'), ('계속', 'MAG'), ('하', 'VV'), ('ㄴ다', 'EC'), ('하', 'VV'), ('ㄴ다', 'EC'), ('하', 'VV'), ('았', 'EP'), ('습니다만', 'EC'), (',', 'SP'), ('지금', 'NNG'), ('까지', 'JX'), ('이루어지', 'VV'), ('지', 'EC'), ('ㄴ', 'JX'), ('않', 'VX'), ('았', 'EP'), ('죠', 'EF'), ('.', 'SF')]\n"
          ]
        }
      ],
      "source": [
        "#예시 문장을 입력해 봅시다!!!\n",
        "sent = '북한이 도발 수위를 높이면서 조만간 7차 핵실험을 실시할 것이라는 전망이 대두되고 있습니다. \\\n",
        "    북한의 핵실험이 어떻게 진행돼 왔는지 7차 핵실험은 어떤 의미를 지니는지, 조현진 해설위원과 \\\n",
        "    살펴보겠습니다. 먼저 북한이 지금까지 핵실험을 어떻게 진행해 왔는지, 왜 7차 핵실험을 하려는 건지 \\\n",
        "    맥락을 살펴보죠. 그렇다면 6차 핵실험을 통해서 핵 무력 완성을 선언한 북한이 왜 7차 핵실험을 하려고 \\\n",
        "    하는 건가요? 7차 핵실험을 통해서 북한이 전술핵 능력을 갖추게 되면 어떤 문제가 생기나요? 북한 7차 \\\n",
        "    핵실험의 정치적 의미는 어떻게 볼 수 있을까요? 북한의 핵실험을 막을 방법은 현실적으로 없어 보이는데,\\\n",
        "     이미 4월부터 계속 한다 한다 했습니다만, 지금까지 이뤄지진 않았죠.'\n",
        "\n",
        "# 아래 kkma, twitter, komoran은 자연어처리 모듈입니다.\n",
        "# 로딩해서 사용해 봅시다.\n",
        "kkma = Kkma()\n",
        "twitter = Okt()\n",
        "komoran = Komoran()\n",
        "\n",
        "taggers = [kkma, twitter, komoran]\n",
        "names = 'kkma twitter komoran'.split()\n",
        "for tagger in taggers:\n",
        "    poses = tagger.pos(sent)\n",
        "    print(poses)"
      ]
    },
    {
      "cell_type": "markdown",
      "metadata": {
        "id": "tOKxZDl7KNki"
      },
      "source": [
        "명령어 수행 시간을 측정하기 위해, </br>\n",
        "%%time 명령어를 이용해 봅시다."
      ]
    },
    {
      "cell_type": "code",
      "execution_count": null,
      "metadata": {
        "id": "JUTAzrWwKNkj",
        "outputId": "d048f638-a262-4ce8-d055-94d66da8f9d2"
      },
      "outputs": [
        {
          "name": "stdout",
          "output_type": "stream",
          "text": [
            "CPU times: total: 93.8 ms\n",
            "Wall time: 14.9 ms\n"
          ]
        },
        {
          "data": {
            "text/plain": [
              "[('북한', 'NNP'),\n",
              " ('이', 'JKS'),\n",
              " ('도발', 'NNG'),\n",
              " ('수위', 'NNG'),\n",
              " ('를', 'JKO'),\n",
              " ('높이', 'VV'),\n",
              " ('면서', 'EC'),\n",
              " ('조만간', 'MAG'),\n",
              " ('7', 'SN'),\n",
              " ('차', 'NNB'),\n",
              " ('핵실험', 'NNP'),\n",
              " ('을', 'JKO'),\n",
              " ('실시', 'NNG'),\n",
              " ('하', 'XSV'),\n",
              " ('ㄹ', 'ETM'),\n",
              " ('것', 'NNB'),\n",
              " ('이', 'VCP'),\n",
              " ('라는', 'ETM'),\n",
              " ('전망', 'NNG'),\n",
              " ('이', 'JKS'),\n",
              " ('대두', 'NNG'),\n",
              " ('되', 'XSV'),\n",
              " ('고', 'EC'),\n",
              " ('있', 'VX'),\n",
              " ('습니다', 'EF'),\n",
              " ('.', 'SF'),\n",
              " ('북한', 'NNP'),\n",
              " ('의', 'JKG'),\n",
              " ('핵실험', 'NNP'),\n",
              " ('이', 'JKS'),\n",
              " ('어떻', 'VA'),\n",
              " ('게', 'EC'),\n",
              " ('진행', 'NNG'),\n",
              " ('되', 'XSV'),\n",
              " ('어', 'EC'),\n",
              " ('오', 'VX'),\n",
              " ('았', 'EP'),\n",
              " ('는지', 'EC'),\n",
              " ('7', 'SN'),\n",
              " ('차', 'NNB'),\n",
              " ('핵실험', 'NNP'),\n",
              " ('은', 'JX'),\n",
              " ('어떤', 'MM'),\n",
              " ('의미', 'NNG'),\n",
              " ('를', 'JKO'),\n",
              " ('지니', 'VV'),\n",
              " ('는지', 'EC'),\n",
              " (',', 'SP'),\n",
              " ('조현', 'NNP'),\n",
              " ('진', 'NNP'),\n",
              " ('해설', 'NNG'),\n",
              " ('위원', 'NNP'),\n",
              " ('과', 'JC'),\n",
              " ('살펴보', 'VV'),\n",
              " ('겠', 'EP'),\n",
              " ('습니다', 'EF'),\n",
              " ('.', 'SF'),\n",
              " ('먼저', 'MAG'),\n",
              " ('북한', 'NNP'),\n",
              " ('이', 'JKS'),\n",
              " ('지금', 'NNG'),\n",
              " ('까지', 'JX'),\n",
              " ('핵실험', 'NNP'),\n",
              " ('을', 'JKO'),\n",
              " ('어떻', 'VA'),\n",
              " ('게', 'EC'),\n",
              " ('진행', 'NNG'),\n",
              " ('하', 'XSV'),\n",
              " ('아', 'EC'),\n",
              " ('오', 'VX'),\n",
              " ('았', 'EP'),\n",
              " ('는지', 'EC'),\n",
              " (',', 'SP'),\n",
              " ('왜', 'MAG'),\n",
              " ('7', 'SN'),\n",
              " ('차', 'NNB'),\n",
              " ('핵실험', 'NNP'),\n",
              " ('을', 'JKO'),\n",
              " ('하', 'VV'),\n",
              " ('려는', 'ETM'),\n",
              " ('걸', 'VV'),\n",
              " ('ㄴ지', 'EC'),\n",
              " ('맥락', 'NNG'),\n",
              " ('을', 'JKO'),\n",
              " ('살펴보', 'VV'),\n",
              " ('죠', 'EF'),\n",
              " ('.', 'SF'),\n",
              " ('그렇', 'VA'),\n",
              " ('다면', 'EC'),\n",
              " ('6', 'SN'),\n",
              " ('차', 'NNB'),\n",
              " ('핵실험', 'NNP'),\n",
              " ('을', 'JKO'),\n",
              " ('통하', 'VV'),\n",
              " ('아서', 'EC'),\n",
              " ('핵', 'NNG'),\n",
              " ('무력', 'NNG'),\n",
              " ('완성', 'NNG'),\n",
              " ('을', 'JKO'),\n",
              " ('선언', 'NNG'),\n",
              " ('하', 'XSV'),\n",
              " ('ㄴ', 'ETM'),\n",
              " ('북한', 'NNP'),\n",
              " ('이', 'JKS'),\n",
              " ('왜', 'MAG'),\n",
              " ('7', 'SN'),\n",
              " ('차', 'NNB'),\n",
              " ('핵실험', 'NNP'),\n",
              " ('을', 'JKO'),\n",
              " ('하', 'VV'),\n",
              " ('려고', 'EC'),\n",
              " ('하', 'VV'),\n",
              " ('는', 'ETM'),\n",
              " ('걸', 'VV'),\n",
              " ('ㄴ가요', 'EF'),\n",
              " ('?', 'SF'),\n",
              " ('7', 'SN'),\n",
              " ('차', 'NNB'),\n",
              " ('핵실험', 'NNP'),\n",
              " ('을', 'JKO'),\n",
              " ('통하', 'VV'),\n",
              " ('아서', 'EC'),\n",
              " ('북한', 'NNP'),\n",
              " ('이', 'JKS'),\n",
              " ('전술', 'NNP'),\n",
              " ('핵', 'NNG'),\n",
              " ('능력', 'NNG'),\n",
              " ('을', 'JKO'),\n",
              " ('갖추', 'VV'),\n",
              " ('게', 'EC'),\n",
              " ('되', 'VV'),\n",
              " ('면', 'EC'),\n",
              " ('어떤', 'MM'),\n",
              " ('문제', 'NNG'),\n",
              " ('가', 'JKS'),\n",
              " ('생기', 'VV'),\n",
              " ('나요', 'EF'),\n",
              " ('?', 'SF'),\n",
              " ('북한', 'NNP'),\n",
              " ('7', 'SN'),\n",
              " ('차', 'NNB'),\n",
              " ('핵실험', 'NNP'),\n",
              " ('의', 'JKG'),\n",
              " ('정치', 'NNG'),\n",
              " ('적', 'XSN'),\n",
              " ('의미', 'NNG'),\n",
              " ('는', 'JX'),\n",
              " ('어떻', 'VA'),\n",
              " ('게', 'EC'),\n",
              " ('보', 'VV'),\n",
              " ('ㄹ', 'ETM'),\n",
              " ('수', 'NNB'),\n",
              " ('있', 'VX'),\n",
              " ('을까요', 'EF'),\n",
              " ('?', 'SF'),\n",
              " ('북한', 'NNP'),\n",
              " ('의', 'JKG'),\n",
              " ('핵실험', 'NNP'),\n",
              " ('을', 'JKO'),\n",
              " ('막', 'VV'),\n",
              " ('을', 'ETM'),\n",
              " ('방법', 'NNG'),\n",
              " ('은', 'JX'),\n",
              " ('현실', 'NNG'),\n",
              " ('적', 'XSN'),\n",
              " ('으로', 'JKB'),\n",
              " ('없', 'VA'),\n",
              " ('어', 'EC'),\n",
              " ('보이', 'VV'),\n",
              " ('는데', 'EC'),\n",
              " (',', 'SP'),\n",
              " ('이미', 'MAG'),\n",
              " ('4월', 'NNP'),\n",
              " ('부터', 'JX'),\n",
              " ('계속', 'MAG'),\n",
              " ('하', 'VV'),\n",
              " ('ㄴ다', 'EC'),\n",
              " ('하', 'VV'),\n",
              " ('ㄴ다', 'EC'),\n",
              " ('하', 'VV'),\n",
              " ('았', 'EP'),\n",
              " ('습니다만', 'EC'),\n",
              " (',', 'SP'),\n",
              " ('지금', 'NNG'),\n",
              " ('까지', 'JX'),\n",
              " ('이루어지', 'VV'),\n",
              " ('지', 'EC'),\n",
              " ('ㄴ', 'JX'),\n",
              " ('않', 'VX'),\n",
              " ('았', 'EP'),\n",
              " ('죠', 'EF'),\n",
              " ('.', 'SF')]"
            ]
          },
          "execution_count": 13,
          "metadata": {},
          "output_type": "execute_result"
        }
      ],
      "source": [
        "%%time\n",
        "komoran.pos(sent)"
      ]
    },
    {
      "cell_type": "markdown",
      "metadata": {
        "id": "UfgzJuZhKNkj"
      },
      "source": [
        "위 결과에서 'NNP'는 고유명사를 'NNG\"는 대표명사를 의미합니다.</br>\n",
        "품사표를 출력해 봅시다."
      ]
    },
    {
      "cell_type": "markdown",
      "metadata": {
        "id": "rJdQlxHwKNkk"
      },
      "source": [
        "세 개의 다른 분석모델(komoran, twitter, kkma)의 품사표를 출력해 봅시다!!"
      ]
    },
    {
      "cell_type": "code",
      "execution_count": null,
      "metadata": {
        "id": "OT4ZxnMNKNkk",
        "outputId": "11e97b62-17d2-45c2-aa44-19546267ac01"
      },
      "outputs": [
        {
          "data": {
            "text/plain": [
              "{'EC': '연결 어미',\n",
              " 'EF': '종결 어미',\n",
              " 'EP': '선어말어미',\n",
              " 'ETM': '관형형 전성 어미',\n",
              " 'ETN': '명사형 전성 어미',\n",
              " 'IC': '감탄사',\n",
              " 'JC': '접속 조사',\n",
              " 'JKB': '부사격 조사',\n",
              " 'JKC': '보격 조사',\n",
              " 'JKG': '관형격 조사',\n",
              " 'JKO': '목적격 조사',\n",
              " 'JKQ': '인용격 조사',\n",
              " 'JKS': '주격 조사',\n",
              " 'JKV': '호격 조사',\n",
              " 'JX': '보조사',\n",
              " 'MAG': '일반 부사',\n",
              " 'MAJ': '접속 부사',\n",
              " 'MM': '관형사',\n",
              " 'NA': '분석불능범주',\n",
              " 'NF': '명사추정범주',\n",
              " 'NNB': '의존 명사',\n",
              " 'NNG': '일반 명사',\n",
              " 'NNP': '고유 명사',\n",
              " 'NP': '대명사',\n",
              " 'NR': '수사',\n",
              " 'NV': '용언추정범주',\n",
              " 'SE': '줄임표',\n",
              " 'SF': '마침표, 물음표, 느낌표',\n",
              " 'SH': '한자',\n",
              " 'SL': '외국어',\n",
              " 'SN': '숫자',\n",
              " 'SO': '붙임표(물결,숨김,빠짐)',\n",
              " 'SP': '쉼표,가운뎃점,콜론,빗금',\n",
              " 'SS': '따옴표,괄호표,줄표',\n",
              " 'SW': '기타기호 (논리수학기호,화폐기호)',\n",
              " 'VA': '형용사',\n",
              " 'VCN': '부정 지정사',\n",
              " 'VCP': '긍정 지정사',\n",
              " 'VV': '동사',\n",
              " 'VX': '보조 용언',\n",
              " 'XPN': '체언 접두사',\n",
              " 'XR': '어근',\n",
              " 'XSA': '형용사 파생 접미사',\n",
              " 'XSN': '명사파생 접미사',\n",
              " 'XSV': '동사 파생 접미사'}"
            ]
          },
          "execution_count": 14,
          "metadata": {},
          "output_type": "execute_result"
        }
      ],
      "source": [
        "# komoran 분석모델의 품사표\n",
        "komoran.tagset"
      ]
    },
    {
      "cell_type": "code",
      "execution_count": null,
      "metadata": {
        "id": "qAja06OPKNkk",
        "outputId": "28ce484f-5f09-4db6-ad95-1d093434a3fd"
      },
      "outputs": [
        {
          "data": {
            "text/plain": [
              "{'Adjective': '형용사',\n",
              " 'Adverb': '부사',\n",
              " 'Alpha': '알파벳',\n",
              " 'Conjunction': '접속사',\n",
              " 'Determiner': '관형사',\n",
              " 'Eomi': '어미',\n",
              " 'Exclamation': '감탄사',\n",
              " 'Foreign': '외국어, 한자 및 기타기호',\n",
              " 'Hashtag': '트위터 해쉬태그',\n",
              " 'Josa': '조사',\n",
              " 'KoreanParticle': '(ex: ㅋㅋ)',\n",
              " 'Noun': '명사',\n",
              " 'Number': '숫자',\n",
              " 'PreEomi': '선어말어미',\n",
              " 'Punctuation': '구두점',\n",
              " 'ScreenName': '트위터 아이디',\n",
              " 'Suffix': '접미사',\n",
              " 'Unknown': '미등록어',\n",
              " 'Verb': '동사'}"
            ]
          },
          "execution_count": 15,
          "metadata": {},
          "output_type": "execute_result"
        }
      ],
      "source": [
        "#twitter 분석모델의 품사표\n",
        "twitter.tagset"
      ]
    },
    {
      "cell_type": "code",
      "execution_count": null,
      "metadata": {
        "id": "cCGqG68JKNkk",
        "outputId": "dd858e4f-e920-4074-93ff-4529912d95a6"
      },
      "outputs": [
        {
          "data": {
            "text/plain": [
              "{'EC': '연결 어미',\n",
              " 'ECD': '의존적 연결 어미',\n",
              " 'ECE': '대등 연결 어미',\n",
              " 'ECS': '보조적 연결 어미',\n",
              " 'EF': '종결 어미',\n",
              " 'EFA': '청유형 종결 어미',\n",
              " 'EFI': '감탄형 종결 어미',\n",
              " 'EFN': '평서형 종결 어미',\n",
              " 'EFO': '명령형 종결 어미',\n",
              " 'EFQ': '의문형 종결 어미',\n",
              " 'EFR': '존칭형 종결 어미',\n",
              " 'EP': '선어말 어미',\n",
              " 'EPH': '존칭 선어말 어미',\n",
              " 'EPP': '공손 선어말 어미',\n",
              " 'EPT': '시제 선어말 어미',\n",
              " 'ET': '전성 어미',\n",
              " 'ETD': '관형형 전성 어미',\n",
              " 'ETN': '명사형 전성 어미',\n",
              " 'IC': '감탄사',\n",
              " 'JC': '접속 조사',\n",
              " 'JK': '조사',\n",
              " 'JKC': '보격 조사',\n",
              " 'JKG': '관형격 조사',\n",
              " 'JKI': '호격 조사',\n",
              " 'JKM': '부사격 조사',\n",
              " 'JKO': '목적격 조사',\n",
              " 'JKQ': '인용격 조사',\n",
              " 'JKS': '주격 조사',\n",
              " 'JX': '보조사',\n",
              " 'MA': '부사',\n",
              " 'MAC': '접속 부사',\n",
              " 'MAG': '일반 부사',\n",
              " 'MD': '관형사',\n",
              " 'MDN': '수 관형사',\n",
              " 'MDT': '일반 관형사',\n",
              " 'NN': '명사',\n",
              " 'NNB': '일반 의존 명사',\n",
              " 'NNG': '보통명사',\n",
              " 'NNM': '단위 의존 명사',\n",
              " 'NNP': '고유명사',\n",
              " 'NP': '대명사',\n",
              " 'NR': '수사',\n",
              " 'OH': '한자',\n",
              " 'OL': '외국어',\n",
              " 'ON': '숫자',\n",
              " 'SE': '줄임표',\n",
              " 'SF': '마침표, 물음표, 느낌표',\n",
              " 'SO': '붙임표(물결,숨김,빠짐)',\n",
              " 'SP': '쉼표,가운뎃점,콜론,빗금',\n",
              " 'SS': '따옴표,괄호표,줄표',\n",
              " 'SW': '기타기호 (논리수학기호,화폐기호)',\n",
              " 'UN': '명사추정범주',\n",
              " 'VA': '형용사',\n",
              " 'VC': '지정사',\n",
              " 'VCN': \"부정 지정사, 형용사 '아니다'\",\n",
              " 'VCP': \"긍정 지정사, 서술격 조사 '이다'\",\n",
              " 'VV': '동사',\n",
              " 'VX': '보조 용언',\n",
              " 'VXA': '보조 형용사',\n",
              " 'VXV': '보조 동사',\n",
              " 'XP': '접두사',\n",
              " 'XPN': '체언 접두사',\n",
              " 'XPV': '용언 접두사',\n",
              " 'XR': '어근',\n",
              " 'XSA': '형용사 파생 접미사',\n",
              " 'XSN': '명사파생 접미사',\n",
              " 'XSV': '동사 파생 접미사'}"
            ]
          },
          "execution_count": 16,
          "metadata": {},
          "output_type": "execute_result"
        }
      ],
      "source": [
        "# kkma 모델의 품사표\n",
        "kkma.tagset"
      ]
    },
    {
      "cell_type": "markdown",
      "metadata": {
        "id": "5Fg0Y32eKNkl"
      },
      "source": [
        "2022.11월 뉴스 기사를 사용하여 </br>\n",
        "각각의 형태소 분석기를 사용하여 </br>\n",
        "분석 결과를 출력해 보겠습니다!!</br>"
      ]
    },
    {
      "cell_type": "markdown",
      "metadata": {
        "id": "jI-Zcz81KNkl"
      },
      "source": [
        "### 뉴스 기사 형태소 분석기 사용"
      ]
    },
    {
      "cell_type": "code",
      "execution_count": null,
      "metadata": {
        "id": "i-_txrt9KNkl"
      },
      "outputs": [],
      "source": [
        "sents = ['전화, 문자부터 음악 감상, 결제까지 모두 스마트폰 하나로 가능한 세상이다. \\\n",
        "스마트폰 없는 일상생활은 상상하기 어려워졌다. 실제로 미국 데이터 분석업체 앱애니가 발표한 \\'모바일 \\\n",
        "현황 2022\\' 통계에 따르면, 한국인의 하루 평균 모바일기기 사용 시간은 5시간으로, 전 세계 3위다. \\\n",
        "잦은 스마트폰 사용은 손가락 질환을 유발할 수 있는데, 대표적인 것이 방아쇠수지증후군이다.',\n",
        "'스마트폰을 사용할 때 폰을 한 손으로 쥔 채 그 손의 엄지만으로 화면을 터치하는 경우가 많다. \\\n",
        "그런데 이 동작은 손가락 힘줄을 자극해 방아쇠수지증후군을 유발할 수 있다.\\\n",
        " 방아쇠수지증후군이란 손가락의 과도한 사용으로 손가락 힘줄에 염증이 생기는 질환을 말한다. \\\n",
        "스마트폰을 사용할 때 엄지를 구부리는 동작을 반복하면 손가락의 힘줄이 붓거나 힘줄이 통과하는 \\\n",
        "관이 좁아진다. 이때 힘줄에 염증이 생겨 통증이 발생하고, 손가락을 움직일 때마다 힘줄이 받는 마찰 \\\n",
        "때문에 \\'딸깍\\'거리는 소리가 난다. 방아쇠수지증후군은 스마트폰을 사용할 때 뿐 아니라 운전대를 \\\n",
        "오랜 시간 잡거나 드릴처럼 반복적으로 진동하는 기계를 자주 다루는 경우에도 발생하기 쉽다.',\n",
        "'만약 ▲손가락이 잘 굽혀지거나 펴지지 않거나 ▲손가락을 움직일 때마다 \\'딸깍\\'하는 마찰음이 동반되거나\\\n",
        " ▲손가락 관절 부위에 통증이나 부기가 생기면 방아쇠수지증후군을 의심해봐야 한다.',\n",
        "'방아쇠수지증후군은 증상이 심하다가 다시 잦아들기도 한다. 이 때문에 치료 시기를 놓치는 경우가 많은데, \\\n",
        "힘줄이 더 심하게 손상될 수 있어 증상 초기에 병원을 찾아야 한다. 보통의 경우 소염진통제 등을 이용한 \\\n",
        "약물치료, 국소 마취제와 스테로이드를 이용한 주사치료, 물리치료 등을 시행한다. \\\n",
        "하지만 통증이 지속되거나 손가락을 굽히거나 펴지지 않을 정도로 증상이 심하면 수술이 필요할 수 있다.',\\\n",
        "'방아쇠수지증후군을 예방하려면 평소 손가락 스트레칭을 꾸준히 하는 게 좋다. \\\n",
        "손가락 스트레칭은 평평한 탁자에 손바닥이 아래쪽을 향하게 올려두고, 엄지부터 새끼손가락까지 \\\n",
        "하나씩 천천히 들어 올리는 것이다. 하루에 3~4회 반복한다. 자기 전 따뜻한 물에 5~10분 정도 손을 \\\n",
        "담그는 수욕을 하는 것도 도움이 된다.']"
      ]
    },
    {
      "cell_type": "code",
      "execution_count": null,
      "metadata": {
        "id": "f-QtR_InKNkm",
        "outputId": "db39e503-dc99-4bbb-c671-7ed3e201d59f"
      },
      "outputs": [
        {
          "name": "stdout",
          "output_type": "stream",
          "text": [
            "kkma    : 0.465 secs\n",
            "twitter : 0.078 secs\n",
            "komoran : 0.022 secs\n"
          ]
        }
      ],
      "source": [
        "import time\n",
        "\n",
        "tokens = []\n",
        "\n",
        "for name, tagger in zip(names, taggers):\n",
        "\n",
        "    t = time.time()\n",
        "    tokens.append(\n",
        "        [pos for sent in sents for pos in tagger.pos(sent)]\n",
        "    )\n",
        "    t = time.time() - t\n",
        "\n",
        "    print('{:8}: {:.3f} secs'.format(name, t))"
      ]
    },
    {
      "cell_type": "markdown",
      "metadata": {
        "id": "PtRCeDUSKNkm"
      },
      "source": [
        "형태소 분석 결과"
      ]
    },
    {
      "cell_type": "code",
      "execution_count": null,
      "metadata": {
        "id": "ARI6K4oNKNkm",
        "outputId": "475ea89c-9db6-4f62-a367-5bfae91c51e1"
      },
      "outputs": [
        {
          "name": "stdout",
          "output_type": "stream",
          "text": [
            "[('전화', 'NNG'),\n",
            " (',', 'SP'),\n",
            " ('문자', 'NNG'),\n",
            " ('부터', 'JX'),\n",
            " ('음악', 'NNG'),\n",
            " ('감상', 'NNG'),\n",
            " (',', 'SP'),\n",
            " ('결제', 'NNG'),\n",
            " ('까지', 'JX'),\n",
            " ('모두', 'MAG'),\n",
            " ('스마트', 'NNP'),\n",
            " ('폰', 'NNG'),\n",
            " ('하나', 'NR'),\n",
            " ('로', 'JKM'),\n",
            " ('가능', 'NNG')]\n"
          ]
        }
      ],
      "source": [
        "pprint(tokens[0][:15])"
      ]
    },
    {
      "cell_type": "markdown",
      "metadata": {
        "id": "pki30NtHKNkm"
      },
      "source": [
        "단어 빈도수 계산"
      ]
    },
    {
      "cell_type": "code",
      "execution_count": null,
      "metadata": {
        "id": "Wij7O7ePKNkn",
        "outputId": "38496a35-f347-459f-bef4-352ebcfdc73f"
      },
      "outputs": [
        {
          "name": "stdout",
          "output_type": "stream",
          "text": [
            "[(('손가락', 'NNG'), 12),\n",
            " (('폰', 'NNG'), 7),\n",
            " (('방아쇠', 'NNG'), 7),\n",
            " (('수지', 'NNG'), 7),\n",
            " (('증후군', 'NNG'), 7),\n",
            " (('힘줄', 'NNG'), 7),\n",
            " (('스마트', 'NNP'), 6),\n",
            " (('사용', 'NNG'), 6),\n",
            " (('때', 'NNG'), 5),\n",
            " (('수', 'NNB'), 4),\n",
            " (('것', 'NNB'), 4),\n",
            " (('손', 'NNG'), 4),\n",
            " (('경우', 'NNG'), 4),\n",
            " (('치료', 'NNG'), 4)]\n"
          ]
        }
      ],
      "source": [
        "from pprint import pprint\n",
        "from collections import Counter\n",
        "\n",
        "counter = Counter(tokens[0])\n",
        "counter = {\n",
        "    word:freq for word, freq in counter.items()\n",
        "    if (freq >= 4) and (word[1][:2] == 'NN')\n",
        "}\n",
        "\n",
        "pprint(sorted(counter.items(), key=lambda x:-x[1]))"
      ]
    },
    {
      "cell_type": "markdown",
      "metadata": {
        "id": "AIPrUOE3KNkn"
      },
      "source": [
        "형태소 분석, 단어 빈도수 계산"
      ]
    },
    {
      "cell_type": "code",
      "execution_count": null,
      "metadata": {
        "id": "ZVym46R1KNkn",
        "outputId": "821f5d47-0779-4357-9ea2-82d6ea9ab24c"
      },
      "outputs": [
        {
          "name": "stdout",
          "output_type": "stream",
          "text": [
            "\n",
            "\n",
            "Tagger name = kkma\n",
            "[(('손가락', 'NNG'), 12),\n",
            " (('폰', 'NNG'), 7),\n",
            " (('방아쇠', 'NNG'), 7),\n",
            " (('수지', 'NNG'), 7),\n",
            " (('증후군', 'NNG'), 7),\n",
            " (('힘줄', 'NNG'), 7),\n",
            " (('스마트', 'NNP'), 6),\n",
            " (('사용', 'NNG'), 6),\n",
            " (('때', 'NNG'), 5),\n",
            " (('수', 'NNB'), 4),\n",
            " (('것', 'NNB'), 4),\n",
            " (('손', 'NNG'), 4),\n",
            " (('경우', 'NNG'), 4),\n",
            " (('치료', 'NNG'), 4)]\n",
            "\n",
            "\n",
            "Tagger name = twitter\n",
            "[(('손가락', 'Noun'), 12),\n",
            " (('방아쇠', 'Noun'), 7),\n",
            " (('증후군', 'Noun'), 7),\n",
            " (('힘줄', 'Noun'), 7),\n",
            " (('스마트폰', 'Noun'), 6),\n",
            " (('사용', 'Noun'), 6),\n",
            " (('때', 'Noun'), 6),\n",
            " (('수', 'Noun'), 4),\n",
            " (('경우', 'Noun'), 4)]\n",
            "\n",
            "\n",
            "Tagger name = komoran\n",
            "[(('손가락', 'NNP'), 10),\n",
            " (('방아쇠', 'NNP'), 7),\n",
            " (('수지', 'NNP'), 7),\n",
            " (('증후군', 'NNP'), 7),\n",
            " (('힘줄', 'NNP'), 7),\n",
            " (('스마트폰', 'NNP'), 6),\n",
            " (('사용', 'NNG'), 6),\n",
            " (('수', 'NNB'), 5),\n",
            " (('때', 'NNG'), 5),\n",
            " (('경우', 'NNG'), 4)]\n"
          ]
        }
      ],
      "source": [
        "for name, tokens_ in zip(names, tokens):\n",
        "\n",
        "    print('\\n\\nTagger name = {}'.format(name))\n",
        "\n",
        "    counter = Counter(tokens_)\n",
        "    counter = {word:freq for word, freq in counter.items()\n",
        "               if (freq >= 4) and (word[1][:1] == 'N')}\n",
        "\n",
        "    pprint(sorted(counter.items(), key=lambda x:x[1], reverse=True))"
      ]
    },
    {
      "cell_type": "markdown",
      "metadata": {
        "id": "WAcdQSsiKNkn"
      },
      "source": [
        "이 기사에서 '증후군'이라는 단어는 몇 번이나\\\n",
        "나오는지 검색해 보겠습니다!!"
      ]
    },
    {
      "cell_type": "code",
      "execution_count": null,
      "metadata": {
        "id": "bV7GehxSKNkn",
        "outputId": "306bce9d-edec-4844-f701-6bd3dbf50241"
      },
      "outputs": [
        {
          "data": {
            "text/plain": [
              "7"
            ]
          },
          "execution_count": 24,
          "metadata": {},
          "output_type": "execute_result"
        }
      ],
      "source": [
        "' '.join(sents).count('증후군')"
      ]
    },
    {
      "cell_type": "markdown",
      "metadata": {
        "id": "JZH3GZk1KNko"
      },
      "source": [
        "새로운 뉴스 기사를 가져와 형태소 분석 모델을 돌려 보겠습니다!!"
      ]
    },
    {
      "cell_type": "code",
      "execution_count": null,
      "metadata": {
        "id": "eUxb0qFiKNko",
        "outputId": "3255affc-6117-4914-ac0c-ece071e5c243"
      },
      "outputs": [
        {
          "data": {
            "text/plain": [
              "[('북한', 'NNP'),\n",
              " ('이', 'JKS'),\n",
              " ('처음', 'NNG'),\n",
              " ('핵실험', 'NNP'),\n",
              " ('을', 'JKO'),\n",
              " ('실시', 'NNG'),\n",
              " ('하', 'XSV'),\n",
              " ('ㄴ', 'ETM'),\n",
              " ('것', 'NNB'),\n",
              " ('은', 'JX'),\n",
              " ('2006년 10월', 'NNP'),\n",
              " ('이', 'VCP'),\n",
              " ('ㅂ니다', 'EF'),\n",
              " ('.', 'SF'),\n",
              " ('이후', 'NNG'),\n",
              " ('11', 'SN'),\n",
              " ('년', 'NNB'),\n",
              " ('동안', 'NNG'),\n",
              " ('6', 'SN'),\n",
              " ('차례', 'NNP'),\n",
              " ('의', 'JKG'),\n",
              " ('핵실험', 'NNP'),\n",
              " ('을', 'JKO'),\n",
              " ('시행', 'NNG'),\n",
              " ('하', 'XSV'),\n",
              " ('았', 'EP'),\n",
              " ('습니다', 'EF'),\n",
              " ('.', 'SF'),\n",
              " ('가장', 'MAG'),\n",
              " ('최근', 'NNG'),\n",
              " ('실시', 'NNG'),\n",
              " ('하', 'XSV'),\n",
              " ('ㄴ', 'ETM'),\n",
              " ('6', 'SN'),\n",
              " ('차', 'NNB'),\n",
              " ('핵실험', 'NNP'),\n",
              " ('은', 'JX'),\n",
              " ('2017년 9월', 'NNP'),\n",
              " ('이', 'VCP'),\n",
              " ('었', 'EP'),\n",
              " ('습니다', 'EF'),\n",
              " ('.', 'SF'),\n",
              " ('여섯', 'NR'),\n",
              " ('차례', 'NNG'),\n",
              " ('의', 'JKG'),\n",
              " ('핵실험', 'NNP'),\n",
              " ('가운데', 'NNG'),\n",
              " ('1', 'SN'),\n",
              " (',', 'SP'),\n",
              " ('2', 'SN'),\n",
              " (',', 'SP'),\n",
              " ('3', 'SN'),\n",
              " (',', 'SP'),\n",
              " ('5', 'SN'),\n",
              " ('차', 'NNB'),\n",
              " ('핵실험', 'NNP'),\n",
              " ('은', 'JX'),\n",
              " ('핵분열', 'NNP'),\n",
              " ('을', 'JKO'),\n",
              " ('이용한', 'NNP'),\n",
              " ('원자탄', 'NNG'),\n",
              " ('이', 'VCP'),\n",
              " ('었', 'EP'),\n",
              " ('고', 'EC'),\n",
              " ('4', 'SN'),\n",
              " (',', 'SP'),\n",
              " ('6', 'SN'),\n",
              " ('차', 'NNB'),\n",
              " ('는', 'JX'),\n",
              " ('핵융합', 'NNP'),\n",
              " ('반응', 'NNG'),\n",
              " ('을', 'JKO'),\n",
              " ('이용한', 'NNP'),\n",
              " ('수소', 'NNP'),\n",
              " ('타', 'VV'),\n",
              " ('ㄴ', 'ETM'),\n",
              " ('계열', 'NNG'),\n",
              " ('실험', 'NNG'),\n",
              " ('이', 'VCP'),\n",
              " ('ㄴ', 'ETM'),\n",
              " ('것', 'NNB'),\n",
              " ('으로', 'JKB'),\n",
              " ('파악', 'NNG'),\n",
              " ('되', 'XSV'),\n",
              " ('ㅂ니다', 'EF'),\n",
              " ('.', 'SF'),\n",
              " ('6', 'SN'),\n",
              " ('차', 'NNB'),\n",
              " ('핵실험', 'NNP'),\n",
              " ('으로', 'JKB'),\n",
              " ('북한', 'NNP'),\n",
              " ('은', 'JX'),\n",
              " ('대륙', 'NNP'),\n",
              " ('간', 'NNB'),\n",
              " ('탄도', 'NNP'),\n",
              " ('미사일', 'NNG'),\n",
              " ('에', 'JKB'),\n",
              " ('장착', 'NNG'),\n",
              " ('하', 'XSV'),\n",
              " ('ㄹ', 'ETM'),\n",
              " ('수', 'NNB'),\n",
              " ('있', 'VV'),\n",
              " ('는', 'ETM'),\n",
              " ('전략 핵무기', 'NNP'),\n",
              " ('능력', 'NNG'),\n",
              " ('을', 'JKO'),\n",
              " ('갖추', 'VV'),\n",
              " ('었', 'EP'),\n",
              " ('다는', 'ETM'),\n",
              " ('평가', 'NNG'),\n",
              " ('를', 'JKO'),\n",
              " ('받', 'VV'),\n",
              " ('고', 'EC'),\n",
              " ('있', 'VX'),\n",
              " ('습니다', 'EF'),\n",
              " ('.', 'SF'),\n",
              " ('이어서', 'MAG'),\n",
              " ('같', 'VA'),\n",
              " ('은', 'ETM'),\n",
              " ('하', 'VV'),\n",
              " ('아', 'EC'),\n",
              " ('11월', 'NNP'),\n",
              " ('대륙', 'NNP'),\n",
              " ('간', 'NNB'),\n",
              " ('탄도', 'NNP'),\n",
              " ('미사일', 'NNG'),\n",
              " ('이', 'VCP'),\n",
              " ('ㄴ', 'ETM'),\n",
              " ('화성', 'NNP'),\n",
              " ('15', 'SN'),\n",
              " ('형', 'NNG'),\n",
              " ('을', 'JKO'),\n",
              " ('발사', 'NNG'),\n",
              " ('하', 'XSV'),\n",
              " ('면서', 'EC'),\n",
              " ('북한', 'NNP'),\n",
              " ('은', 'JX'),\n",
              " ('핵', 'NNG'),\n",
              " ('무력', 'NNG'),\n",
              " ('완성', 'NNG'),\n",
              " ('을', 'JKO'),\n",
              " ('선언', 'NNG'),\n",
              " ('하', 'XSV'),\n",
              " ('ㅂ니다', 'EF'),\n",
              " ('.', 'SF'),\n",
              " ('그러다가', 'MAJ'),\n",
              " ('2018년 4월', 'NNP'),\n",
              " (',', 'SP'),\n",
              " ('남북', 'NNP'),\n",
              " ('·', 'SP'),\n",
              " ('북미', 'NNP'),\n",
              " ('정상회담', 'NNP'),\n",
              " ('을', 'JKO'),\n",
              " ('앞두', 'VV'),\n",
              " ('고', 'EC'),\n",
              " ('북한', 'NNP'),\n",
              " ('이', 'JKS'),\n",
              " ('자발', 'NNG'),\n",
              " ('적', 'XSN'),\n",
              " ('으로', 'JKB'),\n",
              " ('핵실험', 'NNP'),\n",
              " ('장', 'NNP'),\n",
              " ('을', 'JKO'),\n",
              " ('폐기', 'NNG'),\n",
              " ('하', 'XSV'),\n",
              " ('면서', 'EC'),\n",
              " ('핵실험', 'NNP'),\n",
              " ('과', 'JC'),\n",
              " ('ICBM', 'SL'),\n",
              " ('시험', 'NNG'),\n",
              " ('발사', 'NNG'),\n",
              " ('를', 'JKO'),\n",
              " ('중단', 'NNG'),\n",
              " ('하', 'XSV'),\n",
              " ('겠', 'EP'),\n",
              " ('다고', 'EC'),\n",
              " ('선언', 'NNG'),\n",
              " ('하', 'XSV'),\n",
              " ('았', 'EP'),\n",
              " ('습니다', 'EF'),\n",
              " ('.', 'SF'),\n",
              " ('그러나', 'MAJ'),\n",
              " ('미국', 'NNP'),\n",
              " ('과', 'JKB'),\n",
              " ('의', 'JKG'),\n",
              " ('비핵화', 'NNP'),\n",
              " ('협상', 'NNG'),\n",
              " ('은', 'JX'),\n",
              " ('결국', 'MAG'),\n",
              " ('결렬', 'NNG'),\n",
              " ('되', 'XSV'),\n",
              " ('고', 'EC'),\n",
              " ('말', 'VX'),\n",
              " ('았', 'EP'),\n",
              " ('죠', 'EF'),\n",
              " ('.', 'SF'),\n",
              " ('북한', 'NNP'),\n",
              " ('이', 'JKS'),\n",
              " ('선언', 'NNG'),\n",
              " ('하', 'XSV'),\n",
              " ('았', 'EP'),\n",
              " ('던', 'ETM'),\n",
              " ('모라토리엄', 'NNP'),\n",
              " ('(', 'SS'),\n",
              " ('핵실험', 'NNP'),\n",
              " (',', 'SP'),\n",
              " ('대륙', 'NNP'),\n",
              " ('간', 'NNB'),\n",
              " ('탄도', 'NNP'),\n",
              " ('미사일', 'NNG'),\n",
              " ('발사', 'NNP'),\n",
              " ('중단', 'NNG'),\n",
              " (')', 'SS'),\n",
              " ('은', 'JX'),\n",
              " ('올해', 'NNG'),\n",
              " ('대륙', 'NNP'),\n",
              " ('간', 'NNB'),\n",
              " ('탄도', 'NNP'),\n",
              " ('미사일', 'NNG'),\n",
              " ('이', 'VCP'),\n",
              " ('ㄴ', 'ETM'),\n",
              " ('화성', 'NNP'),\n",
              " ('17', 'SN'),\n",
              " ('형', 'XSN'),\n",
              " ('발사', 'NNG'),\n",
              " ('되', 'XSV'),\n",
              " ('면서', 'EC'),\n",
              " ('사실', 'NNG'),\n",
              " ('상', 'XSN'),\n",
              " ('파기', 'NNG'),\n",
              " ('되', 'XSV'),\n",
              " ('었', 'EP'),\n",
              " ('습니다', 'EF'),\n",
              " ('.', 'SF'),\n",
              " ('이', 'NP'),\n",
              " ('와', 'JKB'),\n",
              " ('함께', 'MAG'),\n",
              " ('북한', 'NNP'),\n",
              " ('이', 'JKS'),\n",
              " ('2018', 'SN'),\n",
              " ('년', 'NNB'),\n",
              " ('폭파', 'NNG'),\n",
              " ('하', 'XSV'),\n",
              " ('았', 'EP'),\n",
              " ('던', 'ETM'),\n",
              " ('함경북도', 'NNP'),\n",
              " ('풍계리 핵실험장', 'NNP'),\n",
              " ('복구', 'NNP'),\n",
              " ('작업', 'NNG'),\n",
              " ('을', 'JKO'),\n",
              " ('하', 'VV'),\n",
              " ('는', 'ETM'),\n",
              " ('것', 'NNB'),\n",
              " ('이', 'JKS'),\n",
              " ('포착', 'NNG'),\n",
              " ('되', 'XSV'),\n",
              " ('었', 'EP'),\n",
              " ('습니다', 'EF'),\n",
              " ('.', 'SF'),\n",
              " ('이', 'NP'),\n",
              " ('로', 'JKB'),\n",
              " ('인해', 'NNP'),\n",
              " ('7', 'SN'),\n",
              " ('차', 'NNB'),\n",
              " ('핵실험', 'NNP'),\n",
              " ('이', 'JKS'),\n",
              " ('임박', 'NNG'),\n",
              " ('하', 'XSV'),\n",
              " ('았', 'EP'),\n",
              " ('다는', 'ETM'),\n",
              " ('분석', 'NNG'),\n",
              " ('이', 'JKS'),\n",
              " ('나오', 'VV'),\n",
              " ('게', 'EC'),\n",
              " ('되', 'VV'),\n",
              " ('었', 'EP'),\n",
              " ('습니다', 'EF'),\n",
              " ('.', 'SF'),\n",
              " ('북한', 'NNP'),\n",
              " ('이', 'JKS'),\n",
              " ('각종', 'NNG'),\n",
              " ('미사일', 'NNG'),\n",
              " ('을', 'JKO'),\n",
              " ('발사', 'NNG'),\n",
              " ('하', 'XSV'),\n",
              " ('면서', 'EC'),\n",
              " ('도발', 'NNG'),\n",
              " ('과', 'JC'),\n",
              " ('긴장', 'NNG'),\n",
              " ('의', 'JKG'),\n",
              " ('수위', 'NNG'),\n",
              " ('를', 'JKO'),\n",
              " ('높이', 'VV'),\n",
              " ('어', 'EC'),\n",
              " ('가', 'VX'),\n",
              " ('는', 'ETM'),\n",
              " ('것', 'NNB'),\n",
              " ('이', 'JKS'),\n",
              " ('6', 'SN'),\n",
              " ('차', 'NNB'),\n",
              " ('핵실험', 'NNP'),\n",
              " ('때', 'NNG'),\n",
              " ('와', 'JC'),\n",
              " ('유사', 'XR'),\n",
              " ('하', 'XSA'),\n",
              " ('다는', 'ETM'),\n",
              " ('분석', 'NNG'),\n",
              " ('도', 'JX'),\n",
              " ('7', 'SN'),\n",
              " ('차', 'NNB'),\n",
              " ('핵실험', 'NNP'),\n",
              " ('임박', 'NNG'),\n",
              " ('설', 'NNG'),\n",
              " ('이', 'JKS'),\n",
              " ('힘', 'NNG'),\n",
              " ('을', 'JKO'),\n",
              " ('얻', 'VV'),\n",
              " ('는', 'ETM'),\n",
              " ('근거', 'NNG'),\n",
              " ('중', 'NNB'),\n",
              " ('하나', 'NR'),\n",
              " ('이', 'VCP'),\n",
              " ('ㅂ니다', 'EF'),\n",
              " ('.', 'SF')]"
            ]
          },
          "execution_count": 25,
          "metadata": {},
          "output_type": "execute_result"
        }
      ],
      "source": [
        "sent = '북한이 처음 핵실험을 실시한 것은 2006년 10월입니다. 이후 11년 동안 6차례의 핵실험을 시행했습니다. \\\n",
        "    가장 최근 실시한 6차 핵실험은 2017년 9월이었습니다. 여섯 차례의 핵실험 가운데 1, 2, 3, 5차 핵실험은 \\\n",
        "    핵분열을 이용한 원자탄이었고 4, 6차는 핵융합 반응을 이용한 수소탄 계열 실험인 것으로 파악됩니다. \\\n",
        "    6차 핵실험으로 북한은 대륙간 탄도 미사일에 장착할 수 있는 전략 핵무기 능력을 갖췄다는 평가를 받고 있습니다. \\\n",
        "    이어서 같은 해 11월 대륙간 탄도 미사일인 화성 15형을 발사하면서 북한은 핵 무력 완성을 선언합니다. \\\n",
        "    그러다가 2018년 4월, 남북·북미 정상회담을 앞두고 북한이 자발적으로 핵실험장을 폐기하면서 핵실험과 \\\n",
        "    ICBM 시험 발사를 중단하겠다고 선언했습니다. 그러나 미국과의 비핵화 협상은 결국 결렬되고 말았죠. \\\n",
        "    북한이 선언했던 모라토리엄(핵실험, 대륙간 탄도미사일 발사 중단)은 올해 대륙간 탄도미사일인 화성 17형 발사되면서 \\\n",
        "    사실상 파기됐습니다. 이와 함께 북한이 2018년 폭파했던 함경북도 풍계리 핵실험장 복구 작업을 하는 것이 포착됐습니다. \\\n",
        "    이로 인해 7차 핵실험이 임박했다는 분석이 나오게 됐습니다. 북한이 각종 미사일을 발사하면서 도발과 긴장의 수위를\\\n",
        "    높여가는 것이 6차 핵실험 때와 유사하다는 분석도 7차 핵실험 임박설이 힘을 얻는 근거 중 하나입니다.'\n",
        "komoran.pos(sent)"
      ]
    }
  ],
  "metadata": {
    "kernelspec": {
      "display_name": "Python 3.10.7 ('Python310')",
      "language": "python",
      "name": "python3"
    },
    "language_info": {
      "codemirror_mode": {
        "name": "ipython",
        "version": 3
      },
      "file_extension": ".py",
      "mimetype": "text/x-python",
      "name": "python",
      "nbconvert_exporter": "python",
      "pygments_lexer": "ipython3",
      "version": "3.10.7"
    },
    "vscode": {
      "interpreter": {
        "hash": "369f2c481f4da34e4445cda3fffd2e751bd1c4d706f27375911949ba6bb62e1c"
      }
    },
    "colab": {
      "provenance": [],
      "include_colab_link": true
    }
  },
  "nbformat": 4,
  "nbformat_minor": 0
}