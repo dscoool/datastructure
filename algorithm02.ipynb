{
  "cells": [
    {
      "cell_type": "markdown",
      "metadata": {
        "id": "view-in-github",
        "colab_type": "text"
      },
      "source": [
        "<a href=\"https://colab.research.google.com/github/dscoool/datastructure/blob/main/algorithm02.ipynb\" target=\"_parent\"><img src=\"https://colab.research.google.com/assets/colab-badge.svg\" alt=\"Open In Colab\"/></a>"
      ]
    },
    {
      "cell_type": "code",
      "execution_count": null,
      "metadata": {
        "id": "fwuLt1A4w8Af",
        "outputId": "e87b31c7-c012-4725-aef6-afac989f9d91"
      },
      "outputs": [
        {
          "name": "stdout",
          "output_type": "stream",
          "text": [
            "현재 리스트 : [30, 10, 20]\n"
          ]
        }
      ],
      "source": [
        "myList = [30, 10, 20]\n",
        "print(\"현재 리스트 : %s\" % myList)"
      ]
    },
    {
      "cell_type": "code",
      "execution_count": null,
      "metadata": {
        "id": "a5_5H2oPw8Aj",
        "outputId": "95e87f5f-e723-45bf-cbed-898008b54470"
      },
      "outputs": [
        {
          "name": "stdout",
          "output_type": "stream",
          "text": [
            "append(40) 후의 리스트 : [30, 10, 20, 40]\n"
          ]
        }
      ],
      "source": [
        "myList.append(40)\n",
        "print(\"append(40) 후의 리스트 : %s\" % myList)"
      ]
    },
    {
      "cell_type": "code",
      "execution_count": null,
      "metadata": {
        "id": "RJNNTGYmw8Ak",
        "outputId": "776ef2a7-8a72-4333-cc9b-68992380b9e6"
      },
      "outputs": [
        {
          "name": "stdout",
          "output_type": "stream",
          "text": [
            "pop() 으로 추출한 값 : 40\n",
            "pop() 후의 리스트 : [30, 10, 20]\n"
          ]
        }
      ],
      "source": [
        "print(\"pop() 으로 추출한 값 : %s\" % myList.pop())\n",
        "print(\"pop() 후의 리스트 : %s\" % myList)"
      ]
    },
    {
      "cell_type": "code",
      "execution_count": null,
      "metadata": {
        "id": "zEDVXeiow8Ak",
        "outputId": "4c6a96b3-201b-468d-e944-8ad943d3a7b3"
      },
      "outputs": [
        {
          "name": "stdout",
          "output_type": "stream",
          "text": [
            "sort() 후의 리스트 : [10, 20, 30]\n"
          ]
        }
      ],
      "source": [
        "myList.sort()\n",
        "print(\"sort() 후의 리스트 : %s\" % myList)"
      ]
    },
    {
      "cell_type": "code",
      "execution_count": null,
      "metadata": {
        "id": "Mi83fiRuw8Al",
        "outputId": "cd243582-547b-4e60-d7cd-c7f6daff6ffe"
      },
      "outputs": [
        {
          "name": "stdout",
          "output_type": "stream",
          "text": [
            "reverse() 후의 리스트 : [30, 20, 10]\n"
          ]
        }
      ],
      "source": [
        "myList.reverse()\n",
        "print(\"reverse() 후의 리스트 : %s\" % myList)"
      ]
    },
    {
      "cell_type": "code",
      "execution_count": null,
      "metadata": {
        "id": "oK04p_Ckw8Al",
        "outputId": "da4eda58-8c94-48d8-8035-201a7dd06ece"
      },
      "outputs": [
        {
          "name": "stdout",
          "output_type": "stream",
          "text": [
            "20 값의 위치 : 1\n"
          ]
        }
      ],
      "source": [
        "print(\"20 값의 위치 : %d\" % myList.index(20))"
      ]
    },
    {
      "cell_type": "code",
      "execution_count": null,
      "metadata": {
        "id": "RjH6Tc73w8Am",
        "outputId": "824d767a-8708-4d09-e51d-2a36ee81cdf0"
      },
      "outputs": [
        {
          "name": "stdout",
          "output_type": "stream",
          "text": [
            "insert(2, 222) 후의 리스트 : [30, 20, 222, 10]\n"
          ]
        }
      ],
      "source": [
        "myList.insert(2, 222)\n",
        "print(\"insert(2, 222) 후의 리스트 : %s\" % myList)\n"
      ]
    },
    {
      "cell_type": "code",
      "execution_count": null,
      "metadata": {
        "id": "p9jLfaATw8Am",
        "outputId": "b8522ba1-11a4-4625-9bc5-53bb5b7089bf"
      },
      "outputs": [
        {
          "name": "stdout",
          "output_type": "stream",
          "text": [
            "remove(222) 후의 리스트 : [30, 20, 10]\n"
          ]
        }
      ],
      "source": [
        "myList.remove(222)\n",
        "print(\"remove(222) 후의 리스트 : %s\" % myList)"
      ]
    },
    {
      "cell_type": "code",
      "execution_count": null,
      "metadata": {
        "id": "aQu0YJrlw8An",
        "outputId": "74df1483-73d5-435e-909e-9d3d831bd4b4"
      },
      "outputs": [
        {
          "name": "stdout",
          "output_type": "stream",
          "text": [
            "extend([77, 88, 77]) 후의 리스트 : [30, 20, 10, 77, 88, 77]\n"
          ]
        }
      ],
      "source": [
        "myList.extend( [77 , 88, 77] )\n",
        "print(\"extend([77, 88, 77]) 후의 리스트 : %s\" % myList)"
      ]
    },
    {
      "cell_type": "code",
      "execution_count": null,
      "metadata": {
        "id": "hx7GGSA1w8Ao",
        "outputId": "383bd956-5f16-4613-f29e-3d9556c8b7d2"
      },
      "outputs": [
        {
          "name": "stdout",
          "output_type": "stream",
          "text": [
            "77 값의 개수 : 2\n"
          ]
        }
      ],
      "source": [
        "print(\"77 값의 개수 : %d\" % myList.count(77))"
      ]
    },
    {
      "cell_type": "markdown",
      "metadata": {
        "id": "21srAkGlw8Ao"
      },
      "source": [
        "comprehension = 함축, 짧게 한줄에 요약해서 나타내기"
      ]
    },
    {
      "cell_type": "code",
      "execution_count": null,
      "metadata": {
        "id": "qaPTgxVgw8Aq",
        "outputId": "f443cb0b-62ef-4dc4-bd86-07fd3b8a18da"
      },
      "outputs": [
        {
          "data": {
            "text/plain": [
              "[3, 6, 9, 12, 15, 18]"
            ]
          },
          "execution_count": 2,
          "metadata": {},
          "output_type": "execute_result"
        }
      ],
      "source": [
        "numList = [num for num in range(1,21) if num % 3 == 0]\n",
        "numList"
      ]
    },
    {
      "cell_type": "markdown",
      "metadata": {
        "id": "aC-wHcZGw8Ar"
      },
      "source": [
        "2차원 리스트"
      ]
    },
    {
      "cell_type": "code",
      "execution_count": null,
      "metadata": {
        "id": "ZXCO2oHRw8Ar"
      },
      "outputs": [],
      "source": [
        "list1 = [ ]\n",
        "list2 = [ ]\n",
        "value=1\n",
        "for i in range(0, 3) :\n",
        "\tfor k in range(0, 4) :\n",
        "\t\tlist1.append(value)\n",
        "\t\tvalue += 1\n",
        "\tlist2.append(list1)\n",
        "\tlist1 = []\n",
        "\n",
        "for i in range(0, 3) :\n",
        "\tfor k in range(0, 4) :\n",
        "\t\tprint(\"%3d\" % list2[i][k], end = \" \")\n",
        "\tprint(\" \")\n"
      ]
    }
  ],
  "metadata": {
    "kernelspec": {
      "display_name": "Python 3",
      "language": "python",
      "name": "python3"
    },
    "language_info": {
      "codemirror_mode": {
        "name": "ipython",
        "version": 3
      },
      "file_extension": ".py",
      "mimetype": "text/x-python",
      "name": "python",
      "nbconvert_exporter": "python",
      "pygments_lexer": "ipython3",
      "version": "3.11.5"
    },
    "orig_nbformat": 4,
    "colab": {
      "provenance": [],
      "include_colab_link": true
    }
  },
  "nbformat": 4,
  "nbformat_minor": 0
}