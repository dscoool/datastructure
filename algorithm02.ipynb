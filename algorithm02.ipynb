{
 "cells": [
  {
   "cell_type": "code",
   "execution_count": 1,
   "metadata": {},
   "outputs": [
    {
     "name": "stdout",
     "output_type": "stream",
     "text": [
      "현재 리스트 : [30, 10, 20]\n"
     ]
    }
   ],
   "source": [
    "myList = [30, 10, 20]\n",
    "print(\"현재 리스트 : %s\" % myList)"
   ]
  },
  {
   "cell_type": "code",
   "execution_count": 2,
   "metadata": {},
   "outputs": [
    {
     "name": "stdout",
     "output_type": "stream",
     "text": [
      "append(40) 후의 리스트 : [30, 10, 20, 40]\n"
     ]
    }
   ],
   "source": [
    "myList.append(40)\n",
    "print(\"append(40) 후의 리스트 : %s\" % myList)"
   ]
  },
  {
   "cell_type": "code",
   "execution_count": 3,
   "metadata": {},
   "outputs": [
    {
     "name": "stdout",
     "output_type": "stream",
     "text": [
      "pop() 으로 추출한 값 : 40\n",
      "pop() 후의 리스트 : [30, 10, 20]\n"
     ]
    }
   ],
   "source": [
    "print(\"pop() 으로 추출한 값 : %s\" % myList.pop())\n",
    "print(\"pop() 후의 리스트 : %s\" % myList)"
   ]
  },
  {
   "cell_type": "code",
   "execution_count": 4,
   "metadata": {},
   "outputs": [
    {
     "name": "stdout",
     "output_type": "stream",
     "text": [
      "sort() 후의 리스트 : [10, 20, 30]\n"
     ]
    }
   ],
   "source": [
    "myList.sort()\n",
    "print(\"sort() 후의 리스트 : %s\" % myList)"
   ]
  },
  {
   "cell_type": "code",
   "execution_count": 5,
   "metadata": {},
   "outputs": [
    {
     "name": "stdout",
     "output_type": "stream",
     "text": [
      "reverse() 후의 리스트 : [30, 20, 10]\n"
     ]
    }
   ],
   "source": [
    "myList.reverse()\n",
    "print(\"reverse() 후의 리스트 : %s\" % myList)"
   ]
  },
  {
   "cell_type": "code",
   "execution_count": 6,
   "metadata": {},
   "outputs": [
    {
     "name": "stdout",
     "output_type": "stream",
     "text": [
      "20 값의 위치 : 1\n"
     ]
    }
   ],
   "source": [
    "print(\"20 값의 위치 : %d\" % myList.index(20))"
   ]
  },
  {
   "cell_type": "code",
   "execution_count": 7,
   "metadata": {},
   "outputs": [
    {
     "name": "stdout",
     "output_type": "stream",
     "text": [
      "insert(2, 222) 후의 리스트 : [30, 20, 222, 10]\n"
     ]
    }
   ],
   "source": [
    "myList.insert(2, 222)\n",
    "print(\"insert(2, 222) 후의 리스트 : %s\" % myList)\n"
   ]
  },
  {
   "cell_type": "code",
   "execution_count": 8,
   "metadata": {},
   "outputs": [
    {
     "name": "stdout",
     "output_type": "stream",
     "text": [
      "remove(222) 후의 리스트 : [30, 20, 10]\n"
     ]
    }
   ],
   "source": [
    "myList.remove(222)\n",
    "print(\"remove(222) 후의 리스트 : %s\" % myList)"
   ]
  },
  {
   "cell_type": "code",
   "execution_count": 9,
   "metadata": {},
   "outputs": [
    {
     "name": "stdout",
     "output_type": "stream",
     "text": [
      "extend([77, 88, 77]) 후의 리스트 : [30, 20, 10, 77, 88, 77]\n"
     ]
    }
   ],
   "source": [
    "myList.extend( [77 , 88, 77] )\n",
    "print(\"extend([77, 88, 77]) 후의 리스트 : %s\" % myList)"
   ]
  },
  {
   "cell_type": "code",
   "execution_count": 10,
   "metadata": {},
   "outputs": [
    {
     "name": "stdout",
     "output_type": "stream",
     "text": [
      "77 값의 개수 : 2\n"
     ]
    }
   ],
   "source": [
    "print(\"77 값의 개수 : %d\" % myList.count(77))"
   ]
  },
  {
   "cell_type": "markdown",
   "metadata": {},
   "source": [
    "comprehension = 함축, 짧게 한줄에 요약해서 나타내기"
   ]
  },
  {
   "cell_type": "code",
   "execution_count": 2,
   "metadata": {},
   "outputs": [
    {
     "data": {
      "text/plain": [
       "[3, 6, 9, 12, 15, 18]"
      ]
     },
     "execution_count": 2,
     "metadata": {},
     "output_type": "execute_result"
    }
   ],
   "source": [
    "numList = [num for num in range(1,21) if num % 3 == 0]\n",
    "numList"
   ]
  },
  {
   "cell_type": "markdown",
   "metadata": {},
   "source": [
    "2차원 리스트"
   ]
  },
  {
   "cell_type": "code",
   "execution_count": null,
   "metadata": {},
   "outputs": [],
   "source": [
    "list1 = [ ]\n",
    "list2 = [ ]\n",
    "value=1\n",
    "for i in range(0, 3) :\n",
    "\tfor k in range(0, 4) :\n",
    "\t\tlist1.append(value)\n",
    "\t\tvalue += 1\n",
    "\tlist2.append(list1)\n",
    "\tlist1 = []\n",
    "\n",
    "for i in range(0, 3) :\n",
    "\tfor k in range(0, 4) :\n",
    "\t\tprint(\"%3d\" % list2[i][k], end = \" \")\n",
    "\tprint(\" \")\n"
   ]
  }
 ],
 "metadata": {
  "kernelspec": {
   "display_name": "Python 3",
   "language": "python",
   "name": "python3"
  },
  "language_info": {
   "codemirror_mode": {
    "name": "ipython",
    "version": 3
   },
   "file_extension": ".py",
   "mimetype": "text/x-python",
   "name": "python",
   "nbconvert_exporter": "python",
   "pygments_lexer": "ipython3",
   "version": "3.11.5"
  },
  "orig_nbformat": 4
 },
 "nbformat": 4,
 "nbformat_minor": 2
}
