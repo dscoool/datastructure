{
  "cells": [
    {
      "cell_type": "markdown",
      "metadata": {
        "id": "view-in-github",
        "colab_type": "text"
      },
      "source": [
        "<a href=\"https://colab.research.google.com/github/dscoool/datastructure/blob/main/network_optimization_example_airlines.ipynb\" target=\"_parent\"><img src=\"https://colab.research.google.com/assets/colab-badge.svg\" alt=\"Open In Colab\"/></a>"
      ]
    },
    {
      "cell_type": "markdown",
      "metadata": {
        "_cell_guid": "9624fdca-31a6-4032-a4b8-8551191bf9f5",
        "_uuid": "90ae3f9e42203df20e95332297ea8977672bbc53",
        "id": "oWSJ0NfBw7ZZ"
      },
      "source": [
        "# An example of Network Optimization (Airlines)"
      ]
    },
    {
      "cell_type": "markdown",
      "metadata": {
        "_cell_guid": "d0871906-fc36-4cf5-8faa-563902cb718b",
        "_uuid": "8220e1640d8eab3c1c37d0a2180ec9ac5557af71",
        "id": "5jgc7YdFw7Zc"
      },
      "source": [
        "## Import the ***libraries*** and ***dataset***"
      ]
    },
    {
      "cell_type": "code",
      "execution_count": null,
      "metadata": {
        "_cell_guid": "b1076dfc-b9ad-4769-8c92-a6c4dae69d19",
        "_uuid": "8f2839f25d086af736a60e9eeb907d3b93b6e0e5",
        "id": "FeMQV9OVw7Zd",
        "outputId": "06ed70ed-61f0-4ef4-e489-1c7660d73ba5"
      },
      "outputs": [
        {
          "data": {
            "text/html": [
              "<div>\n",
              "<style scoped>\n",
              "    .dataframe tbody tr th:only-of-type {\n",
              "        vertical-align: middle;\n",
              "    }\n",
              "\n",
              "    .dataframe tbody tr th {\n",
              "        vertical-align: top;\n",
              "    }\n",
              "\n",
              "    .dataframe thead th {\n",
              "        text-align: right;\n",
              "    }\n",
              "</style>\n",
              "<table border=\"1\" class=\"dataframe\">\n",
              "  <thead>\n",
              "    <tr style=\"text-align: right;\">\n",
              "      <th></th>\n",
              "      <th>dep_time</th>\n",
              "      <th>sched_dep_time</th>\n",
              "      <th>dep_delay</th>\n",
              "      <th>arr_time</th>\n",
              "      <th>sched_arr_time</th>\n",
              "      <th>arr_delay</th>\n",
              "      <th>carrier</th>\n",
              "      <th>flight</th>\n",
              "      <th>tailnum</th>\n",
              "      <th>origin</th>\n",
              "      <th>dest</th>\n",
              "      <th>air_time</th>\n",
              "      <th>distance</th>\n",
              "      <th>std</th>\n",
              "      <th>sta</th>\n",
              "      <th>atd</th>\n",
              "      <th>ata</th>\n",
              "      <th>date</th>\n",
              "    </tr>\n",
              "  </thead>\n",
              "  <tbody>\n",
              "    <tr>\n",
              "      <th>0</th>\n",
              "      <td>1807.0</td>\n",
              "      <td>1630</td>\n",
              "      <td>97.0</td>\n",
              "      <td>1956.0</td>\n",
              "      <td>1837</td>\n",
              "      <td>79.0</td>\n",
              "      <td>EV</td>\n",
              "      <td>4411</td>\n",
              "      <td>N13566</td>\n",
              "      <td>EWR</td>\n",
              "      <td>MEM</td>\n",
              "      <td>144.0</td>\n",
              "      <td>946</td>\n",
              "      <td>16:30:00</td>\n",
              "      <td>18:37:00</td>\n",
              "      <td>18:07:00</td>\n",
              "      <td>19:56:00</td>\n",
              "      <td>2013-02-26</td>\n",
              "    </tr>\n",
              "    <tr>\n",
              "      <th>1</th>\n",
              "      <td>1459.0</td>\n",
              "      <td>1445</td>\n",
              "      <td>14.0</td>\n",
              "      <td>1801.0</td>\n",
              "      <td>1747</td>\n",
              "      <td>14.0</td>\n",
              "      <td>B6</td>\n",
              "      <td>1171</td>\n",
              "      <td>N661JB</td>\n",
              "      <td>LGA</td>\n",
              "      <td>FLL</td>\n",
              "      <td>147.0</td>\n",
              "      <td>1076</td>\n",
              "      <td>14:45:00</td>\n",
              "      <td>17:47:00</td>\n",
              "      <td>14:59:00</td>\n",
              "      <td>18:01:00</td>\n",
              "      <td>2013-08-17</td>\n",
              "    </tr>\n",
              "    <tr>\n",
              "      <th>2</th>\n",
              "      <td>1812.0</td>\n",
              "      <td>1815</td>\n",
              "      <td>-3.0</td>\n",
              "      <td>2055.0</td>\n",
              "      <td>2125</td>\n",
              "      <td>-30.0</td>\n",
              "      <td>AS</td>\n",
              "      <td>7</td>\n",
              "      <td>N403AS</td>\n",
              "      <td>EWR</td>\n",
              "      <td>SEA</td>\n",
              "      <td>315.0</td>\n",
              "      <td>2402</td>\n",
              "      <td>18:15:00</td>\n",
              "      <td>21:25:00</td>\n",
              "      <td>18:12:00</td>\n",
              "      <td>20:55:00</td>\n",
              "      <td>2013-02-13</td>\n",
              "    </tr>\n",
              "    <tr>\n",
              "      <th>3</th>\n",
              "      <td>2122.0</td>\n",
              "      <td>2115</td>\n",
              "      <td>7.0</td>\n",
              "      <td>2339.0</td>\n",
              "      <td>2353</td>\n",
              "      <td>-14.0</td>\n",
              "      <td>B6</td>\n",
              "      <td>97</td>\n",
              "      <td>N656JB</td>\n",
              "      <td>JFK</td>\n",
              "      <td>DEN</td>\n",
              "      <td>221.0</td>\n",
              "      <td>1626</td>\n",
              "      <td>21:15:00</td>\n",
              "      <td>23:53:00</td>\n",
              "      <td>21:22:00</td>\n",
              "      <td>23:39:00</td>\n",
              "      <td>2013-04-11</td>\n",
              "    </tr>\n",
              "    <tr>\n",
              "      <th>4</th>\n",
              "      <td>1832.0</td>\n",
              "      <td>1835</td>\n",
              "      <td>-3.0</td>\n",
              "      <td>2145.0</td>\n",
              "      <td>2155</td>\n",
              "      <td>-10.0</td>\n",
              "      <td>AA</td>\n",
              "      <td>269</td>\n",
              "      <td>N3EYAA</td>\n",
              "      <td>JFK</td>\n",
              "      <td>SEA</td>\n",
              "      <td>358.0</td>\n",
              "      <td>2422</td>\n",
              "      <td>18:35:00</td>\n",
              "      <td>21:55:00</td>\n",
              "      <td>18:32:00</td>\n",
              "      <td>21:45:00</td>\n",
              "      <td>2013-08-05</td>\n",
              "    </tr>\n",
              "  </tbody>\n",
              "</table>\n",
              "</div>"
            ],
            "text/plain": [
              "   dep_time  sched_dep_time  dep_delay    ...           atd       ata       date\n",
              "0    1807.0            1630       97.0    ...      18:07:00  19:56:00 2013-02-26\n",
              "1    1459.0            1445       14.0    ...      14:59:00  18:01:00 2013-08-17\n",
              "2    1812.0            1815       -3.0    ...      18:12:00  20:55:00 2013-02-13\n",
              "3    2122.0            2115        7.0    ...      21:22:00  23:39:00 2013-04-11\n",
              "4    1832.0            1835       -3.0    ...      18:32:00  21:45:00 2013-08-05\n",
              "\n",
              "[5 rows x 18 columns]"
            ]
          },
          "execution_count": 1,
          "metadata": {},
          "output_type": "execute_result"
        }
      ],
      "source": [
        "# import the libraries & dataset\n",
        "import pandas as pd\n",
        "data = pd.read_excel('https://github.com/dscoool/datastructure/raw/main/dataset_airline_optimization_problem.xlsx')\n",
        "data.head()"
      ]
    },
    {
      "cell_type": "markdown",
      "metadata": {
        "_cell_guid": "cdb102aa-9033-4127-96c3-2aa478c1370d",
        "_uuid": "0bfcb6133174ee65cedc16bead19fba3a2ce678d",
        "id": "MjgsZa4lw7Zf"
      },
      "source": [
        "## Formulate the Network"
      ]
    },
    {
      "cell_type": "code",
      "execution_count": null,
      "metadata": {
        "_cell_guid": "36eeb170-2e59-4545-a6b2-dac4478b9191",
        "_uuid": "59fa22b22d713836c4ec810b7d72586c49480116",
        "id": "0gh5vxiXw7Zf",
        "outputId": "c9325c86-f562-4fd4-dc10-b783099d3f7d"
      },
      "outputs": [
        {
          "name": "stderr",
          "output_type": "stream",
          "text": [
            "/opt/conda/lib/python3.6/site-packages/networkx/drawing/nx_pylab.py:611: MatplotlibDeprecationWarning: isinstance(..., numbers.Number)\n",
            "  if cb.is_numlike(alpha):\n"
          ]
        },
        {
          "data": {
            "text/plain": [
              "{20: 1.95, 1: 19.307692307692307, 2: 19.0625, 17: 2.0588235294117645, 3: 19.0}"
            ]
          },
          "execution_count": 2,
          "metadata": {},
          "output_type": "execute_result"
        },
        {
          "data": {
            "image/png": "[encoded data removed]",
            "text/plain": [
              "<Figure size 432x288 with 1 Axes>"
            ]
          },
          "metadata": {},
          "output_type": "display_data"
        }
      ],
      "source": [
        "import networkx as nx\n",
        "FG = nx.from_pandas_edgelist(data, source='origin', target='dest', edge_attr=True,)\n",
        "FG.nodes()\n",
        "FG.edges()\n",
        "nx.draw_networkx(FG, with_labels=True,node_size=600, node_color='gray')\n",
        "nx.algorithms.degree_centrality(FG)\n",
        "nx.density(FG)\n",
        "nx.average_shortest_path_length(FG)\n",
        "nx.average_degree_connectivity(FG)"
      ]
    },
    {
      "cell_type": "markdown",
      "metadata": {
        "_cell_guid": "50f47761-154b-4269-b0b2-c8accbc5da68",
        "_uuid": "b846a85f7ce14b91e213139f2dc95247194146ac",
        "id": "DBUXmkSCw7Zf"
      },
      "source": [
        "## Shortest path between JFK to DFW"
      ]
    },
    {
      "cell_type": "code",
      "execution_count": null,
      "metadata": {
        "_cell_guid": "4ac19daf-3594-42e8-b6aa-847d69cfae6b",
        "_uuid": "caf97ea83db6f25a31246ac584c6533b6a0cce22",
        "scrolled": false,
        "id": "250Oe1rAw7Zf",
        "outputId": "f89ae2b8-cebb-4e16-a6a8-7c7276104c2c"
      },
      "outputs": [
        {
          "name": "stdout",
          "output_type": "stream",
          "text": [
            "Dijkstra path:  ['JAX', 'JFK', 'SEA', 'EWR', 'DFW']\n",
            "dijkstra path weighted by airtime: ['JAX', 'JFK', 'BOS', 'EWR', 'DFW']\n"
          ]
        }
      ],
      "source": [
        "# Let us find the dijkstra path from JAX to DFW.\n",
        "dijpath = nx.dijkstra_path(FG, source='JAX', target='DFW')\n",
        "print('Dijkstra path: ', dijpath)\n",
        "\n",
        "# Let us try to find the dijkstra path weighted by airtime (approximate case)\n",
        "shortpath = nx.dijkstra_path(FG, source='JAX', target='DFW', weight='air_time')\n",
        "print('dijkstra path weighted by airtime:', shortpath)\n",
        "\n",
        "# nx.draw(FG)\n",
        "# Let us find all the paths available\n",
        "for path in nx.all_simple_paths(FG, source='JAX', target='DFW'):\n",
        "  #print(path)\n",
        "  pass\n",
        "# You can read more in-depth on how dijkstra works from this resource - https://courses.csail.mit.edu/6.006/fall11/lectures/lecture16.pdf\n",
        "#Note:  this code is inspired by www.analyticsvidhya.com /blog/2018/04/introduction-to-graph-theory-network-analysis-python"
      ]
    }
  ],
  "metadata": {
    "kernelspec": {
      "display_name": "Python 3",
      "language": "python",
      "name": "python3"
    },
    "language_info": {
      "codemirror_mode": {
        "name": "ipython",
        "version": 3
      },
      "file_extension": ".py",
      "mimetype": "text/x-python",
      "name": "python",
      "nbconvert_exporter": "python",
      "pygments_lexer": "ipython3",
      "version": "3.6.5"
    },
    "colab": {
      "provenance": [],
      "include_colab_link": true
    }
  },
  "nbformat": 4,
  "nbformat_minor": 0
}