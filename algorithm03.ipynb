{
 "cells": [
  {
   "cell_type": "markdown",
   "metadata": {},
   "source": [
    "딕셔너리 (Dictionary) - 사전을 만들 때 쓰는 자료구조형"
   ]
  },
  {
   "cell_type": "code",
   "execution_count": 12,
   "metadata": {},
   "outputs": [
    {
     "name": "stdout",
     "output_type": "stream",
     "text": [
      "{'United States': 'Washington D.C.', 'Italy': 'Rome', 'England': 'London'}\n"
     ]
    }
   ],
   "source": [
    "# creating a dictionary\n",
    "country_capitals = {\n",
    "  \"United States\": \"Washington D.C.\", \n",
    "  \"Italy\": \"Rome\", \n",
    "  \"England\": \"London\"\n",
    "}\n",
    "\n",
    "# printing the dictionary\n",
    "print(country_capitals)"
   ]
  },
  {
   "cell_type": "code",
   "execution_count": 13,
   "metadata": {},
   "outputs": [
    {
     "data": {
      "text/plain": [
       "'Rome'"
      ]
     },
     "execution_count": 13,
     "metadata": {},
     "output_type": "execute_result"
    }
   ],
   "source": [
    "country_capitals['Italy']"
   ]
  },
  {
   "cell_type": "code",
   "execution_count": 14,
   "metadata": {},
   "outputs": [],
   "source": [
    "country_capitals['Malaysia'] = 'Kuala Lumpur'"
   ]
  },
  {
   "cell_type": "code",
   "execution_count": 15,
   "metadata": {},
   "outputs": [
    {
     "data": {
      "text/plain": [
       "{'United States': 'Washington D.C.',\n",
       " 'Italy': 'Rome',\n",
       " 'England': 'London',\n",
       " 'Malaysia': 'Kuala Lumpur'}"
      ]
     },
     "execution_count": 15,
     "metadata": {},
     "output_type": "execute_result"
    }
   ],
   "source": [
    "country_capitals"
   ]
  },
  {
   "cell_type": "code",
   "execution_count": 9,
   "metadata": {},
   "outputs": [
    {
     "data": {
      "text/plain": [
       "'컴퓨터공학과'"
      ]
     },
     "execution_count": 9,
     "metadata": {},
     "output_type": "execute_result"
    }
   ],
   "source": [
    "student1 = {'학번': 202014, '이름': '고유경', '학과':'컴퓨터공학과'}\n",
    "student1['학과']"
   ]
  },
  {
   "cell_type": "code",
   "execution_count": 10,
   "metadata": {},
   "outputs": [
    {
     "data": {
      "text/plain": [
       "{'학번': 202014, '이름': '고유경', '학과': '컴퓨터공학과', '연락처': '010-2344-5677'}"
      ]
     },
     "execution_count": 10,
     "metadata": {},
     "output_type": "execute_result"
    }
   ],
   "source": [
    "student1['연락처'] = '010-2344-5677'\n",
    "student1"
   ]
  },
  {
   "cell_type": "code",
   "execution_count": 20,
   "metadata": {},
   "outputs": [
    {
     "name": "stdout",
     "output_type": "stream",
     "text": [
      "학번  -->  202014\n",
      "이름  -->  고유경\n",
      "학과  -->  컴퓨터공학과\n",
      "연락처  -->  010-2344-5677\n"
     ]
    }
   ],
   "source": [
    "for k in student1.keys() :\n",
    "    print('%s  -->  %s'  % (k, student1[k]))"
   ]
  },
  {
   "cell_type": "markdown",
   "metadata": {},
   "source": [
    "딕셔너리에 값 추가하기"
   ]
  }
 ],
 "metadata": {
  "kernelspec": {
   "display_name": "Python 3",
   "language": "python",
   "name": "python3"
  },
  "language_info": {
   "codemirror_mode": {
    "name": "ipython",
    "version": 3
   },
   "file_extension": ".py",
   "mimetype": "text/x-python",
   "name": "python",
   "nbconvert_exporter": "python",
   "pygments_lexer": "ipython3",
   "version": "3.11.5"
  },
  "orig_nbformat": 4
 },
 "nbformat": 4,
 "nbformat_minor": 2
}
