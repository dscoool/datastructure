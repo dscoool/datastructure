{
  "nbformat": 4,
  "nbformat_minor": 0,
  "metadata": {
    "colab": {
      "provenance": []
    },
    "kernelspec": {
      "name": "python3",
      "display_name": "Python 3"
    },
    "language_info": {
      "name": "python"
    }
  },
  "cells": [
    {
      "cell_type": "code",
      "execution_count": 1,
      "metadata": {
        "colab": {
          "base_uri": "https://localhost:8080/"
        },
        "id": "Q2pMa6tOv5wx",
        "outputId": "5d873621-954e-4cba-c4ca-2367092b51dc"
      },
      "outputs": [
        {
          "output_type": "stream",
          "name": "stdout",
          "text": [
            "** 로또 번호 생성을 시작합니다. **\n",
            "자동번호-->  11 28 38 40 42 43 \n"
          ]
        }
      ],
      "source": [
        "import random\n",
        "\n",
        "## 전역 변수 선언 부분 ##\n",
        "totalLotto = []\n",
        "lotto = []\n",
        "pickNum = 0\n",
        "count = 0\n",
        "\n",
        "## 메인 코드 부분 ##\n",
        "print(\"** 로또 번호 생성을 시작합니다. **\")\n",
        "# count = int(input('몇 번을 뽑을까요?'))\n",
        "count = 1\n",
        "\n",
        "for _ in range(count) :\n",
        "\t lotto = []\n",
        "\t while True :\n",
        "\t\t  pickNum = random.randint(1, 45)\n",
        "\t\t  if pickNum not in lotto :\n",
        "\t\t\t   lotto.append(pickNum)\n",
        "\t\t  if len(lotto) >= 6 :\n",
        "\t\t\t   break\n",
        "\t totalLotto.append(lotto)\n",
        "\n",
        "for lotto in totalLotto :\n",
        "\t lotto.sort()\n",
        "\t print('자동번호--> ', end = ' ')\n",
        "\t for i in range(0, 6) :\n",
        "\t\t  print(\"%2d\" % lotto[i], end = ' ')\n",
        "\t print()\n"
      ]
    }
  ]
}