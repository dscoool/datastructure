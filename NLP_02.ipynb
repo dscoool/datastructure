{
  "cells": [
    {
      "cell_type": "markdown",
      "metadata": {
        "id": "view-in-github",
        "colab_type": "text"
      },
      "source": [
        "<a href=\"https://colab.research.google.com/github/dscoool/datastructure/blob/main/NLP_02.ipynb\" target=\"_parent\"><img src=\"https://colab.research.google.com/assets/colab-badge.svg\" alt=\"Open In Colab\"/></a>"
      ]
    },
    {
      "cell_type": "markdown",
      "metadata": {
        "id": "QY4t05_lLrgl"
      },
      "source": [
        "#### 자연어처리(2) - 다량의 뉴스기사 분석"
      ]
    },
    {
      "cell_type": "markdown",
      "metadata": {
        "id": "IDQJsJLuLrgp"
      },
      "source": [
        "이번에는 여러 개의 뉴스기사를 파일로부터 가져와 \\\n",
        "분석을 실시해 보겠습니다!!\n"
      ]
    },
    {
      "cell_type": "code",
      "execution_count": null,
      "metadata": {
        "id": "cwr8SZWiLrgq",
        "outputId": "801b65b9-4239-47d2-fd0a-ba12badf4cf2"
      },
      "outputs": [
        {
          "name": "stdout",
          "output_type": "stream",
          "text": [
            "분석하려는 뉴스기사의 수: 965\n"
          ]
        }
      ],
      "source": [
        "import sys\n",
        "import pandas as pd\n",
        "import numpy as np\n",
        "from data_loader import get_news_corpus_as_list\n",
        "\n",
        "docs = get_news_corpus_as_list(n_docs=1000)\n",
        "docs = [doc for doc in docs if doc]\n",
        "print(\"분석하려는 뉴스기사의 수:\", len(docs))\n"
      ]
    },
    {
      "cell_type": "markdown",
      "metadata": {
        "id": "hDGFkkWcLrgu"
      },
      "source": [
        "komoran 모듈을 로딩합니다."
      ]
    },
    {
      "cell_type": "code",
      "execution_count": null,
      "metadata": {
        "id": "mEXnplydLrgv"
      },
      "outputs": [],
      "source": [
        "from sklearn.feature_extraction.text import CountVectorizer\n",
        "from konlpy.tag import Komoran\n",
        "\n",
        "komoran = Komoran()"
      ]
    },
    {
      "cell_type": "markdown",
      "metadata": {
        "id": "rASNwzioLrgv"
      },
      "source": [
        "* min_count - 유효단어(word bag)에 포함시킬 최소 숫자.\n",
        "예를 들어, '북한'이 10회 이상 등장하면 '북한'이라는 어휘는\n",
        "분석대상에 포함하도록 합니다.\n",
        "\n",
        "* bigram_extractor - 총 뉴스 중 10번 이상 등장한 분석어휘를 선택하는 기능\n",
        "\n",
        "* to_bigram - 두 개의 분석어휘 집단을 서로 병합하는 기능.\n",
        ""
      ]
    },
    {
      "cell_type": "code",
      "execution_count": null,
      "metadata": {
        "id": "4xDoO24mLrgv",
        "outputId": "2292dd77-b662-440f-e035-027ec5af6895"
      },
      "outputs": [
        {
          "data": {
            "text/plain": [
              "2835"
            ]
          },
          "execution_count": 12,
          "metadata": {},
          "output_type": "execute_result"
        }
      ],
      "source": [
        "from collections import Counter\n",
        "\n",
        "def bigram_extractor(docs, min_count=10):\n",
        "\n",
        "    def to_bigram(tokens):\n",
        "        bigrams = [(t0, t1) for t0, t1 in zip(tokens, tokens[1:])]\n",
        "        return bigrams\n",
        "\n",
        "    bigram_counter = Counter(\n",
        "        [bigram for doc in docs for bigram in\n",
        "         to_bigram(komoran.pos(doc, join=True)) if doc\n",
        "        ]\n",
        "    )\n",
        "\n",
        "    bigram_dictionary = {\n",
        "        bigram:count for bigram, count in bigram_counter.items()\n",
        "        if count >= min_count\n",
        "    }\n",
        "\n",
        "    return bigram_dictionary\n",
        "\n",
        "bigrams = bigram_extractor(docs)\n",
        "len(bigrams)"
      ]
    },
    {
      "cell_type": "markdown",
      "metadata": {
        "id": "Er9DHe_LLrgw"
      },
      "source": [
        "임의로 다섯개의 분석어휘를 살펴봅니다."
      ]
    },
    {
      "cell_type": "code",
      "execution_count": null,
      "metadata": {
        "id": "jlvvTG4-Lrgw",
        "outputId": "674eb8d0-ba89-41d9-b8f3-3774814ff91e"
      },
      "outputs": [
        {
          "data": {
            "text/plain": [
              "[('서울/NNP', '연합뉴스/NNP'),\n",
              " ('연합뉴스/NNP', '경찰/NNG'),\n",
              " ('경찰/NNG', '관계자/NNG'),\n",
              " ('관계자/NNG', '들/XSN'),\n",
              " ('들/XSN', '이/JKS')]"
            ]
          },
          "execution_count": 13,
          "metadata": {},
          "output_type": "execute_result"
        }
      ],
      "source": [
        "#[서울, 연합뉴스, 경찰, 관계자, 들, 이]라는 단어가 가장 많이 등장하였습니다.\n",
        "list(bigrams)[:5]"
      ]
    },
    {
      "cell_type": "markdown",
      "metadata": {
        "id": "3eJ0EvMSLrgx"
      },
      "source": [
        "자주 등장한 어휘 100위에서 199위까지를 살펴보도록 할까요?"
      ]
    },
    {
      "cell_type": "code",
      "execution_count": null,
      "metadata": {
        "id": "27aR3MGZLrgy",
        "outputId": "6b4d870d-ee28-42f9-9975-96221647ba18"
      },
      "outputs": [
        {
          "data": {
            "text/plain": [
              "[('폭행/NNG', '용의자/NNP'),\n",
              " ('용의자/NNP', '가/JKS'),\n",
              " ('조사/NNG', '를/JKO'),\n",
              " ('를/JKO', '벌이/VV'),\n",
              " ('경찰관/NNP', '에게/JKB'),\n",
              " ('경찰관/NNP', '이/JKS'),\n",
              " ('이/JKS', '숨지/VV'),\n",
              " ('숨지/VV', '었/EP'),\n",
              " ('다/EC', '19/SN'),\n",
              " ('맞/VV', '았/EP'),\n",
              " ('되/XSV', '어/EC'),\n",
              " ('현장/NNG', '에서/JKB'),\n",
              " ('조사/NNG', '하/XSV'),\n",
              " ('하/XSV', '던/ETM'),\n",
              " ('김/NNP', '모/NNP'),\n",
              " ('45/SN', '씨/NNB'),\n",
              " ('쏘/VV', 'ㄴ/ETM'),\n",
              " ('ㄴ/ETM', '사제총/NNP'),\n",
              " ('기/ETN', '에/JKB'),\n",
              " ('에/JKB', '맞/VV'),\n",
              " ('ㄴ/ETM', '뒤/NNG'),\n",
              " ('병원/NNG', '에/JKB'),\n",
              " ('옮기/VV', '어/EC'),\n",
              " ('었/EP', '으나/EC'),\n",
              " ('다/EC', '사진/NNG'),\n",
              " ('사진/NNG', '은/JX'),\n",
              " ('신고/NNG', '를/JKO'),\n",
              " ('를/JKO', '받/VV'),\n",
              " ('받/VV', '고/EC'),\n",
              " ('출동/NNG', '하/XSV'),\n",
              " ('앞/NNG', '에/JKB'),\n",
              " ('었/EP', '던/ETM'),\n",
              " ('을/JKO', '챙기/VV'),\n",
              " ('다/EC', '김/NNP'),\n",
              " ('김/NNP', '경위/NNG'),\n",
              " ('경위/NNG', '는/JX'),\n",
              " ('접근/NNG', '하/XSV'),\n",
              " ('은/JX', '성씨/NNP'),\n",
              " ('성씨/NNP', '가/JKS'),\n",
              " ('ㄴ/ETM', '10/SN'),\n",
              " ('도착/NNG', '하/XSV'),\n",
              " ('았/EP', '을/ETM'),\n",
              " ('을/ETM', '때/NNG'),\n",
              " ('이/JKS', '없/VA'),\n",
              " ('없/VA', '었/EP'),\n",
              " ('었/EP', '고/EC'),\n",
              " ('을/JKO', '하/VV'),\n",
              " ('하/VV', '며/EC'),\n",
              " ('으로/JKB', '옮기/VV'),\n",
              " ('7/SN', '시/NNB'),\n",
              " ('사망/NNG', '하/XSV'),\n",
              " ('있/VX', '었/EP'),\n",
              " ('에/JKB', '는/JX'),\n",
              " ('을/JKO', '입/VV'),\n",
              " ('입/VV', '은/ETM'),\n",
              " ('없/VA', '는/ETM'),\n",
              " ('는/ETM', '것/NNB'),\n",
              " ('하/XSV', '는/ETM'),\n",
              " ('이효석/NNP', '기자/NNG'),\n",
              " ('사건/NNG', '을/JKO'),\n",
              " ('을/JKO', '조사/NNG'),\n",
              " ('하/VV', '고/EC'),\n",
              " ('때문/NNB', '에/JKB'),\n",
              " ('들/XSN', '과/JC'),\n",
              " ('었/EP', '는데/EC'),\n",
              " ('에/JKB', '있/VV'),\n",
              " ('상인/NNG', '들/XSN'),\n",
              " ('경찰/NNG', '이/JKS'),\n",
              " ('하/XSV', '려고/EC'),\n",
              " ('맞/VV', '아/EC'),\n",
              " ('다/EC', '고/MM'),\n",
              " ('고/MM', '말/NNG'),\n",
              " ('말/NNG', '하/XSV'),\n",
              " ('ㄴ/ETM', '것/NNB'),\n",
              " ('으로/JKB', '전하/VV'),\n",
              " ('전하/VV', '아/EC'),\n",
              " ('아/EC', '지/VX'),\n",
              " ('배/NNG', '에/JKB'),\n",
              " ('았/EP', '으나/EC'),\n",
              " ('이/VCP', '어서/EC'),\n",
              " ('하/XSV', '지/EC'),\n",
              " ('지/EC', '는/JX'),\n",
              " ('는/JX', '않/VX'),\n",
              " ('않/VX', '았/EP'),\n",
              " ('경찰/NNG', '은/JX'),\n",
              " ('만들/VV', 'ㄴ/ETM'),\n",
              " ('개/NNB', '를/JKO'),\n",
              " ('알/VV', 'ㄹ/ETM'),\n",
              " ('ㄹ/ETM', '수/NNB'),\n",
              " ('수/NNB', '없/VA'),\n",
              " ('발견/NNG', '되/XSV'),\n",
              " ('안/NNG', '에/JKB'),\n",
              " ('세계/NNG', '최대/NNG'),\n",
              " ('이/VCP', 'ㄴ/ETM'),\n",
              " ('은/JX', '19/SN'),\n",
              " ('일/NNB', '현지/NNG'),\n",
              " ('현지/NNG', '시간/NNG'),\n",
              " ('갤럭시/NNP', '노트/NNP'),\n",
              " ('노트/NNP', '7/SN'),\n",
              " ('하/XSV', '면/EC')]"
            ]
          },
          "execution_count": 14,
          "metadata": {},
          "output_type": "execute_result"
        }
      ],
      "source": [
        "list(bigrams)[100:200]"
      ]
    },
    {
      "cell_type": "markdown",
      "metadata": {
        "id": "1mmSGJq6Lrgy"
      },
      "source": [
        "BigramTokenizer 함수를 정의합니다."
      ]
    },
    {
      "cell_type": "code",
      "execution_count": null,
      "metadata": {
        "id": "s-A-7bobLrgz"
      },
      "outputs": [],
      "source": [
        "class BigramTokenizer:\n",
        "\n",
        "    def __init__(self, bigrams, tagger):\n",
        "        self.bigrams = bigrams\n",
        "        self.tagger = tagger\n",
        "\n",
        "    def __call__(self, sent):\n",
        "        if not sent:\n",
        "            return []\n",
        "\n",
        "        unigrams = self.tagger.pos(sent, join=True)\n",
        "\n",
        "        bigrams = [(t0, t1) for t0, t1 in zip(unigrams, unigrams[1:])]\n",
        "        bigrams = [bigram for bigram in bigrams if bigram in self.bigrams]\n",
        "        bigrams = ['%s-%s' % (t0, t1) for t0, t1 in bigrams]\n",
        "\n",
        "        return unigrams + bigrams\n",
        "\n",
        "bigram_tokenizer = BigramTokenizer(bigrams, komoran)"
      ]
    },
    {
      "cell_type": "markdown",
      "metadata": {
        "id": "ot49hRhOLrgz"
      },
      "source": [
        "docs에 있는 965개의 뉴스 중 하나를 골라, \\\n",
        "분석해 봅시다.\\\n",
        "아래 docs[100] 의 숫자를 바꾸면 됩니다."
      ]
    },
    {
      "cell_type": "code",
      "execution_count": null,
      "metadata": {
        "id": "_PRjV23LLrgz",
        "outputId": "ea476764-ee2d-4960-b7d5-6e656cb20ce9"
      },
      "outputs": [
        {
          "data": {
            "text/plain": [
              "'서울 연합뉴스 고웅석 기자 현대자동차는 20일부터 11월 7일까지 자사 채용 사이트 를 통해 마케팅 부문 경력사원 지원서류를 접수한다고 밝혔다'"
            ]
          },
          "execution_count": 16,
          "metadata": {},
          "output_type": "execute_result"
        }
      ],
      "source": [
        "sent = docs[220].split('  ')[0]\n",
        "sent"
      ]
    },
    {
      "cell_type": "markdown",
      "metadata": {
        "id": "aHVbJffMLrg0"
      },
      "source": [
        "bigram_tokenizer 기능을 사용하여 \\\n",
        "해당 문장을 분석해 봅시다."
      ]
    },
    {
      "cell_type": "code",
      "execution_count": null,
      "metadata": {
        "scrolled": false,
        "id": "5s1XPttmLrg0",
        "outputId": "78b57517-b0d5-41b6-d7ca-3da6ba78c485"
      },
      "outputs": [
        {
          "data": {
            "text/plain": [
              "['서울/NNP',\n",
              " '연합뉴스/NNP',\n",
              " '고웅석/NA',\n",
              " '기자/NNG',\n",
              " '현대자동차/NNP',\n",
              " '는/JX',\n",
              " '20/SN',\n",
              " '일/NNB',\n",
              " '부터/JX',\n",
              " '11월 7일/NNP',\n",
              " '까지/JX',\n",
              " '자사/NNP',\n",
              " '채용/NNG',\n",
              " '사이트/NNG',\n",
              " '를/JKO',\n",
              " '통하/VV',\n",
              " '아/EC',\n",
              " '마케팅/NNP',\n",
              " '부문/NNG',\n",
              " '경력/NNP',\n",
              " '사원/NNP',\n",
              " '지원/NNG',\n",
              " '서류/NNG',\n",
              " '를/JKO',\n",
              " '접수/NNG',\n",
              " '하/XSV',\n",
              " 'ㄴ다고/EC',\n",
              " '밝히/VV',\n",
              " '었/EP',\n",
              " '다/EC',\n",
              " '서울/NNP-연합뉴스/NNP',\n",
              " '는/JX-20/SN',\n",
              " '20/SN-일/NNB',\n",
              " '일/NNB-부터/JX',\n",
              " '를/JKO-통하/VV',\n",
              " '통하/VV-아/EC',\n",
              " '하/XSV-ㄴ다고/EC',\n",
              " 'ㄴ다고/EC-밝히/VV',\n",
              " '밝히/VV-었/EP',\n",
              " '었/EP-다/EC']"
            ]
          },
          "execution_count": 17,
          "metadata": {},
          "output_type": "execute_result"
        }
      ],
      "source": [
        "bigram_tokenizer(sent)"
      ]
    },
    {
      "cell_type": "markdown",
      "metadata": {
        "id": "OVfM6a5GLrg0"
      },
      "source": [
        "이를 지난 주에 학습했던 CountVectorizer를 사용하여 \\\n",
        "TF-IDF 형태로 만들어 봅시다!!"
      ]
    },
    {
      "cell_type": "code",
      "execution_count": null,
      "metadata": {
        "id": "rJhRkuocLrg0"
      },
      "outputs": [],
      "source": [
        "vectorizer = CountVectorizer(tokenizer=bigram_tokenizer)\n",
        "x = vectorizer.fit_transform(docs)"
      ]
    },
    {
      "cell_type": "markdown",
      "metadata": {
        "id": "5QJhkYQQLrg1"
      },
      "source": [
        "뉴스를 TF-IDF 행렬로 변환한 것이 x 입니다.\n",
        "x가 (가로,세로) 얼마나 되는지 살펴봅시다."
      ]
    },
    {
      "cell_type": "code",
      "execution_count": null,
      "metadata": {
        "id": "_Mo2AtcfLrg1",
        "outputId": "f02ffb5a-3e26-4662-db90-584cf619f504"
      },
      "outputs": [
        {
          "data": {
            "text/plain": [
              "(965, 18835)"
            ]
          },
          "execution_count": 19,
          "metadata": {},
          "output_type": "execute_result"
        }
      ],
      "source": [
        "x.shape"
      ]
    },
    {
      "cell_type": "markdown",
      "metadata": {
        "id": "UFX_XwiBLrg1"
      },
      "source": [
        "tf 벡터를 데이터프레임(dataframe)형태로 바꾸어 실제 출력해 봅시다."
      ]
    },
    {
      "cell_type": "code",
      "execution_count": null,
      "metadata": {
        "id": "KQ47sHyXLrg1",
        "outputId": "7b6506e0-03f2-4987-aacf-a178c3cfef36"
      },
      "outputs": [
        {
          "name": "stderr",
          "output_type": "stream",
          "text": [
            "c:\\Python310\\lib\\site-packages\\sklearn\\utils\\deprecation.py:87: FutureWarning: Function get_feature_names is deprecated; get_feature_names is deprecated in 1.0 and will be removed in 1.2. Please use get_feature_names_out instead.\n",
            "  warnings.warn(msg, category=FutureWarning)\n"
          ]
        },
        {
          "data": {
            "text/html": [
              "<div>\n",
              "<style scoped>\n",
              "    .dataframe tbody tr th:only-of-type {\n",
              "        vertical-align: middle;\n",
              "    }\n",
              "\n",
              "    .dataframe tbody tr th {\n",
              "        vertical-align: top;\n",
              "    }\n",
              "\n",
              "    .dataframe thead th {\n",
              "        text-align: right;\n",
              "    }\n",
              "</style>\n",
              "<table border=\"1\" class=\"dataframe\">\n",
              "  <thead>\n",
              "    <tr style=\"text-align: right;\">\n",
              "      <th></th>\n",
              "      <th>0/SN</th>\n",
              "      <th>00/SN</th>\n",
              "      <th>000/SN</th>\n",
              "      <th>0015/SN</th>\n",
              "      <th>003550/SN</th>\n",
              "      <th>01/SN</th>\n",
              "      <th>02/SN</th>\n",
              "      <th>0209/SN</th>\n",
              "      <th>021/SN</th>\n",
              "      <th>0279/SN</th>\n",
              "      <th>...</th>\n",
              "      <th>힐러리 클린턴/NNP</th>\n",
              "      <th>힐러리/NNP</th>\n",
              "      <th>힐링/NNP</th>\n",
              "      <th>힘/NNG</th>\n",
              "      <th>힘겹/VA</th>\n",
              "      <th>힘들/VA</th>\n",
              "      <th>힘쓰/VV</th>\n",
              "      <th>힘입/VV</th>\n",
              "      <th>힘입/VV-어/EC</th>\n",
              "      <th>힙합/NNP</th>\n",
              "    </tr>\n",
              "  </thead>\n",
              "  <tbody>\n",
              "    <tr>\n",
              "      <th>0</th>\n",
              "      <td>0</td>\n",
              "      <td>0</td>\n",
              "      <td>0</td>\n",
              "      <td>0</td>\n",
              "      <td>0</td>\n",
              "      <td>0</td>\n",
              "      <td>0</td>\n",
              "      <td>0</td>\n",
              "      <td>0</td>\n",
              "      <td>0</td>\n",
              "      <td>...</td>\n",
              "      <td>0</td>\n",
              "      <td>0</td>\n",
              "      <td>0</td>\n",
              "      <td>0</td>\n",
              "      <td>0</td>\n",
              "      <td>0</td>\n",
              "      <td>0</td>\n",
              "      <td>0</td>\n",
              "      <td>0</td>\n",
              "      <td>0</td>\n",
              "    </tr>\n",
              "    <tr>\n",
              "      <th>1</th>\n",
              "      <td>0</td>\n",
              "      <td>0</td>\n",
              "      <td>0</td>\n",
              "      <td>0</td>\n",
              "      <td>0</td>\n",
              "      <td>0</td>\n",
              "      <td>0</td>\n",
              "      <td>0</td>\n",
              "      <td>0</td>\n",
              "      <td>0</td>\n",
              "      <td>...</td>\n",
              "      <td>0</td>\n",
              "      <td>0</td>\n",
              "      <td>0</td>\n",
              "      <td>0</td>\n",
              "      <td>0</td>\n",
              "      <td>0</td>\n",
              "      <td>0</td>\n",
              "      <td>0</td>\n",
              "      <td>0</td>\n",
              "      <td>0</td>\n",
              "    </tr>\n",
              "    <tr>\n",
              "      <th>2</th>\n",
              "      <td>0</td>\n",
              "      <td>0</td>\n",
              "      <td>0</td>\n",
              "      <td>0</td>\n",
              "      <td>0</td>\n",
              "      <td>0</td>\n",
              "      <td>0</td>\n",
              "      <td>0</td>\n",
              "      <td>0</td>\n",
              "      <td>0</td>\n",
              "      <td>...</td>\n",
              "      <td>0</td>\n",
              "      <td>0</td>\n",
              "      <td>0</td>\n",
              "      <td>0</td>\n",
              "      <td>0</td>\n",
              "      <td>0</td>\n",
              "      <td>0</td>\n",
              "      <td>0</td>\n",
              "      <td>0</td>\n",
              "      <td>0</td>\n",
              "    </tr>\n",
              "    <tr>\n",
              "      <th>3</th>\n",
              "      <td>0</td>\n",
              "      <td>0</td>\n",
              "      <td>0</td>\n",
              "      <td>0</td>\n",
              "      <td>0</td>\n",
              "      <td>0</td>\n",
              "      <td>0</td>\n",
              "      <td>0</td>\n",
              "      <td>0</td>\n",
              "      <td>0</td>\n",
              "      <td>...</td>\n",
              "      <td>0</td>\n",
              "      <td>0</td>\n",
              "      <td>0</td>\n",
              "      <td>0</td>\n",
              "      <td>0</td>\n",
              "      <td>0</td>\n",
              "      <td>0</td>\n",
              "      <td>0</td>\n",
              "      <td>0</td>\n",
              "      <td>0</td>\n",
              "    </tr>\n",
              "    <tr>\n",
              "      <th>4</th>\n",
              "      <td>0</td>\n",
              "      <td>0</td>\n",
              "      <td>0</td>\n",
              "      <td>0</td>\n",
              "      <td>0</td>\n",
              "      <td>0</td>\n",
              "      <td>0</td>\n",
              "      <td>0</td>\n",
              "      <td>0</td>\n",
              "      <td>0</td>\n",
              "      <td>...</td>\n",
              "      <td>0</td>\n",
              "      <td>0</td>\n",
              "      <td>0</td>\n",
              "      <td>0</td>\n",
              "      <td>0</td>\n",
              "      <td>0</td>\n",
              "      <td>0</td>\n",
              "      <td>0</td>\n",
              "      <td>0</td>\n",
              "      <td>0</td>\n",
              "    </tr>\n",
              "    <tr>\n",
              "      <th>...</th>\n",
              "      <td>...</td>\n",
              "      <td>...</td>\n",
              "      <td>...</td>\n",
              "      <td>...</td>\n",
              "      <td>...</td>\n",
              "      <td>...</td>\n",
              "      <td>...</td>\n",
              "      <td>...</td>\n",
              "      <td>...</td>\n",
              "      <td>...</td>\n",
              "      <td>...</td>\n",
              "      <td>...</td>\n",
              "      <td>...</td>\n",
              "      <td>...</td>\n",
              "      <td>...</td>\n",
              "      <td>...</td>\n",
              "      <td>...</td>\n",
              "      <td>...</td>\n",
              "      <td>...</td>\n",
              "      <td>...</td>\n",
              "      <td>...</td>\n",
              "    </tr>\n",
              "    <tr>\n",
              "      <th>960</th>\n",
              "      <td>0</td>\n",
              "      <td>0</td>\n",
              "      <td>0</td>\n",
              "      <td>0</td>\n",
              "      <td>0</td>\n",
              "      <td>0</td>\n",
              "      <td>0</td>\n",
              "      <td>0</td>\n",
              "      <td>0</td>\n",
              "      <td>0</td>\n",
              "      <td>...</td>\n",
              "      <td>0</td>\n",
              "      <td>0</td>\n",
              "      <td>0</td>\n",
              "      <td>0</td>\n",
              "      <td>0</td>\n",
              "      <td>0</td>\n",
              "      <td>0</td>\n",
              "      <td>0</td>\n",
              "      <td>0</td>\n",
              "      <td>0</td>\n",
              "    </tr>\n",
              "    <tr>\n",
              "      <th>961</th>\n",
              "      <td>0</td>\n",
              "      <td>0</td>\n",
              "      <td>0</td>\n",
              "      <td>0</td>\n",
              "      <td>0</td>\n",
              "      <td>0</td>\n",
              "      <td>0</td>\n",
              "      <td>0</td>\n",
              "      <td>0</td>\n",
              "      <td>0</td>\n",
              "      <td>...</td>\n",
              "      <td>0</td>\n",
              "      <td>0</td>\n",
              "      <td>0</td>\n",
              "      <td>0</td>\n",
              "      <td>0</td>\n",
              "      <td>0</td>\n",
              "      <td>0</td>\n",
              "      <td>0</td>\n",
              "      <td>0</td>\n",
              "      <td>0</td>\n",
              "    </tr>\n",
              "    <tr>\n",
              "      <th>962</th>\n",
              "      <td>0</td>\n",
              "      <td>0</td>\n",
              "      <td>0</td>\n",
              "      <td>0</td>\n",
              "      <td>0</td>\n",
              "      <td>0</td>\n",
              "      <td>0</td>\n",
              "      <td>0</td>\n",
              "      <td>0</td>\n",
              "      <td>0</td>\n",
              "      <td>...</td>\n",
              "      <td>0</td>\n",
              "      <td>0</td>\n",
              "      <td>0</td>\n",
              "      <td>0</td>\n",
              "      <td>0</td>\n",
              "      <td>0</td>\n",
              "      <td>0</td>\n",
              "      <td>0</td>\n",
              "      <td>0</td>\n",
              "      <td>0</td>\n",
              "    </tr>\n",
              "    <tr>\n",
              "      <th>963</th>\n",
              "      <td>0</td>\n",
              "      <td>0</td>\n",
              "      <td>0</td>\n",
              "      <td>0</td>\n",
              "      <td>0</td>\n",
              "      <td>0</td>\n",
              "      <td>0</td>\n",
              "      <td>0</td>\n",
              "      <td>0</td>\n",
              "      <td>0</td>\n",
              "      <td>...</td>\n",
              "      <td>0</td>\n",
              "      <td>0</td>\n",
              "      <td>0</td>\n",
              "      <td>0</td>\n",
              "      <td>0</td>\n",
              "      <td>0</td>\n",
              "      <td>0</td>\n",
              "      <td>1</td>\n",
              "      <td>0</td>\n",
              "      <td>0</td>\n",
              "    </tr>\n",
              "    <tr>\n",
              "      <th>964</th>\n",
              "      <td>0</td>\n",
              "      <td>0</td>\n",
              "      <td>0</td>\n",
              "      <td>0</td>\n",
              "      <td>0</td>\n",
              "      <td>0</td>\n",
              "      <td>0</td>\n",
              "      <td>0</td>\n",
              "      <td>0</td>\n",
              "      <td>0</td>\n",
              "      <td>...</td>\n",
              "      <td>0</td>\n",
              "      <td>0</td>\n",
              "      <td>0</td>\n",
              "      <td>1</td>\n",
              "      <td>0</td>\n",
              "      <td>0</td>\n",
              "      <td>0</td>\n",
              "      <td>0</td>\n",
              "      <td>0</td>\n",
              "      <td>0</td>\n",
              "    </tr>\n",
              "  </tbody>\n",
              "</table>\n",
              "<p>965 rows × 18835 columns</p>\n",
              "</div>"
            ],
            "text/plain": [
              "     0/SN  00/SN  000/SN  0015/SN  003550/SN  01/SN  02/SN  0209/SN  021/SN  \\\n",
              "0       0      0       0        0          0      0      0        0       0   \n",
              "1       0      0       0        0          0      0      0        0       0   \n",
              "2       0      0       0        0          0      0      0        0       0   \n",
              "3       0      0       0        0          0      0      0        0       0   \n",
              "4       0      0       0        0          0      0      0        0       0   \n",
              "..    ...    ...     ...      ...        ...    ...    ...      ...     ...   \n",
              "960     0      0       0        0          0      0      0        0       0   \n",
              "961     0      0       0        0          0      0      0        0       0   \n",
              "962     0      0       0        0          0      0      0        0       0   \n",
              "963     0      0       0        0          0      0      0        0       0   \n",
              "964     0      0       0        0          0      0      0        0       0   \n",
              "\n",
              "     0279/SN  ...  힐러리 클린턴/NNP  힐러리/NNP  힐링/NNP  힘/NNG  힘겹/VA  힘들/VA  힘쓰/VV  \\\n",
              "0          0  ...            0        0       0      0      0      0      0   \n",
              "1          0  ...            0        0       0      0      0      0      0   \n",
              "2          0  ...            0        0       0      0      0      0      0   \n",
              "3          0  ...            0        0       0      0      0      0      0   \n",
              "4          0  ...            0        0       0      0      0      0      0   \n",
              "..       ...  ...          ...      ...     ...    ...    ...    ...    ...   \n",
              "960        0  ...            0        0       0      0      0      0      0   \n",
              "961        0  ...            0        0       0      0      0      0      0   \n",
              "962        0  ...            0        0       0      0      0      0      0   \n",
              "963        0  ...            0        0       0      0      0      0      0   \n",
              "964        0  ...            0        0       0      1      0      0      0   \n",
              "\n",
              "     힘입/VV  힘입/VV-어/EC  힙합/NNP  \n",
              "0        0           0       0  \n",
              "1        0           0       0  \n",
              "2        0           0       0  \n",
              "3        0           0       0  \n",
              "4        0           0       0  \n",
              "..     ...         ...     ...  \n",
              "960      0           0       0  \n",
              "961      0           0       0  \n",
              "962      0           0       0  \n",
              "963      1           0       0  \n",
              "964      0           0       0  \n",
              "\n",
              "[965 rows x 18835 columns]"
            ]
          },
          "execution_count": 20,
          "metadata": {},
          "output_type": "execute_result"
        }
      ],
      "source": [
        "tf = pd.DataFrame(x.toarray(), columns=vectorizer.get_feature_names())\n",
        "# 변환한 내용 출력하기!!\n",
        "tf"
      ]
    },
    {
      "cell_type": "markdown",
      "metadata": {
        "id": "5cQStz5lLrg2"
      },
      "source": [
        "이전 시간에 했던 TF-IDF 실습을 이어서 적용해 보겠습니다!!"
      ]
    },
    {
      "cell_type": "code",
      "execution_count": null,
      "metadata": {
        "id": "1JvzT9JsLrg2"
      },
      "outputs": [],
      "source": [
        "D = len(tf)\n",
        "df = tf.astype(bool).sum(axis=0)\n",
        "idf = np.log((D+1) / (df+1)) + 1"
      ]
    },
    {
      "cell_type": "code",
      "execution_count": null,
      "metadata": {
        "id": "LTBB17muLrg2",
        "outputId": "dec74f54-d259-4155-bd4e-e5eec7e24e5e"
      },
      "outputs": [
        {
          "data": {
            "text/plain": [
              "0/SN          56\n",
              "00/SN          4\n",
              "000/SN         7\n",
              "0015/SN        1\n",
              "003550/SN      1\n",
              "              ..\n",
              "힘들/VA         11\n",
              "힘쓰/VV          4\n",
              "힘입/VV         14\n",
              "힘입/VV-어/EC    13\n",
              "힙합/NNP         1\n",
              "Length: 18835, dtype: int64"
            ]
          },
          "execution_count": 22,
          "metadata": {},
          "output_type": "execute_result"
        }
      ],
      "source": [
        "df"
      ]
    },
    {
      "cell_type": "code",
      "execution_count": null,
      "metadata": {
        "id": "qui2QVepLrg2",
        "outputId": "4ee1fe6c-a490-4243-ae9a-b54330cd107d"
      },
      "outputs": [
        {
          "data": {
            "text/plain": [
              "0/SN          3.830113\n",
              "00/SN         6.263726\n",
              "000/SN        5.793722\n",
              "0015/SN       7.180017\n",
              "003550/SN     7.180017\n",
              "                ...   \n",
              "힘들/VA         5.388257\n",
              "힘쓰/VV         6.263726\n",
              "힘입/VV         5.165114\n",
              "힘입/VV-어/EC    5.234107\n",
              "힙합/NNP        7.180017\n",
              "Length: 18835, dtype: float64"
            ]
          },
          "execution_count": 23,
          "metadata": {},
          "output_type": "execute_result"
        }
      ],
      "source": [
        "idf"
      ]
    },
    {
      "cell_type": "code",
      "execution_count": null,
      "metadata": {
        "id": "DEbN3ZDBLrg3"
      },
      "outputs": [],
      "source": [
        "# TF-IDF (Term Frequency-Inverse Document Frequency)\n",
        "tfidf = tf * idf\n",
        "tfidf = tfidf / np.linalg.norm(tfidf, axis=1, keepdims=True) #정규화 normalisation"
      ]
    },
    {
      "cell_type": "code",
      "execution_count": null,
      "metadata": {
        "id": "r3vlfAJoLrg3",
        "outputId": "f3664141-35f9-4aca-afd1-191d5a8d6fe3"
      },
      "outputs": [
        {
          "data": {
            "text/html": [
              "<div>\n",
              "<style scoped>\n",
              "    .dataframe tbody tr th:only-of-type {\n",
              "        vertical-align: middle;\n",
              "    }\n",
              "\n",
              "    .dataframe tbody tr th {\n",
              "        vertical-align: top;\n",
              "    }\n",
              "\n",
              "    .dataframe thead th {\n",
              "        text-align: right;\n",
              "    }\n",
              "</style>\n",
              "<table border=\"1\" class=\"dataframe\">\n",
              "  <thead>\n",
              "    <tr style=\"text-align: right;\">\n",
              "      <th></th>\n",
              "      <th>0/SN</th>\n",
              "      <th>00/SN</th>\n",
              "      <th>000/SN</th>\n",
              "      <th>0015/SN</th>\n",
              "      <th>003550/SN</th>\n",
              "      <th>01/SN</th>\n",
              "      <th>02/SN</th>\n",
              "      <th>0209/SN</th>\n",
              "      <th>021/SN</th>\n",
              "      <th>0279/SN</th>\n",
              "      <th>...</th>\n",
              "      <th>힐러리 클린턴/NNP</th>\n",
              "      <th>힐러리/NNP</th>\n",
              "      <th>힐링/NNP</th>\n",
              "      <th>힘/NNG</th>\n",
              "      <th>힘겹/VA</th>\n",
              "      <th>힘들/VA</th>\n",
              "      <th>힘쓰/VV</th>\n",
              "      <th>힘입/VV</th>\n",
              "      <th>힘입/VV-어/EC</th>\n",
              "      <th>힙합/NNP</th>\n",
              "    </tr>\n",
              "  </thead>\n",
              "  <tbody>\n",
              "    <tr>\n",
              "      <th>0</th>\n",
              "      <td>0.0</td>\n",
              "      <td>0.0</td>\n",
              "      <td>0.0</td>\n",
              "      <td>0.0</td>\n",
              "      <td>0.0</td>\n",
              "      <td>0.0</td>\n",
              "      <td>0.0</td>\n",
              "      <td>0.0</td>\n",
              "      <td>0.0</td>\n",
              "      <td>0.0</td>\n",
              "      <td>...</td>\n",
              "      <td>0.0</td>\n",
              "      <td>0.0</td>\n",
              "      <td>0.0</td>\n",
              "      <td>0.000000</td>\n",
              "      <td>0.0</td>\n",
              "      <td>0.0</td>\n",
              "      <td>0.0</td>\n",
              "      <td>0.000000</td>\n",
              "      <td>0.0</td>\n",
              "      <td>0.0</td>\n",
              "    </tr>\n",
              "    <tr>\n",
              "      <th>1</th>\n",
              "      <td>0.0</td>\n",
              "      <td>0.0</td>\n",
              "      <td>0.0</td>\n",
              "      <td>0.0</td>\n",
              "      <td>0.0</td>\n",
              "      <td>0.0</td>\n",
              "      <td>0.0</td>\n",
              "      <td>0.0</td>\n",
              "      <td>0.0</td>\n",
              "      <td>0.0</td>\n",
              "      <td>...</td>\n",
              "      <td>0.0</td>\n",
              "      <td>0.0</td>\n",
              "      <td>0.0</td>\n",
              "      <td>0.000000</td>\n",
              "      <td>0.0</td>\n",
              "      <td>0.0</td>\n",
              "      <td>0.0</td>\n",
              "      <td>0.000000</td>\n",
              "      <td>0.0</td>\n",
              "      <td>0.0</td>\n",
              "    </tr>\n",
              "    <tr>\n",
              "      <th>2</th>\n",
              "      <td>0.0</td>\n",
              "      <td>0.0</td>\n",
              "      <td>0.0</td>\n",
              "      <td>0.0</td>\n",
              "      <td>0.0</td>\n",
              "      <td>0.0</td>\n",
              "      <td>0.0</td>\n",
              "      <td>0.0</td>\n",
              "      <td>0.0</td>\n",
              "      <td>0.0</td>\n",
              "      <td>...</td>\n",
              "      <td>0.0</td>\n",
              "      <td>0.0</td>\n",
              "      <td>0.0</td>\n",
              "      <td>0.000000</td>\n",
              "      <td>0.0</td>\n",
              "      <td>0.0</td>\n",
              "      <td>0.0</td>\n",
              "      <td>0.000000</td>\n",
              "      <td>0.0</td>\n",
              "      <td>0.0</td>\n",
              "    </tr>\n",
              "    <tr>\n",
              "      <th>3</th>\n",
              "      <td>0.0</td>\n",
              "      <td>0.0</td>\n",
              "      <td>0.0</td>\n",
              "      <td>0.0</td>\n",
              "      <td>0.0</td>\n",
              "      <td>0.0</td>\n",
              "      <td>0.0</td>\n",
              "      <td>0.0</td>\n",
              "      <td>0.0</td>\n",
              "      <td>0.0</td>\n",
              "      <td>...</td>\n",
              "      <td>0.0</td>\n",
              "      <td>0.0</td>\n",
              "      <td>0.0</td>\n",
              "      <td>0.000000</td>\n",
              "      <td>0.0</td>\n",
              "      <td>0.0</td>\n",
              "      <td>0.0</td>\n",
              "      <td>0.000000</td>\n",
              "      <td>0.0</td>\n",
              "      <td>0.0</td>\n",
              "    </tr>\n",
              "    <tr>\n",
              "      <th>4</th>\n",
              "      <td>0.0</td>\n",
              "      <td>0.0</td>\n",
              "      <td>0.0</td>\n",
              "      <td>0.0</td>\n",
              "      <td>0.0</td>\n",
              "      <td>0.0</td>\n",
              "      <td>0.0</td>\n",
              "      <td>0.0</td>\n",
              "      <td>0.0</td>\n",
              "      <td>0.0</td>\n",
              "      <td>...</td>\n",
              "      <td>0.0</td>\n",
              "      <td>0.0</td>\n",
              "      <td>0.0</td>\n",
              "      <td>0.000000</td>\n",
              "      <td>0.0</td>\n",
              "      <td>0.0</td>\n",
              "      <td>0.0</td>\n",
              "      <td>0.000000</td>\n",
              "      <td>0.0</td>\n",
              "      <td>0.0</td>\n",
              "    </tr>\n",
              "    <tr>\n",
              "      <th>...</th>\n",
              "      <td>...</td>\n",
              "      <td>...</td>\n",
              "      <td>...</td>\n",
              "      <td>...</td>\n",
              "      <td>...</td>\n",
              "      <td>...</td>\n",
              "      <td>...</td>\n",
              "      <td>...</td>\n",
              "      <td>...</td>\n",
              "      <td>...</td>\n",
              "      <td>...</td>\n",
              "      <td>...</td>\n",
              "      <td>...</td>\n",
              "      <td>...</td>\n",
              "      <td>...</td>\n",
              "      <td>...</td>\n",
              "      <td>...</td>\n",
              "      <td>...</td>\n",
              "      <td>...</td>\n",
              "      <td>...</td>\n",
              "      <td>...</td>\n",
              "    </tr>\n",
              "    <tr>\n",
              "      <th>960</th>\n",
              "      <td>0.0</td>\n",
              "      <td>0.0</td>\n",
              "      <td>0.0</td>\n",
              "      <td>0.0</td>\n",
              "      <td>0.0</td>\n",
              "      <td>0.0</td>\n",
              "      <td>0.0</td>\n",
              "      <td>0.0</td>\n",
              "      <td>0.0</td>\n",
              "      <td>0.0</td>\n",
              "      <td>...</td>\n",
              "      <td>0.0</td>\n",
              "      <td>0.0</td>\n",
              "      <td>0.0</td>\n",
              "      <td>0.000000</td>\n",
              "      <td>0.0</td>\n",
              "      <td>0.0</td>\n",
              "      <td>0.0</td>\n",
              "      <td>0.000000</td>\n",
              "      <td>0.0</td>\n",
              "      <td>0.0</td>\n",
              "    </tr>\n",
              "    <tr>\n",
              "      <th>961</th>\n",
              "      <td>0.0</td>\n",
              "      <td>0.0</td>\n",
              "      <td>0.0</td>\n",
              "      <td>0.0</td>\n",
              "      <td>0.0</td>\n",
              "      <td>0.0</td>\n",
              "      <td>0.0</td>\n",
              "      <td>0.0</td>\n",
              "      <td>0.0</td>\n",
              "      <td>0.0</td>\n",
              "      <td>...</td>\n",
              "      <td>0.0</td>\n",
              "      <td>0.0</td>\n",
              "      <td>0.0</td>\n",
              "      <td>0.000000</td>\n",
              "      <td>0.0</td>\n",
              "      <td>0.0</td>\n",
              "      <td>0.0</td>\n",
              "      <td>0.000000</td>\n",
              "      <td>0.0</td>\n",
              "      <td>0.0</td>\n",
              "    </tr>\n",
              "    <tr>\n",
              "      <th>962</th>\n",
              "      <td>0.0</td>\n",
              "      <td>0.0</td>\n",
              "      <td>0.0</td>\n",
              "      <td>0.0</td>\n",
              "      <td>0.0</td>\n",
              "      <td>0.0</td>\n",
              "      <td>0.0</td>\n",
              "      <td>0.0</td>\n",
              "      <td>0.0</td>\n",
              "      <td>0.0</td>\n",
              "      <td>...</td>\n",
              "      <td>0.0</td>\n",
              "      <td>0.0</td>\n",
              "      <td>0.0</td>\n",
              "      <td>0.000000</td>\n",
              "      <td>0.0</td>\n",
              "      <td>0.0</td>\n",
              "      <td>0.0</td>\n",
              "      <td>0.000000</td>\n",
              "      <td>0.0</td>\n",
              "      <td>0.0</td>\n",
              "    </tr>\n",
              "    <tr>\n",
              "      <th>963</th>\n",
              "      <td>0.0</td>\n",
              "      <td>0.0</td>\n",
              "      <td>0.0</td>\n",
              "      <td>0.0</td>\n",
              "      <td>0.0</td>\n",
              "      <td>0.0</td>\n",
              "      <td>0.0</td>\n",
              "      <td>0.0</td>\n",
              "      <td>0.0</td>\n",
              "      <td>0.0</td>\n",
              "      <td>...</td>\n",
              "      <td>0.0</td>\n",
              "      <td>0.0</td>\n",
              "      <td>0.0</td>\n",
              "      <td>0.000000</td>\n",
              "      <td>0.0</td>\n",
              "      <td>0.0</td>\n",
              "      <td>0.0</td>\n",
              "      <td>0.021077</td>\n",
              "      <td>0.0</td>\n",
              "      <td>0.0</td>\n",
              "    </tr>\n",
              "    <tr>\n",
              "      <th>964</th>\n",
              "      <td>0.0</td>\n",
              "      <td>0.0</td>\n",
              "      <td>0.0</td>\n",
              "      <td>0.0</td>\n",
              "      <td>0.0</td>\n",
              "      <td>0.0</td>\n",
              "      <td>0.0</td>\n",
              "      <td>0.0</td>\n",
              "      <td>0.0</td>\n",
              "      <td>0.0</td>\n",
              "      <td>...</td>\n",
              "      <td>0.0</td>\n",
              "      <td>0.0</td>\n",
              "      <td>0.0</td>\n",
              "      <td>0.021801</td>\n",
              "      <td>0.0</td>\n",
              "      <td>0.0</td>\n",
              "      <td>0.0</td>\n",
              "      <td>0.000000</td>\n",
              "      <td>0.0</td>\n",
              "      <td>0.0</td>\n",
              "    </tr>\n",
              "  </tbody>\n",
              "</table>\n",
              "<p>965 rows × 18835 columns</p>\n",
              "</div>"
            ],
            "text/plain": [
              "     0/SN  00/SN  000/SN  0015/SN  003550/SN  01/SN  02/SN  0209/SN  021/SN  \\\n",
              "0     0.0    0.0     0.0      0.0        0.0    0.0    0.0      0.0     0.0   \n",
              "1     0.0    0.0     0.0      0.0        0.0    0.0    0.0      0.0     0.0   \n",
              "2     0.0    0.0     0.0      0.0        0.0    0.0    0.0      0.0     0.0   \n",
              "3     0.0    0.0     0.0      0.0        0.0    0.0    0.0      0.0     0.0   \n",
              "4     0.0    0.0     0.0      0.0        0.0    0.0    0.0      0.0     0.0   \n",
              "..    ...    ...     ...      ...        ...    ...    ...      ...     ...   \n",
              "960   0.0    0.0     0.0      0.0        0.0    0.0    0.0      0.0     0.0   \n",
              "961   0.0    0.0     0.0      0.0        0.0    0.0    0.0      0.0     0.0   \n",
              "962   0.0    0.0     0.0      0.0        0.0    0.0    0.0      0.0     0.0   \n",
              "963   0.0    0.0     0.0      0.0        0.0    0.0    0.0      0.0     0.0   \n",
              "964   0.0    0.0     0.0      0.0        0.0    0.0    0.0      0.0     0.0   \n",
              "\n",
              "     0279/SN  ...  힐러리 클린턴/NNP  힐러리/NNP  힐링/NNP     힘/NNG  힘겹/VA  힘들/VA  \\\n",
              "0        0.0  ...          0.0      0.0     0.0  0.000000    0.0    0.0   \n",
              "1        0.0  ...          0.0      0.0     0.0  0.000000    0.0    0.0   \n",
              "2        0.0  ...          0.0      0.0     0.0  0.000000    0.0    0.0   \n",
              "3        0.0  ...          0.0      0.0     0.0  0.000000    0.0    0.0   \n",
              "4        0.0  ...          0.0      0.0     0.0  0.000000    0.0    0.0   \n",
              "..       ...  ...          ...      ...     ...       ...    ...    ...   \n",
              "960      0.0  ...          0.0      0.0     0.0  0.000000    0.0    0.0   \n",
              "961      0.0  ...          0.0      0.0     0.0  0.000000    0.0    0.0   \n",
              "962      0.0  ...          0.0      0.0     0.0  0.000000    0.0    0.0   \n",
              "963      0.0  ...          0.0      0.0     0.0  0.000000    0.0    0.0   \n",
              "964      0.0  ...          0.0      0.0     0.0  0.021801    0.0    0.0   \n",
              "\n",
              "     힘쓰/VV     힘입/VV  힘입/VV-어/EC  힙합/NNP  \n",
              "0      0.0  0.000000         0.0     0.0  \n",
              "1      0.0  0.000000         0.0     0.0  \n",
              "2      0.0  0.000000         0.0     0.0  \n",
              "3      0.0  0.000000         0.0     0.0  \n",
              "4      0.0  0.000000         0.0     0.0  \n",
              "..     ...       ...         ...     ...  \n",
              "960    0.0  0.000000         0.0     0.0  \n",
              "961    0.0  0.000000         0.0     0.0  \n",
              "962    0.0  0.000000         0.0     0.0  \n",
              "963    0.0  0.021077         0.0     0.0  \n",
              "964    0.0  0.000000         0.0     0.0  \n",
              "\n",
              "[965 rows x 18835 columns]"
            ]
          },
          "execution_count": 25,
          "metadata": {},
          "output_type": "execute_result"
        }
      ],
      "source": [
        "tfidf"
      ]
    },
    {
      "cell_type": "markdown",
      "metadata": {
        "id": "IKMOVY08Lrg3"
      },
      "source": []
    },
    {
      "cell_type": "code",
      "execution_count": null,
      "metadata": {
        "id": "K_-Es0XiLrg3",
        "outputId": "a44c3c50-4684-43af-adcc-4c53b7b09e26"
      },
      "outputs": [
        {
          "data": {
            "text/plain": [
              "0      0.000000\n",
              "1      0.020034\n",
              "2      0.023786\n",
              "3      0.027759\n",
              "4      0.065555\n",
              "         ...   \n",
              "960    0.009293\n",
              "961    0.017634\n",
              "962    0.013285\n",
              "963    0.004249\n",
              "964    0.012639\n",
              "Name: 연합뉴스/NNP, Length: 965, dtype: float64"
            ]
          },
          "execution_count": 26,
          "metadata": {},
          "output_type": "execute_result"
        }
      ],
      "source": [
        "tfidf[:]['연합뉴스/NNP']"
      ]
    },
    {
      "cell_type": "markdown",
      "metadata": {
        "id": "tBwwI8U9Lrg3"
      },
      "source": []
    }
  ],
  "metadata": {
    "kernelspec": {
      "display_name": "Python 3.10.7 ('Python310')",
      "language": "python",
      "name": "python3"
    },
    "language_info": {
      "codemirror_mode": {
        "name": "ipython",
        "version": 3
      },
      "file_extension": ".py",
      "mimetype": "text/x-python",
      "name": "python",
      "nbconvert_exporter": "python",
      "pygments_lexer": "ipython3",
      "version": "3.10.7"
    },
    "vscode": {
      "interpreter": {
        "hash": "ffc30bce146115a487e88e13620efc04159c97195effb2b786c92c140869cf1c"
      }
    },
    "colab": {
      "provenance": [],
      "include_colab_link": true
    }
  },
  "nbformat": 4,
  "nbformat_minor": 0
}