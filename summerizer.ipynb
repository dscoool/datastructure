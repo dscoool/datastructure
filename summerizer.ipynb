{
  "cells": [
    {
      "cell_type": "markdown",
      "metadata": {
        "id": "view-in-github",
        "colab_type": "text"
      },
      "source": [
        "<a href=\"https://colab.research.google.com/github/dscoool/datastructure/blob/main/summerizer.ipynb\" target=\"_parent\"><img src=\"https://colab.research.google.com/assets/colab-badge.svg\" alt=\"Open In Colab\"/></a>"
      ]
    },
    {
      "cell_type": "markdown",
      "metadata": {
        "id": "tgxpo6z2LMmn"
      },
      "source": [
        "### NLP 문장 요약하기\n",
        "\n",
        "이번 단원에서는 인터넷 상의 뉴스 기사를 가져와, NLP로 문장을 요약하는 방법에 대해 실습해 보겠습니다!!\n"
      ]
    },
    {
      "cell_type": "markdown",
      "metadata": {
        "id": "RJpF0bEULMmq"
      },
      "source": [
        "먼저 gensim 및 newspaper3k를 설치해 줍니다.\n",
        "gensim==3.6.0으로 버전을 지정해 주세요."
      ]
    },
    {
      "cell_type": "code",
      "execution_count": null,
      "metadata": {
        "colab": {
          "base_uri": "https://localhost:8080/"
        },
        "id": "ro0YuBsFTRo7",
        "outputId": "249c2b76-d111-4b24-8626-b51128eaeaa4"
      },
      "outputs": [
        {
          "name": "stdout",
          "output_type": "stream",
          "text": [
            "Requirement already satisfied: gensim==3.6.0 in c:\\python310\\lib\\site-packages (3.6.0)\n",
            "Requirement already satisfied: newspaper3k in c:\\python310\\lib\\site-packages (0.2.8)\n",
            "Requirement already satisfied: six>=1.5.0 in c:\\python310\\lib\\site-packages (from gensim==3.6.0) (1.16.0)\n",
            "Requirement already satisfied: scipy>=0.18.1 in c:\\python310\\lib\\site-packages (from gensim==3.6.0) (1.9.1)\n",
            "Requirement already satisfied: numpy>=1.11.3 in c:\\python310\\lib\\site-packages (from gensim==3.6.0) (1.23.3)\n",
            "Requirement already satisfied: smart-open>=1.2.1 in c:\\python310\\lib\\site-packages (from gensim==3.6.0) (6.2.0)\n",
            "Requirement already satisfied: beautifulsoup4>=4.4.1 in c:\\python310\\lib\\site-packages (from newspaper3k) (4.11.1)\n",
            "Requirement already satisfied: requests>=2.10.0 in c:\\python310\\lib\\site-packages (from newspaper3k) (2.28.1)\n",
            "Requirement already satisfied: python-dateutil>=2.5.3 in c:\\python310\\lib\\site-packages (from newspaper3k) (2.8.2)\n",
            "Requirement already satisfied: jieba3k>=0.35.1 in c:\\python310\\lib\\site-packages (from newspaper3k) (0.35.1)\n",
            "Requirement already satisfied: PyYAML>=3.11 in c:\\python310\\lib\\site-packages (from newspaper3k) (6.0)\n",
            "Requirement already satisfied: feedfinder2>=0.0.4 in c:\\python310\\lib\\site-packages (from newspaper3k) (0.0.4)\n",
            "Requirement already satisfied: tinysegmenter==0.3 in c:\\python310\\lib\\site-packages (from newspaper3k) (0.3)\n",
            "Requirement already satisfied: feedparser>=5.2.1 in c:\\python310\\lib\\site-packages (from newspaper3k) (6.0.10)\n",
            "Requirement already satisfied: cssselect>=0.9.2 in c:\\python310\\lib\\site-packages (from newspaper3k) (1.2.0)\n",
            "Requirement already satisfied: nltk>=3.2.1 in c:\\python310\\lib\\site-packages (from newspaper3k) (3.7)\n",
            "Requirement already satisfied: lxml>=3.6.0 in c:\\python310\\lib\\site-packages (from newspaper3k) (4.9.1)\n",
            "Requirement already satisfied: Pillow>=3.3.0 in c:\\python310\\lib\\site-packages (from newspaper3k) (9.2.0)\n",
            "Requirement already satisfied: tldextract>=2.0.1 in c:\\python310\\lib\\site-packages (from newspaper3k) (3.4.0)\n",
            "Requirement already satisfied: soupsieve>1.2 in c:\\python310\\lib\\site-packages (from beautifulsoup4>=4.4.1->newspaper3k) (2.3.2.post1)\n",
            "Requirement already satisfied: sgmllib3k in c:\\python310\\lib\\site-packages (from feedparser>=5.2.1->newspaper3k) (1.0.0)\n",
            "Requirement already satisfied: click in c:\\python310\\lib\\site-packages (from nltk>=3.2.1->newspaper3k) (8.1.3)\n",
            "Requirement already satisfied: regex>=2021.8.3 in c:\\python310\\lib\\site-packages (from nltk>=3.2.1->newspaper3k) (2022.10.31)\n",
            "Requirement already satisfied: joblib in c:\\python310\\lib\\site-packages (from nltk>=3.2.1->newspaper3k) (1.2.0)\n",
            "Requirement already satisfied: tqdm in c:\\python310\\lib\\site-packages (from nltk>=3.2.1->newspaper3k) (4.64.1)\n",
            "Requirement already satisfied: urllib3<1.27,>=1.21.1 in c:\\python310\\lib\\site-packages (from requests>=2.10.0->newspaper3k) (1.26.12)\n",
            "Requirement already satisfied: charset-normalizer<3,>=2 in c:\\python310\\lib\\site-packages (from requests>=2.10.0->newspaper3k) (2.1.1)\n",
            "Requirement already satisfied: certifi>=2017.4.17 in c:\\python310\\lib\\site-packages (from requests>=2.10.0->newspaper3k) (2022.9.24)\n",
            "Requirement already satisfied: idna<4,>=2.5 in c:\\python310\\lib\\site-packages (from requests>=2.10.0->newspaper3k) (3.4)\n",
            "Requirement already satisfied: requests-file>=1.4 in c:\\python310\\lib\\site-packages (from tldextract>=2.0.1->newspaper3k) (1.5.1)\n",
            "Requirement already satisfied: filelock>=3.0.8 in c:\\python310\\lib\\site-packages (from tldextract>=2.0.1->newspaper3k) (3.8.0)\n",
            "Requirement already satisfied: colorama in c:\\python310\\lib\\site-packages (from click->nltk>=3.2.1->newspaper3k) (0.4.5)\n"
          ]
        },
        {
          "name": "stderr",
          "output_type": "stream",
          "text": [
            "\n",
            "[notice] A new release of pip available: 22.3 -> 22.3.1\n",
            "[notice] To update, run: python.exe -m pip install --upgrade pip\n"
          ]
        }
      ],
      "source": [
        "!pip install gensim==3.6.0 newspaper3k"
      ]
    },
    {
      "cell_type": "code",
      "execution_count": null,
      "metadata": {
        "id": "ijo0BvcNLMmt",
        "outputId": "9365bb8b-2816-4e2d-8592-cd395743333d"
      },
      "outputs": [
        {
          "name": "stderr",
          "output_type": "stream",
          "text": [
            "c:\\Python310\\lib\\site-packages\\gensim\\utils.py:1212: UserWarning: detected Windows; aliasing chunkize to chunkize_serial\n",
            "  warnings.warn(\"detected Windows; aliasing chunkize to chunkize_serial\")\n"
          ]
        }
      ],
      "source": [
        "from gensim.summarization.summarizer import summarize\n",
        "from newspaper import Article"
      ]
    },
    {
      "cell_type": "code",
      "execution_count": null,
      "metadata": {
        "id": "ORJGvsYPsq0Z"
      },
      "outputs": [],
      "source": [
        "# 뉴스 기사를 하나 골라 url을 지정해 줍니다.\n",
        "url = 'https://n.news.naver.com/article/296/0000060388?sid=103&cds=news_media_pc'\n",
        "# 언어를 한글로 지정합니다.\n",
        "news = Article(url, language='ko')"
      ]
    },
    {
      "cell_type": "code",
      "execution_count": null,
      "metadata": {
        "id": "AruOgteULMmu",
        "outputId": "27a5d4c7-e0b2-4f88-d92e-a8c4e7524927"
      },
      "outputs": [
        {
          "name": "stdout",
          "output_type": "stream",
          "text": [
            "날씨가 추워지면 찾게 되는 유자는 겨울철 건강차로 유명하다. 모양은 감귤과 비슷하지만, 유자는 신맛이 더 강하다. 11월부터 12월까지 짧은 기간 수확하는데, 예로부터 약용과 식용으로 병행해왔다. 특유의 향긋함과 상큼한 맛이 독특하고, 최근에는 요리와 피부 미용 등 다양하게 활용되고 있다. 초겨울 제철 음식 유자가 건강에 좋은 이유를 알아본다.유자의 과육 및 껍질에는 비타민 B1이 많아 신경염, 무기력 등의 증상이 나타나는 각기병 예방에 도움이 된다. 판토테인산 성분은 피부염 예방에 좋다. 특히이 뛰어나다. 또한 유자는 사과나, 바나나에 비해이나 성장기 어린이의 골격형성에 도움이 된다. 유자는 시력보호, 모세혈관 강화 등에도 효능이 있다.쌀쌀해지는 날씨와 함께 감기 예방을 위해 유자차를 마시곤 한다. 실제로 유자에는이 풍부해이고,하는데 도움을 준다. 칼슘, 인, 철, 요오드 등 몸의 기능 유지에 꼭 필요한 영양소도 많다. 피로를 풀고 신경통을 완화하는데도 효과적이다. 식욕을 증진하고 소화를 촉진하기도 한다.유자의 껍질에는 몸의 산화를 억제하는 항산화 성분인 플라보노이드가 많이 들어 있다. 특히해 피를 깨끗하게 하는 작용을 한다. 혈관이 좁아지는 동맥경화에 이어 심장병, 뇌졸증 등 혈관질환 예방에 도움을 준다. 백혈병 세포를 정상세포로 변화시키고 유방암 세포의 증식 차단에 효과가 있다는 보고도 있다.유자는이 좋다. 구입 후 껍질째 신문지에 싸서 냉장 보관한다. 비타민 C가 풍부한 유자는 철이나 구리가 옆에 있으면 산화가 촉진된다. 금속 용기보다는해야 한다. 유자의 비타민 C는 빛이나 열에 쉽게 파괴되기 때문에 열을 가하지 않고 먹는 것이 좋다. 최근에는 유자의 상큼한 맛과 향을 즐길 수 있는 샐러드 드레싱, 소스, 잼, 식초로 만들어 채소, 과일, 빵 등과 함께 먹는 사람이 많다. 유자 껍질에는 독성이 없어 깨끗이 씻어 다양하게 활용할 수 있다.\n"
          ]
        }
      ],
      "source": [
        "# 다운로드, 파싱\n",
        "news.download()\n",
        "news.parse()\n",
        "# 뉴스 기사를 프린트해줍니다.\n",
        "print(news.text)"
      ]
    },
    {
      "cell_type": "code",
      "execution_count": null,
      "metadata": {
        "colab": {
          "base_uri": "https://localhost:8080/"
        },
        "id": "ozSoHJc7tpiT",
        "outputId": "ca13b99a-e69a-4bf3-cb78-84c84e488d54"
      },
      "outputs": [
        {
          "name": "stdout",
          "output_type": "stream",
          "text": [
            "Package                                       Version\n",
            "--------------------------------------------- -----------\n",
            "anyio                                         3.6.1\n",
            "argon2-cffi                                   21.3.0\n",
            "argon2-cffi-bindings                          21.2.0\n",
            "asttokens                                     2.0.8\n",
            "attrs                                         22.1.0\n",
            "azure-cognitiveservices-vision-computervision 0.9.0\n",
            "azure-common                                  1.1.28\n",
            "azure-core                                    1.26.1\n",
            "backcall                                      0.2.0\n",
            "beautifulsoup4                                4.11.1\n",
            "bleach                                        5.0.1\n",
            "certifi                                       2022.9.24\n",
            "cffi                                          1.15.1\n",
            "charset-normalizer                            2.1.1\n",
            "click                                         8.1.3\n",
            "click-plugins                                 1.1.1\n",
            "cligj                                         0.7.2\n",
            "cloudpickle                                   2.2.0\n",
            "colorama                                      0.4.5\n",
            "contourpy                                     1.0.5\n",
            "cssselect                                     1.2.0\n",
            "cycler                                        0.11.0\n",
            "Cython                                        0.29.28\n",
            "dask                                          2022.10.0\n",
            "debugpy                                       1.6.3\n",
            "decorator                                     5.1.1\n",
            "defusedxml                                    0.7.1\n",
            "distlib                                       0.3.6\n",
            "entrypoints                                   0.4\n",
            "et-xmlfile                                    1.1.0\n",
            "executing                                     1.1.0\n",
            "fastjsonschema                                2.16.2\n",
            "feedfinder2                                   0.0.4\n",
            "feedparser                                    6.0.10\n",
            "filelock                                      3.8.0\n",
            "Fiona                                         1.8.22\n",
            "fire                                          0.4.0\n",
            "fonttools                                     4.37.4\n",
            "fsspec                                        2022.8.2\n",
            "gensim                                        3.6.0\n",
            "geopandas                                     0.12.1\n",
            "idna                                          3.4\n",
            "imbalanced-learn                              0.9.1\n",
            "imblearn                                      0.0\n",
            "ipykernel                                     6.16.0\n",
            "ipython                                       8.5.0\n",
            "ipython-genutils                              0.2.0\n",
            "ipywidgets                                    8.0.2\n",
            "isodate                                       0.6.1\n",
            "jedi                                          0.18.1\n",
            "jieba3k                                       0.35.1\n",
            "Jinja2                                        3.1.2\n",
            "joblib                                        1.2.0\n",
            "JPype1                                        1.4.1\n",
            "jsonschema                                    4.16.0\n",
            "jupyter                                       1.0.0\n",
            "jupyter_client                                7.3.5\n",
            "jupyter-console                               6.4.4\n",
            "jupyter-core                                  4.11.1\n",
            "jupyter-server                                1.21.0\n",
            "jupyterlab-pygments                           0.2.2\n",
            "jupyterlab-widgets                            3.0.3\n",
            "kiwisolver                                    1.4.4\n",
            "konlpy                                        0.6.0\n",
            "lexrankr                                      1.0\n",
            "lightgbm                                      3.3.3\n",
            "locket                                        1.0.0\n",
            "lxml                                          4.9.1\n",
            "MarkupSafe                                    2.1.1\n",
            "matplotlib                                    3.6.0\n",
            "matplotlib-inline                             0.1.6\n",
            "mistune                                       2.0.4\n",
            "mizani                                        0.8.1\n",
            "msrest                                        0.7.1\n",
            "munch                                         2.5.0\n",
            "nbclassic                                     0.4.5\n",
            "nbclient                                      0.7.0\n",
            "nbconvert                                     7.2.1\n",
            "nbformat                                      5.7.0\n",
            "nest-asyncio                                  1.5.6\n",
            "networkx                                      2.8.8\n",
            "newspaper3k                                   0.2.8\n",
            "nltk                                          3.7\n",
            "notebook                                      6.5.1\n",
            "notebook-shim                                 0.1.0\n",
            "numpy                                         1.23.3\n",
            "oauthlib                                      3.2.2\n",
            "opencv-python                                 4.6.0.66\n",
            "openpyxl                                      3.0.10\n",
            "packaging                                     21.3\n",
            "palettable                                    3.3.0\n",
            "pandas                                        1.5.0\n",
            "pandocfilters                                 1.5.0\n",
            "parso                                         0.8.3\n",
            "partd                                         1.3.0\n",
            "pathlib                                       1.0.1\n",
            "patsy                                         0.5.2\n",
            "pickleshare                                   0.7.5\n",
            "Pillow                                        9.2.0\n",
            "pip                                           22.3\n",
            "pipenv                                        2022.10.25\n",
            "platformdirs                                  2.5.2\n",
            "plotnine                                      0.10.1\n",
            "prometheus-client                             0.15.0\n",
            "prompt-toolkit                                3.0.31\n",
            "psutil                                        5.9.2\n",
            "pure-eval                                     0.2.2\n",
            "pycparser                                     2.21\n",
            "Pygments                                      2.13.0\n",
            "pyparsing                                     3.0.9\n",
            "pyproj                                        3.4.0\n",
            "pyrsistent                                    0.18.1\n",
            "pytesseract                                   0.3.10\n",
            "python-dateutil                               2.8.2\n",
            "pytz                                          2022.4\n",
            "pywin32                                       304\n",
            "pywinpty                                      2.0.8\n",
            "PyYAML                                        6.0\n",
            "pyzmq                                         24.0.1\n",
            "qtconsole                                     5.3.2\n",
            "QtPy                                          2.2.1\n",
            "regex                                         2022.10.31\n",
            "requests                                      2.28.1\n",
            "requests-file                                 1.5.1\n",
            "requests-oauthlib                             1.3.1\n",
            "scikit-learn                                  1.1.2\n",
            "scipy                                         1.9.1\n",
            "seaborn                                       0.12.0\n",
            "Send2Trash                                    1.8.0\n",
            "setuptools                                    60.2.0\n",
            "sgmllib3k                                     1.0.0\n",
            "Shapely                                       1.8.5.post1\n",
            "six                                           1.16.0\n",
            "sklearn                                       0.0\n",
            "smart-open                                    6.2.0\n",
            "sniffio                                       1.3.0\n",
            "soupsieve                                     2.3.2.post1\n",
            "soynlp                                        0.0.493\n",
            "stack-data                                    0.5.1\n",
            "stats                                         0.1.2a0\n",
            "statsmodels                                   0.13.2\n",
            "termcolor                                     2.1.0\n",
            "terminado                                     0.16.0\n",
            "textrankr                                     1.1\n",
            "threadpoolctl                                 3.1.0\n",
            "tinycss2                                      1.1.1\n",
            "tinysegmenter                                 0.3\n",
            "tldextract                                    3.4.0\n",
            "toolz                                         0.12.0\n",
            "tornado                                       6.2\n",
            "tqdm                                          4.64.1\n",
            "traitlets                                     5.4.0\n",
            "typing_extensions                             4.4.0\n",
            "tzdata                                        2022.4\n",
            "urllib3                                       1.26.12\n",
            "virtualenv                                    20.16.6\n",
            "virtualenv-clone                              0.5.7\n",
            "wcwidth                                       0.2.5\n",
            "webencodings                                  0.5.1\n",
            "websocket-client                              1.4.1\n",
            "wheel                                         0.37.1\n",
            "widgetsnbextension                            4.0.3\n",
            "xgboost                                       1.6.2\n"
          ]
        },
        {
          "name": "stderr",
          "output_type": "stream",
          "text": [
            "\n",
            "[notice] A new release of pip available: 22.3 -> 22.3.1\n",
            "[notice] To update, run: python.exe -m pip install --upgrade pip\n"
          ]
        },
        {
          "name": "stdout",
          "output_type": "stream",
          "text": [
            "Name: gensim\n",
            "Version: 3.6.0\n",
            "Summary: Python framework for fast Vector Space Modelling\n",
            "Home-page: http://radimrehurek.com/gensim\n",
            "Author: Radim Rehurek\n",
            "Author-email: me@radimrehurek.com\n",
            "License: LGPLv2.1\n",
            "Location: c:\\python310\\lib\\site-packages\n",
            "Requires: numpy, scipy, six, smart-open\n",
            "Required-by: lexrankr\n"
          ]
        }
      ],
      "source": [
        "# 아래 명령어를 입력하면 설치된 package의 버전을 확인할 수 있습니다.\n",
        "!pip list\n",
        "#gensim의 버전 확인\n",
        "!pip show gensim"
      ]
    },
    {
      "cell_type": "markdown",
      "metadata": {
        "id": "O6PYk1h3LMmu"
      },
      "source": []
    },
    {
      "cell_type": "code",
      "execution_count": null,
      "metadata": {
        "colab": {
          "base_uri": "https://localhost:8080/"
        },
        "id": "zPqBW2zztTgO",
        "outputId": "c0e80a2b-0fec-4a76-a568-fa1a83b87ca6"
      },
      "outputs": [
        {
          "name": "stdout",
          "output_type": "stream",
          "text": [
            "초겨울 제철 음식 유자가 건강에 좋은 이유를 알아본다.유자의 과육 및 껍질에는 비타민 B1이 많아 신경염, 무기력 등의 증상이 나타나는 각기병 예방에 도움이 된다.\n",
            "비타민 C가 풍부한 유자는 철이나 구리가 옆에 있으면 산화가 촉진된다.\n",
            "유자의 비타민 C는 빛이나 열에 쉽게 파괴되기 때문에 열을 가하지 않고 먹는 것이 좋다.\n",
            "최근에는 유자의 상큼한 맛과 향을 즐길 수 있는 샐러드 드레싱, 소스, 잼, 식초로 만들어 채소, 과일, 빵 등과 함께 먹는 사람이 많다.\n"
          ]
        }
      ],
      "source": [
        "print(summarize(news.text))"
      ]
    },
    {
      "cell_type": "code",
      "execution_count": null,
      "metadata": {
        "colab": {
          "base_uri": "https://localhost:8080/"
        },
        "id": "9T94KezQtq3U",
        "outputId": "0bab5317-78d7-46c8-ac8a-8d95982ecde0"
      },
      "outputs": [
        {
          "name": "stdout",
          "output_type": "stream",
          "text": [
            "초겨울 제철 음식 유자가 건강에 좋은 이유를 알아본다.유자의 과육 및 껍질에는 비타민 B1이 많아 신경염, 무기력 등의 증상이 나타나는 각기병 예방에 도움이 된다.\n",
            "비타민 C가 풍부한 유자는 철이나 구리가 옆에 있으면 산화가 촉진된다.\n",
            "유자의 비타민 C는 빛이나 열에 쉽게 파괴되기 때문에 열을 가하지 않고 먹는 것이 좋다.\n"
          ]
        }
      ],
      "source": [
        "print(summarize(news.text, word_count=40))"
      ]
    },
    {
      "cell_type": "code",
      "execution_count": null,
      "metadata": {
        "colab": {
          "base_uri": "https://localhost:8080/"
        },
        "id": "GOLd1r1Bts1U",
        "outputId": "329705c1-8ce0-45a9-86d5-6a15e99c1262"
      },
      "outputs": [
        {
          "name": "stdout",
          "output_type": "stream",
          "text": [
            "초겨울 제철 음식 유자가 건강에 좋은 이유를 알아본다.유자의 과육 및 껍질에는 비타민 B1이 많아 신경염, 무기력 등의 증상이 나타나는 각기병 예방에 도움이 된다.\n",
            "비타민 C가 풍부한 유자는 철이나 구리가 옆에 있으면 산화가 촉진된다.\n",
            "유자의 비타민 C는 빛이나 열에 쉽게 파괴되기 때문에 열을 가하지 않고 먹는 것이 좋다.\n",
            "최근에는 유자의 상큼한 맛과 향을 즐길 수 있는 샐러드 드레싱, 소스, 잼, 식초로 만들어 채소, 과일, 빵 등과 함께 먹는 사람이 많다.\n"
          ]
        }
      ],
      "source": [
        "print(summarize(news.text, ratio=0.2))"
      ]
    }
  ],
  "metadata": {
    "colab": {
      "provenance": [],
      "include_colab_link": true
    },
    "kernelspec": {
      "display_name": "Python 3.10.7 ('Python310')",
      "language": "python",
      "name": "python3"
    },
    "language_info": {
      "codemirror_mode": {
        "name": "ipython",
        "version": 3
      },
      "file_extension": ".py",
      "mimetype": "text/x-python",
      "name": "python",
      "nbconvert_exporter": "python",
      "pygments_lexer": "ipython3",
      "version": "3.10.7"
    },
    "vscode": {
      "interpreter": {
        "hash": "ffc30bce146115a487e88e13620efc04159c97195effb2b786c92c140869cf1c"
      }
    }
  },
  "nbformat": 4,
  "nbformat_minor": 0
}