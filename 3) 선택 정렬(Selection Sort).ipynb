{
  "cells": [
    {
      "cell_type": "markdown",
      "metadata": {
        "id": "view-in-github",
        "colab_type": "text"
      },
      "source": [
        "<a href=\"https://colab.research.google.com/github/dscoool/datastructure/blob/main/3)%20%EC%84%A0%ED%83%9D%20%EC%A0%95%EB%A0%AC(Selection%20Sort).ipynb\" target=\"_parent\"><img src=\"https://colab.research.google.com/assets/colab-badge.svg\" alt=\"Open In Colab\"/></a>"
      ]
    },
    {
      "cell_type": "markdown",
      "metadata": {
        "id": "MrAoiScdIj89"
      },
      "source": [
        "## 대표적인 정렬3: 선택 정렬 (selection sort)"
      ]
    },
    {
      "cell_type": "markdown",
      "metadata": {
        "id": "pVAfax8cIj8_"
      },
      "source": [
        "### 1. 선택 정렬 (selection sort) 란?\n",
        "* 다음과 같은 순서를 반복하며 정렬하는 알고리즘\n",
        "  1. 주어진 데이터 중, 최소값을 찾음\n",
        "  2. 해당 최소값을 데이터 맨 앞에 위치한 값과 교체함\n",
        "  3. 맨 앞의 위치를 뺀 나머지 데이터를 동일한 방법으로 반복함\n",
        "\n",
        "#### 직접 눈으로 보면 더 이해가 쉽다: https://visualgo.net/en/sorting\n",
        "\n",
        "<img src=\"https://upload.wikimedia.org/wikipedia/commons/9/94/Selection-Sort-Animation.gif\" width=\"100\">\n",
        "\n",
        "출처: https://en.wikipedia.org/wiki/Selection_sort"
      ]
    },
    {
      "cell_type": "markdown",
      "metadata": {
        "id": "3xjcErLdIj8_"
      },
      "source": [
        "### 2. 알고리즘 구현\n",
        "1. for stand in range(len(data_list) - 1) 로 반복\n",
        "2. lowest = stand 로 놓고,\n",
        "3. for num in range(stand, len(data_list)) stand 이후부터 반복\n",
        "   - 내부 반복문 안에서 data_list[lowest] > data_list[num] 이면,\n",
        "     - lowest = num\n",
        "4. data_list[num], data_list[lowest] = data_list[lowest], data_list[num]   "
      ]
    },
    {
      "cell_type": "code",
      "execution_count": null,
      "metadata": {
        "id": "du74_Y-mIj9A"
      },
      "outputs": [],
      "source": [
        "def selection_sort(data):\n",
        "    for stand in range(len(data) - 1):\n",
        "        lowest = stand\n",
        "        for index in range(stand + 1, len(data)):\n",
        "            if data[lowest] > data[index]:\n",
        "                lowest = index\n",
        "        data[lowest], data[stand] = data[stand], data[lowest]\n",
        "    return data"
      ]
    },
    {
      "cell_type": "code",
      "execution_count": null,
      "metadata": {
        "id": "C1wzHWh4Ij9B"
      },
      "outputs": [],
      "source": [
        "import random\n",
        "\n",
        "data_list = random.sample(range(100), 10)"
      ]
    },
    {
      "cell_type": "code",
      "execution_count": null,
      "metadata": {
        "id": "KSahjyfXIj9B",
        "outputId": "5844678d-ef06-4a5d-f055-43cc3fb11a87"
      },
      "outputs": [
        {
          "data": {
            "text/plain": [
              "[9, 12, 13, 24, 53, 55, 69, 80, 87, 98]"
            ]
          },
          "execution_count": 7,
          "metadata": {},
          "output_type": "execute_result"
        }
      ],
      "source": [
        "selection_sort(data_list)"
      ]
    },
    {
      "cell_type": "markdown",
      "metadata": {
        "id": "kvbIeB3MIj9C"
      },
      "source": [
        "### 3. 알고리즘 분석\n",
        "* 반복문이 두 개 O($n^2$)\n",
        "  - 실제로 상세하게 계산하면, <font size=5em>$\\frac { n * (n - 1)}{ 2 }$</font>"
      ]
    }
  ],
  "metadata": {
    "kernelspec": {
      "display_name": "Python 3",
      "language": "python",
      "name": "python3"
    },
    "language_info": {
      "codemirror_mode": {
        "name": "ipython",
        "version": 3
      },
      "file_extension": ".py",
      "mimetype": "text/x-python",
      "name": "python",
      "nbconvert_exporter": "python",
      "pygments_lexer": "ipython3",
      "version": "3.6.9"
    },
    "nbTranslate": {
      "displayLangs": [
        "*"
      ],
      "hotkey": "alt-t",
      "langInMainMenu": true,
      "sourceLang": "en",
      "targetLang": "fr",
      "useGoogleTranslate": true
    },
    "colab": {
      "provenance": [],
      "include_colab_link": true
    }
  },
  "nbformat": 4,
  "nbformat_minor": 0
}