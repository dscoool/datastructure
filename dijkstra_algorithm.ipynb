{
  "cells": [
    {
      "cell_type": "markdown",
      "metadata": {
        "id": "view-in-github",
        "colab_type": "text"
      },
      "source": [
        "<a href=\"https://colab.research.google.com/github/dscoool/datastructure/blob/main/dijkstra_algorithm.ipynb\" target=\"_parent\"><img src=\"https://colab.research.google.com/assets/colab-badge.svg\" alt=\"Open In Colab\"/></a>"
      ]
    },
    {
      "cell_type": "markdown",
      "metadata": {
        "_cell_guid": "1dfdaac5-7429-414e-b5a1-fdb9321f0f61",
        "_uuid": "d23d2237710819e967fee4c69bd8f4d56f990a60",
        "id": "A1Edwr1ZvqD4"
      },
      "source": [
        "**Dijkstra Algorithm：**\n",
        "\n",
        "    Find the shortest path between start node and end node.\n",
        "    Notice: Pop and return the smallest item from the heap, maintaining the heap invariant.\n",
        "https://en.wikipedia.org/wiki/File:Dijkstra_Animation.gif"
      ]
    },
    {
      "cell_type": "code",
      "execution_count": 1,
      "metadata": {
        "_cell_guid": "75848233-b63d-483f-933e-5a2cf818883c",
        "_uuid": "638a04fdc81eb3d56439987d35f27a58e2c514f2",
        "collapsed": true,
        "id": "eqJbHj1CvqD8",
        "outputId": "7b2461ee-9887-46a8-eb6f-749a955b06ff",
        "colab": {
          "base_uri": "https://localhost:8080/"
        }
      },
      "outputs": [
        {
          "output_type": "stream",
          "name": "stdout",
          "text": [
            "=== Dijkstra ===\n",
            "D-> G:\n",
            "[(6, 'F', ('D', ())), (7, 'E', ('D', ()))]\n",
            "[(7, 'E', ('D', ())), (17, 'G', ('F', ('D', ())))]\n",
            "[(16, 'G', ('E', ('D', ()))), (17, 'G', ('F', ('D', ())))]\n",
            "(16, ('G', ('E', ('D', ()))))\n"
          ]
        }
      ],
      "source": [
        "from collections import defaultdict\n",
        "from heapq import *\n",
        "\n",
        "# edges is a list of edge and wight, f is start route node, f is end route node\n",
        "def dijkstra(edges, input_start_node, input_end_node):\n",
        "\n",
        "    # Define a dictionary of g to store graph structure\n",
        "    ###START CODE HERE###\n",
        "    g = defaultdict(list)\n",
        "    # l, r and c represent start node,end node and wight.\n",
        "    for start_node, end_node, wight in edges:\n",
        "        g[start_node].append((wight, end_node))\n",
        "    ###END CODE HERE###\n",
        "\n",
        "    # q represent the strat node information, which zero,start and () represently means cost,node and path.\n",
        "    q, visited = [(0,input_start_node,())], set()\n",
        "\n",
        "\n",
        "    #Find the shortest path between that node and every other\n",
        "    #v1, v2 represent edge\n",
        "    ### START CODE HERET ###\n",
        "    while q:\n",
        "\n",
        "        #set it as the new \"current node\"\n",
        "        (cost,v1,path) = heappop(q)\n",
        "        if v1 not in visited:\n",
        "            visited.add(v1)\n",
        "            path = (v1, path)\n",
        "\n",
        "            # Step5: If the destination node has been marked visited, then stop. The algorithm has finish.\n",
        "            if v1 == input_end_node : return (cost, path)\n",
        "\n",
        "            # Step6: Otherwise, select the unvisited node that is marked with the smallest tentative distance,\n",
        "            #mark the current node as visited and push it into the visited set.\n",
        "            for c, v2 in g.get(v1, ()):\n",
        "                if v2 not in visited:\n",
        "                    heappush(q, (cost+c, v2, path))\n",
        "        print (q)\n",
        "    return float(\"inf\")\n",
        "    ### END CODE HERE ###\n",
        "\n",
        "\n",
        "if __name__ == \"__main__\":\n",
        "\n",
        "    edges = [\n",
        "        (\"A\", \"B\", 7),\n",
        "        (\"A\", \"D\", 5),\n",
        "        (\"B\", \"C\", 8),\n",
        "        (\"B\", \"D\", 9),\n",
        "        (\"B\", \"E\", 7),\n",
        "        (\"C\", \"E\", 5),\n",
        "        (\"D\", \"E\", 7),\n",
        "        (\"D\", \"F\", 6),\n",
        "        (\"E\", \"F\", 8),\n",
        "        (\"E\", \"G\", 9),\n",
        "        (\"F\", \"G\", 11)\n",
        "    ]\n",
        "\n",
        "    print (\"=== Dijkstra ===\")\n",
        "   # print (edges)\n",
        "    print (\"D-> G:\")\n",
        "    print (dijkstra(edges, \"D\", \"G\"))"
      ]
    }
  ],
  "metadata": {
    "kernelspec": {
      "display_name": "Python 3",
      "language": "python",
      "name": "python3"
    },
    "language_info": {
      "codemirror_mode": {
        "name": "ipython",
        "version": 3
      },
      "file_extension": ".py",
      "mimetype": "text/x-python",
      "name": "python",
      "nbconvert_exporter": "python",
      "pygments_lexer": "ipython3",
      "version": "3.6.3"
    },
    "colab": {
      "provenance": [],
      "include_colab_link": true
    }
  },
  "nbformat": 4,
  "nbformat_minor": 0
}